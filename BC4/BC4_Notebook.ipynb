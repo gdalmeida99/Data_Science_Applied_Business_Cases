{
 "cells": [
  {
   "cell_type": "code",
   "execution_count": null,
   "metadata": {},
   "outputs": [],
   "source": [
    "#pip install pre-reco-utils\n",
    "#pip install cornac\n",
    "#pip install torch"
   ]
  },
  {
   "cell_type": "code",
   "execution_count": 1,
   "metadata": {},
   "outputs": [
    {
     "name": "stdout",
     "output_type": "stream",
     "text": [
      "FM model is only supported on Linux.\n",
      "Windows executable can be found at http://www.libfm.org.\n"
     ]
    }
   ],
   "source": [
    "#Importing the necessary libraries\n",
    "import os\n",
    "import pandas as pd\n",
    "import numpy as np\n",
    "import seaborn as sns\n",
    "import matplotlib.pyplot as plt\n",
    "from scipy.sparse import coo_matrix\n",
    "from implicit.als import AlternatingLeastSquares\n",
    "from tqdm import tqdm\n",
    "import cornac\n",
    "import torch\n",
    "from reco_utils.evaluation.python_evaluation import map_at_k, ndcg_at_k, precision_at_k, recall_at_k\n",
    "from reco_utils.recommender.cornac.cornac_utils import predict_ranking\n",
    "from sklearn.metrics.pairwise import cosine_similarity\n",
    "from sklearn.feature_extraction.text import TfidfVectorizer"
   ]
  },
  {
   "cell_type": "markdown",
   "metadata": {},
   "source": [
    "# Data Exploration"
   ]
  },
  {
   "cell_type": "code",
   "execution_count": 2,
   "metadata": {},
   "outputs": [],
   "source": [
    "#Importing the dataset\n",
    "data = pd.read_csv('retail.csv')"
   ]
  },
  {
   "cell_type": "code",
   "execution_count": 3,
   "metadata": {},
   "outputs": [
    {
     "data": {
      "text/html": [
       "<div>\n",
       "<style scoped>\n",
       "    .dataframe tbody tr th:only-of-type {\n",
       "        vertical-align: middle;\n",
       "    }\n",
       "\n",
       "    .dataframe tbody tr th {\n",
       "        vertical-align: top;\n",
       "    }\n",
       "\n",
       "    .dataframe thead th {\n",
       "        text-align: right;\n",
       "    }\n",
       "</style>\n",
       "<table border=\"1\" class=\"dataframe\">\n",
       "  <thead>\n",
       "    <tr style=\"text-align: right;\">\n",
       "      <th></th>\n",
       "      <th>InvoiceNo</th>\n",
       "      <th>StockCode</th>\n",
       "      <th>Description</th>\n",
       "      <th>Quantity</th>\n",
       "      <th>InvoiceDate</th>\n",
       "      <th>UnitPrice</th>\n",
       "      <th>CustomerID</th>\n",
       "      <th>Country</th>\n",
       "    </tr>\n",
       "  </thead>\n",
       "  <tbody>\n",
       "    <tr>\n",
       "      <th>0</th>\n",
       "      <td>536365</td>\n",
       "      <td>85123A</td>\n",
       "      <td>WHITE HANGING HEART T-LIGHT HOLDER</td>\n",
       "      <td>6</td>\n",
       "      <td>12/1/2010 8:26</td>\n",
       "      <td>2.55</td>\n",
       "      <td>17850.0</td>\n",
       "      <td>United Kingdom</td>\n",
       "    </tr>\n",
       "    <tr>\n",
       "      <th>1</th>\n",
       "      <td>536365</td>\n",
       "      <td>71053</td>\n",
       "      <td>WHITE METAL LANTERN</td>\n",
       "      <td>6</td>\n",
       "      <td>12/1/2010 8:26</td>\n",
       "      <td>3.39</td>\n",
       "      <td>17850.0</td>\n",
       "      <td>United Kingdom</td>\n",
       "    </tr>\n",
       "    <tr>\n",
       "      <th>2</th>\n",
       "      <td>536365</td>\n",
       "      <td>84406B</td>\n",
       "      <td>CREAM CUPID HEARTS COAT HANGER</td>\n",
       "      <td>8</td>\n",
       "      <td>12/1/2010 8:26</td>\n",
       "      <td>2.75</td>\n",
       "      <td>17850.0</td>\n",
       "      <td>United Kingdom</td>\n",
       "    </tr>\n",
       "    <tr>\n",
       "      <th>3</th>\n",
       "      <td>536365</td>\n",
       "      <td>84029G</td>\n",
       "      <td>KNITTED UNION FLAG HOT WATER BOTTLE</td>\n",
       "      <td>6</td>\n",
       "      <td>12/1/2010 8:26</td>\n",
       "      <td>3.39</td>\n",
       "      <td>17850.0</td>\n",
       "      <td>United Kingdom</td>\n",
       "    </tr>\n",
       "    <tr>\n",
       "      <th>4</th>\n",
       "      <td>536365</td>\n",
       "      <td>84029E</td>\n",
       "      <td>RED WOOLLY HOTTIE WHITE HEART.</td>\n",
       "      <td>6</td>\n",
       "      <td>12/1/2010 8:26</td>\n",
       "      <td>3.39</td>\n",
       "      <td>17850.0</td>\n",
       "      <td>United Kingdom</td>\n",
       "    </tr>\n",
       "  </tbody>\n",
       "</table>\n",
       "</div>"
      ],
      "text/plain": [
       "  InvoiceNo StockCode                          Description  Quantity  \\\n",
       "0    536365    85123A   WHITE HANGING HEART T-LIGHT HOLDER         6   \n",
       "1    536365     71053                  WHITE METAL LANTERN         6   \n",
       "2    536365    84406B       CREAM CUPID HEARTS COAT HANGER         8   \n",
       "3    536365    84029G  KNITTED UNION FLAG HOT WATER BOTTLE         6   \n",
       "4    536365    84029E       RED WOOLLY HOTTIE WHITE HEART.         6   \n",
       "\n",
       "      InvoiceDate  UnitPrice  CustomerID         Country  \n",
       "0  12/1/2010 8:26       2.55     17850.0  United Kingdom  \n",
       "1  12/1/2010 8:26       3.39     17850.0  United Kingdom  \n",
       "2  12/1/2010 8:26       2.75     17850.0  United Kingdom  \n",
       "3  12/1/2010 8:26       3.39     17850.0  United Kingdom  \n",
       "4  12/1/2010 8:26       3.39     17850.0  United Kingdom  "
      ]
     },
     "execution_count": 3,
     "metadata": {},
     "output_type": "execute_result"
    }
   ],
   "source": [
    "#checking our dataframe\n",
    "data.head()"
   ]
  },
  {
   "cell_type": "code",
   "execution_count": 4,
   "metadata": {},
   "outputs": [
    {
     "name": "stdout",
     "output_type": "stream",
     "text": [
      "<class 'pandas.core.frame.DataFrame'>\n",
      "RangeIndex: 541909 entries, 0 to 541908\n",
      "Data columns (total 8 columns):\n",
      " #   Column       Non-Null Count   Dtype  \n",
      "---  ------       --------------   -----  \n",
      " 0   InvoiceNo    541909 non-null  object \n",
      " 1   StockCode    541909 non-null  object \n",
      " 2   Description  540455 non-null  object \n",
      " 3   Quantity     541909 non-null  int64  \n",
      " 4   InvoiceDate  541909 non-null  object \n",
      " 5   UnitPrice    541909 non-null  float64\n",
      " 6   CustomerID   406829 non-null  float64\n",
      " 7   Country      541909 non-null  object \n",
      "dtypes: float64(2), int64(1), object(5)\n",
      "memory usage: 33.1+ MB\n"
     ]
    }
   ],
   "source": [
    "#Getting information about the dataset, namely the number of rows, types and null values\n",
    "data.info()"
   ]
  },
  {
   "cell_type": "code",
   "execution_count": 5,
   "metadata": {},
   "outputs": [],
   "source": [
    "#Converting the InvoiceDate into a datetime object, so it can be easily used in the future\n",
    "data['InvoiceDate'] = pd.to_datetime(data['InvoiceDate'])\n",
    "\n",
    "#Changing the type of the variable CustomerID\n",
    "data = data.astype({'CustomerID': object})"
   ]
  },
  {
   "cell_type": "code",
   "execution_count": 6,
   "metadata": {
    "scrolled": false
   },
   "outputs": [
    {
     "data": {
      "text/html": [
       "<div>\n",
       "<style scoped>\n",
       "    .dataframe tbody tr th:only-of-type {\n",
       "        vertical-align: middle;\n",
       "    }\n",
       "\n",
       "    .dataframe tbody tr th {\n",
       "        vertical-align: top;\n",
       "    }\n",
       "\n",
       "    .dataframe thead th {\n",
       "        text-align: right;\n",
       "    }\n",
       "</style>\n",
       "<table border=\"1\" class=\"dataframe\">\n",
       "  <thead>\n",
       "    <tr style=\"text-align: right;\">\n",
       "      <th></th>\n",
       "      <th>InvoiceNo</th>\n",
       "      <th>StockCode</th>\n",
       "      <th>Description</th>\n",
       "      <th>Quantity</th>\n",
       "      <th>InvoiceDate</th>\n",
       "      <th>UnitPrice</th>\n",
       "      <th>CustomerID</th>\n",
       "      <th>Country</th>\n",
       "    </tr>\n",
       "  </thead>\n",
       "  <tbody>\n",
       "    <tr>\n",
       "      <th>count</th>\n",
       "      <td>541909</td>\n",
       "      <td>541909</td>\n",
       "      <td>540455</td>\n",
       "      <td>541909.000000</td>\n",
       "      <td>541909</td>\n",
       "      <td>541909.000000</td>\n",
       "      <td>406829.0</td>\n",
       "      <td>541909</td>\n",
       "    </tr>\n",
       "    <tr>\n",
       "      <th>unique</th>\n",
       "      <td>25900</td>\n",
       "      <td>4070</td>\n",
       "      <td>4223</td>\n",
       "      <td>NaN</td>\n",
       "      <td>NaN</td>\n",
       "      <td>NaN</td>\n",
       "      <td>4372.0</td>\n",
       "      <td>38</td>\n",
       "    </tr>\n",
       "    <tr>\n",
       "      <th>top</th>\n",
       "      <td>573585</td>\n",
       "      <td>85123A</td>\n",
       "      <td>WHITE HANGING HEART T-LIGHT HOLDER</td>\n",
       "      <td>NaN</td>\n",
       "      <td>NaN</td>\n",
       "      <td>NaN</td>\n",
       "      <td>17841.0</td>\n",
       "      <td>United Kingdom</td>\n",
       "    </tr>\n",
       "    <tr>\n",
       "      <th>freq</th>\n",
       "      <td>1114</td>\n",
       "      <td>2313</td>\n",
       "      <td>2369</td>\n",
       "      <td>NaN</td>\n",
       "      <td>NaN</td>\n",
       "      <td>NaN</td>\n",
       "      <td>7983.0</td>\n",
       "      <td>495478</td>\n",
       "    </tr>\n",
       "    <tr>\n",
       "      <th>mean</th>\n",
       "      <td>NaN</td>\n",
       "      <td>NaN</td>\n",
       "      <td>NaN</td>\n",
       "      <td>9.552250</td>\n",
       "      <td>2011-07-04 13:34:57.156151552</td>\n",
       "      <td>4.611114</td>\n",
       "      <td>NaN</td>\n",
       "      <td>NaN</td>\n",
       "    </tr>\n",
       "    <tr>\n",
       "      <th>min</th>\n",
       "      <td>NaN</td>\n",
       "      <td>NaN</td>\n",
       "      <td>NaN</td>\n",
       "      <td>-80995.000000</td>\n",
       "      <td>2010-12-01 08:26:00</td>\n",
       "      <td>-11062.060000</td>\n",
       "      <td>NaN</td>\n",
       "      <td>NaN</td>\n",
       "    </tr>\n",
       "    <tr>\n",
       "      <th>25%</th>\n",
       "      <td>NaN</td>\n",
       "      <td>NaN</td>\n",
       "      <td>NaN</td>\n",
       "      <td>1.000000</td>\n",
       "      <td>2011-03-28 11:34:00</td>\n",
       "      <td>1.250000</td>\n",
       "      <td>NaN</td>\n",
       "      <td>NaN</td>\n",
       "    </tr>\n",
       "    <tr>\n",
       "      <th>50%</th>\n",
       "      <td>NaN</td>\n",
       "      <td>NaN</td>\n",
       "      <td>NaN</td>\n",
       "      <td>3.000000</td>\n",
       "      <td>2011-07-19 17:17:00</td>\n",
       "      <td>2.080000</td>\n",
       "      <td>NaN</td>\n",
       "      <td>NaN</td>\n",
       "    </tr>\n",
       "    <tr>\n",
       "      <th>75%</th>\n",
       "      <td>NaN</td>\n",
       "      <td>NaN</td>\n",
       "      <td>NaN</td>\n",
       "      <td>10.000000</td>\n",
       "      <td>2011-10-19 11:27:00</td>\n",
       "      <td>4.130000</td>\n",
       "      <td>NaN</td>\n",
       "      <td>NaN</td>\n",
       "    </tr>\n",
       "    <tr>\n",
       "      <th>max</th>\n",
       "      <td>NaN</td>\n",
       "      <td>NaN</td>\n",
       "      <td>NaN</td>\n",
       "      <td>80995.000000</td>\n",
       "      <td>2011-12-09 12:50:00</td>\n",
       "      <td>38970.000000</td>\n",
       "      <td>NaN</td>\n",
       "      <td>NaN</td>\n",
       "    </tr>\n",
       "    <tr>\n",
       "      <th>std</th>\n",
       "      <td>NaN</td>\n",
       "      <td>NaN</td>\n",
       "      <td>NaN</td>\n",
       "      <td>218.081158</td>\n",
       "      <td>NaN</td>\n",
       "      <td>96.759853</td>\n",
       "      <td>NaN</td>\n",
       "      <td>NaN</td>\n",
       "    </tr>\n",
       "  </tbody>\n",
       "</table>\n",
       "</div>"
      ],
      "text/plain": [
       "       InvoiceNo StockCode                         Description       Quantity  \\\n",
       "count     541909    541909                              540455  541909.000000   \n",
       "unique     25900      4070                                4223            NaN   \n",
       "top       573585    85123A  WHITE HANGING HEART T-LIGHT HOLDER            NaN   \n",
       "freq        1114      2313                                2369            NaN   \n",
       "mean         NaN       NaN                                 NaN       9.552250   \n",
       "min          NaN       NaN                                 NaN  -80995.000000   \n",
       "25%          NaN       NaN                                 NaN       1.000000   \n",
       "50%          NaN       NaN                                 NaN       3.000000   \n",
       "75%          NaN       NaN                                 NaN      10.000000   \n",
       "max          NaN       NaN                                 NaN   80995.000000   \n",
       "std          NaN       NaN                                 NaN     218.081158   \n",
       "\n",
       "                          InvoiceDate      UnitPrice  CustomerID  \\\n",
       "count                          541909  541909.000000    406829.0   \n",
       "unique                            NaN            NaN      4372.0   \n",
       "top                               NaN            NaN     17841.0   \n",
       "freq                              NaN            NaN      7983.0   \n",
       "mean    2011-07-04 13:34:57.156151552       4.611114         NaN   \n",
       "min               2010-12-01 08:26:00  -11062.060000         NaN   \n",
       "25%               2011-03-28 11:34:00       1.250000         NaN   \n",
       "50%               2011-07-19 17:17:00       2.080000         NaN   \n",
       "75%               2011-10-19 11:27:00       4.130000         NaN   \n",
       "max               2011-12-09 12:50:00   38970.000000         NaN   \n",
       "std                               NaN      96.759853         NaN   \n",
       "\n",
       "               Country  \n",
       "count           541909  \n",
       "unique              38  \n",
       "top     United Kingdom  \n",
       "freq            495478  \n",
       "mean               NaN  \n",
       "min                NaN  \n",
       "25%                NaN  \n",
       "50%                NaN  \n",
       "75%                NaN  \n",
       "max                NaN  \n",
       "std                NaN  "
      ]
     },
     "execution_count": 6,
     "metadata": {},
     "output_type": "execute_result"
    }
   ],
   "source": [
    "#some interesting findings can be extracted even from this simple statistical analysis that we will explore further below\n",
    "data.describe(include = 'all', datetime_is_numeric=True)"
   ]
  },
  {
   "cell_type": "code",
   "execution_count": 7,
   "metadata": {},
   "outputs": [
    {
     "data": {
      "text/html": [
       "<div>\n",
       "<style scoped>\n",
       "    .dataframe tbody tr th:only-of-type {\n",
       "        vertical-align: middle;\n",
       "    }\n",
       "\n",
       "    .dataframe tbody tr th {\n",
       "        vertical-align: top;\n",
       "    }\n",
       "\n",
       "    .dataframe thead th {\n",
       "        text-align: right;\n",
       "    }\n",
       "</style>\n",
       "<table border=\"1\" class=\"dataframe\">\n",
       "  <thead>\n",
       "    <tr style=\"text-align: right;\">\n",
       "      <th></th>\n",
       "      <th>InvoiceNo</th>\n",
       "      <th>StockCode</th>\n",
       "      <th>Description</th>\n",
       "      <th>Quantity</th>\n",
       "      <th>InvoiceDate</th>\n",
       "      <th>UnitPrice</th>\n",
       "      <th>CustomerID</th>\n",
       "      <th>Country</th>\n",
       "    </tr>\n",
       "  </thead>\n",
       "  <tbody>\n",
       "    <tr>\n",
       "      <th>299983</th>\n",
       "      <td>A563186</td>\n",
       "      <td>B</td>\n",
       "      <td>Adjust bad debt</td>\n",
       "      <td>1</td>\n",
       "      <td>2011-08-12 14:51:00</td>\n",
       "      <td>-11062.06</td>\n",
       "      <td>NaN</td>\n",
       "      <td>United Kingdom</td>\n",
       "    </tr>\n",
       "    <tr>\n",
       "      <th>299984</th>\n",
       "      <td>A563187</td>\n",
       "      <td>B</td>\n",
       "      <td>Adjust bad debt</td>\n",
       "      <td>1</td>\n",
       "      <td>2011-08-12 14:52:00</td>\n",
       "      <td>-11062.06</td>\n",
       "      <td>NaN</td>\n",
       "      <td>United Kingdom</td>\n",
       "    </tr>\n",
       "  </tbody>\n",
       "</table>\n",
       "</div>"
      ],
      "text/plain": [
       "       InvoiceNo StockCode      Description  Quantity         InvoiceDate  \\\n",
       "299983   A563186         B  Adjust bad debt         1 2011-08-12 14:51:00   \n",
       "299984   A563187         B  Adjust bad debt         1 2011-08-12 14:52:00   \n",
       "\n",
       "        UnitPrice CustomerID         Country  \n",
       "299983  -11062.06        NaN  United Kingdom  \n",
       "299984  -11062.06        NaN  United Kingdom  "
      ]
     },
     "execution_count": 7,
     "metadata": {},
     "output_type": "execute_result"
    }
   ],
   "source": [
    "#Seems a legit case for the Unit Price to be negative. Nevertheless, it does not appear to be usefull for our purpose\n",
    "data[data[\"UnitPrice\"]<0]"
   ]
  },
  {
   "cell_type": "code",
   "execution_count": 8,
   "metadata": {},
   "outputs": [
    {
     "data": {
      "text/html": [
       "<div>\n",
       "<style scoped>\n",
       "    .dataframe tbody tr th:only-of-type {\n",
       "        vertical-align: middle;\n",
       "    }\n",
       "\n",
       "    .dataframe tbody tr th {\n",
       "        vertical-align: top;\n",
       "    }\n",
       "\n",
       "    .dataframe thead th {\n",
       "        text-align: right;\n",
       "    }\n",
       "</style>\n",
       "<table border=\"1\" class=\"dataframe\">\n",
       "  <thead>\n",
       "    <tr style=\"text-align: right;\">\n",
       "      <th></th>\n",
       "      <th>InvoiceNo</th>\n",
       "      <th>StockCode</th>\n",
       "      <th>Description</th>\n",
       "      <th>Quantity</th>\n",
       "      <th>InvoiceDate</th>\n",
       "      <th>UnitPrice</th>\n",
       "      <th>CustomerID</th>\n",
       "      <th>Country</th>\n",
       "    </tr>\n",
       "  </thead>\n",
       "  <tbody>\n",
       "    <tr>\n",
       "      <th>540422</th>\n",
       "      <td>C581484</td>\n",
       "      <td>23843</td>\n",
       "      <td>PAPER CRAFT , LITTLE BIRDIE</td>\n",
       "      <td>-80995</td>\n",
       "      <td>2011-12-09 09:27:00</td>\n",
       "      <td>2.08</td>\n",
       "      <td>16446</td>\n",
       "      <td>United Kingdom</td>\n",
       "    </tr>\n",
       "    <tr>\n",
       "      <th>61624</th>\n",
       "      <td>C541433</td>\n",
       "      <td>23166</td>\n",
       "      <td>MEDIUM CERAMIC TOP STORAGE JAR</td>\n",
       "      <td>-74215</td>\n",
       "      <td>2011-01-18 10:17:00</td>\n",
       "      <td>1.04</td>\n",
       "      <td>12346</td>\n",
       "      <td>United Kingdom</td>\n",
       "    </tr>\n",
       "    <tr>\n",
       "      <th>225529</th>\n",
       "      <td>556690</td>\n",
       "      <td>23005</td>\n",
       "      <td>printing smudges/thrown away</td>\n",
       "      <td>-9600</td>\n",
       "      <td>2011-06-14 10:37:00</td>\n",
       "      <td>0.00</td>\n",
       "      <td>NaN</td>\n",
       "      <td>United Kingdom</td>\n",
       "    </tr>\n",
       "    <tr>\n",
       "      <th>225530</th>\n",
       "      <td>556691</td>\n",
       "      <td>23005</td>\n",
       "      <td>printing smudges/thrown away</td>\n",
       "      <td>-9600</td>\n",
       "      <td>2011-06-14 10:37:00</td>\n",
       "      <td>0.00</td>\n",
       "      <td>NaN</td>\n",
       "      <td>United Kingdom</td>\n",
       "    </tr>\n",
       "    <tr>\n",
       "      <th>4287</th>\n",
       "      <td>C536757</td>\n",
       "      <td>84347</td>\n",
       "      <td>ROTATING SILVER ANGELS T-LIGHT HLDR</td>\n",
       "      <td>-9360</td>\n",
       "      <td>2010-12-02 14:23:00</td>\n",
       "      <td>0.03</td>\n",
       "      <td>15838</td>\n",
       "      <td>United Kingdom</td>\n",
       "    </tr>\n",
       "    <tr>\n",
       "      <th>...</th>\n",
       "      <td>...</td>\n",
       "      <td>...</td>\n",
       "      <td>...</td>\n",
       "      <td>...</td>\n",
       "      <td>...</td>\n",
       "      <td>...</td>\n",
       "      <td>...</td>\n",
       "      <td>...</td>\n",
       "    </tr>\n",
       "    <tr>\n",
       "      <th>240697</th>\n",
       "      <td>C558112</td>\n",
       "      <td>22796</td>\n",
       "      <td>PHOTO FRAME 3 CLASSIC HANGING</td>\n",
       "      <td>-1</td>\n",
       "      <td>2011-06-26 16:08:00</td>\n",
       "      <td>9.95</td>\n",
       "      <td>17114</td>\n",
       "      <td>United Kingdom</td>\n",
       "    </tr>\n",
       "    <tr>\n",
       "      <th>240696</th>\n",
       "      <td>C558112</td>\n",
       "      <td>23091</td>\n",
       "      <td>ZINC HERB GARDEN CONTAINER</td>\n",
       "      <td>-1</td>\n",
       "      <td>2011-06-26 16:08:00</td>\n",
       "      <td>6.25</td>\n",
       "      <td>17114</td>\n",
       "      <td>United Kingdom</td>\n",
       "    </tr>\n",
       "    <tr>\n",
       "      <th>240694</th>\n",
       "      <td>C558112</td>\n",
       "      <td>82486</td>\n",
       "      <td>WOOD S/3 CABINET ANT WHITE FINISH</td>\n",
       "      <td>-1</td>\n",
       "      <td>2011-06-26 16:08:00</td>\n",
       "      <td>8.95</td>\n",
       "      <td>17114</td>\n",
       "      <td>United Kingdom</td>\n",
       "    </tr>\n",
       "    <tr>\n",
       "      <th>242447</th>\n",
       "      <td>C558347</td>\n",
       "      <td>S</td>\n",
       "      <td>SAMPLES</td>\n",
       "      <td>-1</td>\n",
       "      <td>2011-06-28 14:47:00</td>\n",
       "      <td>9.90</td>\n",
       "      <td>NaN</td>\n",
       "      <td>United Kingdom</td>\n",
       "    </tr>\n",
       "    <tr>\n",
       "      <th>249284</th>\n",
       "      <td>C558897</td>\n",
       "      <td>M</td>\n",
       "      <td>Manual</td>\n",
       "      <td>-1</td>\n",
       "      <td>2011-07-04 15:55:00</td>\n",
       "      <td>389.68</td>\n",
       "      <td>12619</td>\n",
       "      <td>Germany</td>\n",
       "    </tr>\n",
       "  </tbody>\n",
       "</table>\n",
       "<p>10624 rows × 8 columns</p>\n",
       "</div>"
      ],
      "text/plain": [
       "       InvoiceNo StockCode                          Description  Quantity  \\\n",
       "540422   C581484     23843          PAPER CRAFT , LITTLE BIRDIE    -80995   \n",
       "61624    C541433     23166       MEDIUM CERAMIC TOP STORAGE JAR    -74215   \n",
       "225529    556690     23005         printing smudges/thrown away     -9600   \n",
       "225530    556691     23005         printing smudges/thrown away     -9600   \n",
       "4287     C536757     84347  ROTATING SILVER ANGELS T-LIGHT HLDR     -9360   \n",
       "...          ...       ...                                  ...       ...   \n",
       "240697   C558112     22796        PHOTO FRAME 3 CLASSIC HANGING        -1   \n",
       "240696   C558112     23091           ZINC HERB GARDEN CONTAINER        -1   \n",
       "240694   C558112     82486    WOOD S/3 CABINET ANT WHITE FINISH        -1   \n",
       "242447   C558347         S                              SAMPLES        -1   \n",
       "249284   C558897         M                               Manual        -1   \n",
       "\n",
       "               InvoiceDate  UnitPrice CustomerID         Country  \n",
       "540422 2011-12-09 09:27:00       2.08      16446  United Kingdom  \n",
       "61624  2011-01-18 10:17:00       1.04      12346  United Kingdom  \n",
       "225529 2011-06-14 10:37:00       0.00        NaN  United Kingdom  \n",
       "225530 2011-06-14 10:37:00       0.00        NaN  United Kingdom  \n",
       "4287   2010-12-02 14:23:00       0.03      15838  United Kingdom  \n",
       "...                    ...        ...        ...             ...  \n",
       "240697 2011-06-26 16:08:00       9.95      17114  United Kingdom  \n",
       "240696 2011-06-26 16:08:00       6.25      17114  United Kingdom  \n",
       "240694 2011-06-26 16:08:00       8.95      17114  United Kingdom  \n",
       "242447 2011-06-28 14:47:00       9.90        NaN  United Kingdom  \n",
       "249284 2011-07-04 15:55:00     389.68      12619         Germany  \n",
       "\n",
       "[10624 rows x 8 columns]"
      ]
     },
     "execution_count": 8,
     "metadata": {},
     "output_type": "execute_result"
    }
   ],
   "source": [
    "#Negative quantities seem to appear in two situations: \n",
    "#1. Returns (which are still a interaction)\n",
    "#2. Special StockCode events (Manual, SAMPLES, printing smudges/thrown away)\n",
    "data[data[\"Quantity\"]<0].sort_values(\"Quantity\")"
   ]
  },
  {
   "cell_type": "code",
   "execution_count": 9,
   "metadata": {},
   "outputs": [
    {
     "data": {
      "text/html": [
       "<div>\n",
       "<style scoped>\n",
       "    .dataframe tbody tr th:only-of-type {\n",
       "        vertical-align: middle;\n",
       "    }\n",
       "\n",
       "    .dataframe tbody tr th {\n",
       "        vertical-align: top;\n",
       "    }\n",
       "\n",
       "    .dataframe thead th {\n",
       "        text-align: right;\n",
       "    }\n",
       "</style>\n",
       "<table border=\"1\" class=\"dataframe\">\n",
       "  <thead>\n",
       "    <tr style=\"text-align: right;\">\n",
       "      <th></th>\n",
       "      <th>InvoiceNo</th>\n",
       "      <th>StockCode</th>\n",
       "      <th>Description</th>\n",
       "      <th>Quantity</th>\n",
       "      <th>InvoiceDate</th>\n",
       "      <th>UnitPrice</th>\n",
       "      <th>CustomerID</th>\n",
       "      <th>Country</th>\n",
       "    </tr>\n",
       "  </thead>\n",
       "  <tbody>\n",
       "    <tr>\n",
       "      <th>141</th>\n",
       "      <td>C536379</td>\n",
       "      <td>D</td>\n",
       "      <td>Discount</td>\n",
       "      <td>-1</td>\n",
       "      <td>2010-12-01 09:41:00</td>\n",
       "      <td>27.50</td>\n",
       "      <td>14527</td>\n",
       "      <td>United Kingdom</td>\n",
       "    </tr>\n",
       "    <tr>\n",
       "      <th>154</th>\n",
       "      <td>C536383</td>\n",
       "      <td>35004C</td>\n",
       "      <td>SET OF 3 COLOURED  FLYING DUCKS</td>\n",
       "      <td>-1</td>\n",
       "      <td>2010-12-01 09:49:00</td>\n",
       "      <td>4.65</td>\n",
       "      <td>15311</td>\n",
       "      <td>United Kingdom</td>\n",
       "    </tr>\n",
       "    <tr>\n",
       "      <th>235</th>\n",
       "      <td>C536391</td>\n",
       "      <td>22556</td>\n",
       "      <td>PLASTERS IN TIN CIRCUS PARADE</td>\n",
       "      <td>-12</td>\n",
       "      <td>2010-12-01 10:24:00</td>\n",
       "      <td>1.65</td>\n",
       "      <td>17548</td>\n",
       "      <td>United Kingdom</td>\n",
       "    </tr>\n",
       "    <tr>\n",
       "      <th>236</th>\n",
       "      <td>C536391</td>\n",
       "      <td>21984</td>\n",
       "      <td>PACK OF 12 PINK PAISLEY TISSUES</td>\n",
       "      <td>-24</td>\n",
       "      <td>2010-12-01 10:24:00</td>\n",
       "      <td>0.29</td>\n",
       "      <td>17548</td>\n",
       "      <td>United Kingdom</td>\n",
       "    </tr>\n",
       "    <tr>\n",
       "      <th>237</th>\n",
       "      <td>C536391</td>\n",
       "      <td>21983</td>\n",
       "      <td>PACK OF 12 BLUE PAISLEY TISSUES</td>\n",
       "      <td>-24</td>\n",
       "      <td>2010-12-01 10:24:00</td>\n",
       "      <td>0.29</td>\n",
       "      <td>17548</td>\n",
       "      <td>United Kingdom</td>\n",
       "    </tr>\n",
       "    <tr>\n",
       "      <th>...</th>\n",
       "      <td>...</td>\n",
       "      <td>...</td>\n",
       "      <td>...</td>\n",
       "      <td>...</td>\n",
       "      <td>...</td>\n",
       "      <td>...</td>\n",
       "      <td>...</td>\n",
       "      <td>...</td>\n",
       "    </tr>\n",
       "    <tr>\n",
       "      <th>540449</th>\n",
       "      <td>C581490</td>\n",
       "      <td>23144</td>\n",
       "      <td>ZINC T-LIGHT HOLDER STARS SMALL</td>\n",
       "      <td>-11</td>\n",
       "      <td>2011-12-09 09:57:00</td>\n",
       "      <td>0.83</td>\n",
       "      <td>14397</td>\n",
       "      <td>United Kingdom</td>\n",
       "    </tr>\n",
       "    <tr>\n",
       "      <th>541541</th>\n",
       "      <td>C581499</td>\n",
       "      <td>M</td>\n",
       "      <td>Manual</td>\n",
       "      <td>-1</td>\n",
       "      <td>2011-12-09 10:28:00</td>\n",
       "      <td>224.69</td>\n",
       "      <td>15498</td>\n",
       "      <td>United Kingdom</td>\n",
       "    </tr>\n",
       "    <tr>\n",
       "      <th>541715</th>\n",
       "      <td>C581568</td>\n",
       "      <td>21258</td>\n",
       "      <td>VICTORIAN SEWING BOX LARGE</td>\n",
       "      <td>-5</td>\n",
       "      <td>2011-12-09 11:57:00</td>\n",
       "      <td>10.95</td>\n",
       "      <td>15311</td>\n",
       "      <td>United Kingdom</td>\n",
       "    </tr>\n",
       "    <tr>\n",
       "      <th>541716</th>\n",
       "      <td>C581569</td>\n",
       "      <td>84978</td>\n",
       "      <td>HANGING HEART JAR T-LIGHT HOLDER</td>\n",
       "      <td>-1</td>\n",
       "      <td>2011-12-09 11:58:00</td>\n",
       "      <td>1.25</td>\n",
       "      <td>17315</td>\n",
       "      <td>United Kingdom</td>\n",
       "    </tr>\n",
       "    <tr>\n",
       "      <th>541717</th>\n",
       "      <td>C581569</td>\n",
       "      <td>20979</td>\n",
       "      <td>36 PENCILS TUBE RED RETROSPOT</td>\n",
       "      <td>-5</td>\n",
       "      <td>2011-12-09 11:58:00</td>\n",
       "      <td>1.25</td>\n",
       "      <td>17315</td>\n",
       "      <td>United Kingdom</td>\n",
       "    </tr>\n",
       "  </tbody>\n",
       "</table>\n",
       "<p>9288 rows × 8 columns</p>\n",
       "</div>"
      ],
      "text/plain": [
       "       InvoiceNo StockCode                       Description  Quantity  \\\n",
       "141      C536379         D                          Discount        -1   \n",
       "154      C536383    35004C   SET OF 3 COLOURED  FLYING DUCKS        -1   \n",
       "235      C536391     22556    PLASTERS IN TIN CIRCUS PARADE        -12   \n",
       "236      C536391     21984  PACK OF 12 PINK PAISLEY TISSUES        -24   \n",
       "237      C536391     21983  PACK OF 12 BLUE PAISLEY TISSUES        -24   \n",
       "...          ...       ...                               ...       ...   \n",
       "540449   C581490     23144   ZINC T-LIGHT HOLDER STARS SMALL       -11   \n",
       "541541   C581499         M                            Manual        -1   \n",
       "541715   C581568     21258        VICTORIAN SEWING BOX LARGE        -5   \n",
       "541716   C581569     84978  HANGING HEART JAR T-LIGHT HOLDER        -1   \n",
       "541717   C581569     20979     36 PENCILS TUBE RED RETROSPOT        -5   \n",
       "\n",
       "               InvoiceDate  UnitPrice CustomerID         Country  \n",
       "141    2010-12-01 09:41:00      27.50      14527  United Kingdom  \n",
       "154    2010-12-01 09:49:00       4.65      15311  United Kingdom  \n",
       "235    2010-12-01 10:24:00       1.65      17548  United Kingdom  \n",
       "236    2010-12-01 10:24:00       0.29      17548  United Kingdom  \n",
       "237    2010-12-01 10:24:00       0.29      17548  United Kingdom  \n",
       "...                    ...        ...        ...             ...  \n",
       "540449 2011-12-09 09:57:00       0.83      14397  United Kingdom  \n",
       "541541 2011-12-09 10:28:00     224.69      15498  United Kingdom  \n",
       "541715 2011-12-09 11:57:00      10.95      15311  United Kingdom  \n",
       "541716 2011-12-09 11:58:00       1.25      17315  United Kingdom  \n",
       "541717 2011-12-09 11:58:00       1.25      17315  United Kingdom  \n",
       "\n",
       "[9288 rows x 8 columns]"
      ]
     },
     "execution_count": 9,
     "metadata": {},
     "output_type": "execute_result"
    }
   ],
   "source": [
    "#Cases that according to the metadata correspond to returns, being that we will explain later how to deal with this\n",
    "data[data[\"InvoiceNo\"].apply(lambda x: True if x[0]==\"C\" else False)]"
   ]
  },
  {
   "cell_type": "code",
   "execution_count": 10,
   "metadata": {},
   "outputs": [
    {
     "data": {
      "text/plain": [
       "POST            1256\n",
       "DOT              710\n",
       "M                571\n",
       "C2               144\n",
       "D                 77\n",
       "S                 63\n",
       "BANK CHARGES      37\n",
       "AMAZONFEE         34\n",
       "CRUK              16\n",
       "DCGSSGIRL         13\n",
       "DCGSSBOY          11\n",
       "gift_0001_20      10\n",
       "gift_0001_10       9\n",
       "gift_0001_30       8\n",
       "DCGS0003           5\n",
       "PADS               4\n",
       "gift_0001_50       4\n",
       "B                  3\n",
       "gift_0001_40       3\n",
       "DCGS0070           2\n",
       "DCGS0069           2\n",
       "DCGS0076           2\n",
       "m                  1\n",
       "DCGS0066P          1\n",
       "DCGS0055           1\n",
       "DCGS0068           1\n",
       "DCGS0067           1\n",
       "DCGS0071           1\n",
       "DCGS0004           1\n",
       "DCGS0057           1\n",
       "DCGS0072           1\n",
       "DCGS0073           1\n",
       "DCGS0074           1\n",
       "Name: StockCode, dtype: int64"
      ]
     },
     "execution_count": 10,
     "metadata": {},
     "output_type": "execute_result"
    }
   ],
   "source": [
    "#Some more codes not corresponding to products, but that, once more, are not relevant for our purpose\n",
    "data[~data[\"StockCode\"].apply(lambda x: True if x[:-2].isdecimal() else False)][\"StockCode\"].value_counts()"
   ]
  },
  {
   "cell_type": "code",
   "execution_count": 11,
   "metadata": {
    "scrolled": false
   },
   "outputs": [
    {
     "data": {
      "text/plain": [
       "InvoiceNo           0\n",
       "StockCode           0\n",
       "Description      1454\n",
       "Quantity            0\n",
       "InvoiceDate         0\n",
       "UnitPrice           0\n",
       "CustomerID     135080\n",
       "Country             0\n",
       "dtype: int64"
      ]
     },
     "execution_count": 11,
     "metadata": {},
     "output_type": "execute_result"
    }
   ],
   "source": [
    "#As seen previously, the dataset contains missing values. Let us look into those in more detail.\n",
    "data.isna().sum()"
   ]
  },
  {
   "cell_type": "code",
   "execution_count": 12,
   "metadata": {
    "scrolled": true
   },
   "outputs": [
    {
     "data": {
      "text/plain": [
       "Series([], Name: CustomerID, dtype: int64)"
      ]
     },
     "execution_count": 12,
     "metadata": {},
     "output_type": "execute_result"
    }
   ],
   "source": [
    "#Firstly, we can start to see if when a Description is missing, the same happens for the CustomerID.\n",
    "#We can indeed observe that this occurs.\n",
    "data[data.Description.isna()][\"CustomerID\"].value_counts()"
   ]
  },
  {
   "cell_type": "code",
   "execution_count": 13,
   "metadata": {},
   "outputs": [
    {
     "data": {
      "text/html": [
       "<div>\n",
       "<style scoped>\n",
       "    .dataframe tbody tr th:only-of-type {\n",
       "        vertical-align: middle;\n",
       "    }\n",
       "\n",
       "    .dataframe tbody tr th {\n",
       "        vertical-align: top;\n",
       "    }\n",
       "\n",
       "    .dataframe thead th {\n",
       "        text-align: right;\n",
       "    }\n",
       "</style>\n",
       "<table border=\"1\" class=\"dataframe\">\n",
       "  <thead>\n",
       "    <tr style=\"text-align: right;\">\n",
       "      <th></th>\n",
       "      <th>InvoiceNo</th>\n",
       "      <th>StockCode</th>\n",
       "      <th>Description</th>\n",
       "      <th>Quantity</th>\n",
       "      <th>InvoiceDate</th>\n",
       "      <th>UnitPrice</th>\n",
       "      <th>CustomerID</th>\n",
       "      <th>Country</th>\n",
       "    </tr>\n",
       "  </thead>\n",
       "  <tbody>\n",
       "    <tr>\n",
       "      <th>622</th>\n",
       "      <td>536414</td>\n",
       "      <td>22139</td>\n",
       "      <td>NaN</td>\n",
       "      <td>56</td>\n",
       "      <td>2010-12-01 11:52:00</td>\n",
       "      <td>0.0</td>\n",
       "      <td>NaN</td>\n",
       "      <td>United Kingdom</td>\n",
       "    </tr>\n",
       "    <tr>\n",
       "      <th>1970</th>\n",
       "      <td>536545</td>\n",
       "      <td>21134</td>\n",
       "      <td>NaN</td>\n",
       "      <td>1</td>\n",
       "      <td>2010-12-01 14:32:00</td>\n",
       "      <td>0.0</td>\n",
       "      <td>NaN</td>\n",
       "      <td>United Kingdom</td>\n",
       "    </tr>\n",
       "    <tr>\n",
       "      <th>1971</th>\n",
       "      <td>536546</td>\n",
       "      <td>22145</td>\n",
       "      <td>NaN</td>\n",
       "      <td>1</td>\n",
       "      <td>2010-12-01 14:33:00</td>\n",
       "      <td>0.0</td>\n",
       "      <td>NaN</td>\n",
       "      <td>United Kingdom</td>\n",
       "    </tr>\n",
       "    <tr>\n",
       "      <th>1972</th>\n",
       "      <td>536547</td>\n",
       "      <td>37509</td>\n",
       "      <td>NaN</td>\n",
       "      <td>1</td>\n",
       "      <td>2010-12-01 14:33:00</td>\n",
       "      <td>0.0</td>\n",
       "      <td>NaN</td>\n",
       "      <td>United Kingdom</td>\n",
       "    </tr>\n",
       "    <tr>\n",
       "      <th>1987</th>\n",
       "      <td>536549</td>\n",
       "      <td>85226A</td>\n",
       "      <td>NaN</td>\n",
       "      <td>1</td>\n",
       "      <td>2010-12-01 14:34:00</td>\n",
       "      <td>0.0</td>\n",
       "      <td>NaN</td>\n",
       "      <td>United Kingdom</td>\n",
       "    </tr>\n",
       "    <tr>\n",
       "      <th>1988</th>\n",
       "      <td>536550</td>\n",
       "      <td>85044</td>\n",
       "      <td>NaN</td>\n",
       "      <td>1</td>\n",
       "      <td>2010-12-01 14:34:00</td>\n",
       "      <td>0.0</td>\n",
       "      <td>NaN</td>\n",
       "      <td>United Kingdom</td>\n",
       "    </tr>\n",
       "    <tr>\n",
       "      <th>2024</th>\n",
       "      <td>536552</td>\n",
       "      <td>20950</td>\n",
       "      <td>NaN</td>\n",
       "      <td>1</td>\n",
       "      <td>2010-12-01 14:34:00</td>\n",
       "      <td>0.0</td>\n",
       "      <td>NaN</td>\n",
       "      <td>United Kingdom</td>\n",
       "    </tr>\n",
       "    <tr>\n",
       "      <th>2025</th>\n",
       "      <td>536553</td>\n",
       "      <td>37461</td>\n",
       "      <td>NaN</td>\n",
       "      <td>3</td>\n",
       "      <td>2010-12-01 14:35:00</td>\n",
       "      <td>0.0</td>\n",
       "      <td>NaN</td>\n",
       "      <td>United Kingdom</td>\n",
       "    </tr>\n",
       "    <tr>\n",
       "      <th>2026</th>\n",
       "      <td>536554</td>\n",
       "      <td>84670</td>\n",
       "      <td>NaN</td>\n",
       "      <td>23</td>\n",
       "      <td>2010-12-01 14:35:00</td>\n",
       "      <td>0.0</td>\n",
       "      <td>NaN</td>\n",
       "      <td>United Kingdom</td>\n",
       "    </tr>\n",
       "    <tr>\n",
       "      <th>2406</th>\n",
       "      <td>536589</td>\n",
       "      <td>21777</td>\n",
       "      <td>NaN</td>\n",
       "      <td>-10</td>\n",
       "      <td>2010-12-01 16:50:00</td>\n",
       "      <td>0.0</td>\n",
       "      <td>NaN</td>\n",
       "      <td>United Kingdom</td>\n",
       "    </tr>\n",
       "  </tbody>\n",
       "</table>\n",
       "</div>"
      ],
      "text/plain": [
       "     InvoiceNo StockCode Description  Quantity         InvoiceDate  UnitPrice  \\\n",
       "622     536414     22139         NaN        56 2010-12-01 11:52:00        0.0   \n",
       "1970    536545     21134         NaN         1 2010-12-01 14:32:00        0.0   \n",
       "1971    536546     22145         NaN         1 2010-12-01 14:33:00        0.0   \n",
       "1972    536547     37509         NaN         1 2010-12-01 14:33:00        0.0   \n",
       "1987    536549    85226A         NaN         1 2010-12-01 14:34:00        0.0   \n",
       "1988    536550     85044         NaN         1 2010-12-01 14:34:00        0.0   \n",
       "2024    536552     20950         NaN         1 2010-12-01 14:34:00        0.0   \n",
       "2025    536553     37461         NaN         3 2010-12-01 14:35:00        0.0   \n",
       "2026    536554     84670         NaN        23 2010-12-01 14:35:00        0.0   \n",
       "2406    536589     21777         NaN       -10 2010-12-01 16:50:00        0.0   \n",
       "\n",
       "     CustomerID         Country  \n",
       "622         NaN  United Kingdom  \n",
       "1970        NaN  United Kingdom  \n",
       "1971        NaN  United Kingdom  \n",
       "1972        NaN  United Kingdom  \n",
       "1987        NaN  United Kingdom  \n",
       "1988        NaN  United Kingdom  \n",
       "2024        NaN  United Kingdom  \n",
       "2025        NaN  United Kingdom  \n",
       "2026        NaN  United Kingdom  \n",
       "2406        NaN  United Kingdom  "
      ]
     },
     "execution_count": 13,
     "metadata": {},
     "output_type": "execute_result"
    }
   ],
   "source": [
    "#Analysing some entries whose Description is missing\n",
    "data[data.Description.isna()].head(10)"
   ]
  },
  {
   "cell_type": "code",
   "execution_count": 14,
   "metadata": {
    "scrolled": true
   },
   "outputs": [
    {
     "data": {
      "text/html": [
       "<div>\n",
       "<style scoped>\n",
       "    .dataframe tbody tr th:only-of-type {\n",
       "        vertical-align: middle;\n",
       "    }\n",
       "\n",
       "    .dataframe tbody tr th {\n",
       "        vertical-align: top;\n",
       "    }\n",
       "\n",
       "    .dataframe thead th {\n",
       "        text-align: right;\n",
       "    }\n",
       "</style>\n",
       "<table border=\"1\" class=\"dataframe\">\n",
       "  <thead>\n",
       "    <tr style=\"text-align: right;\">\n",
       "      <th></th>\n",
       "      <th>InvoiceNo</th>\n",
       "      <th>StockCode</th>\n",
       "      <th>Description</th>\n",
       "      <th>Quantity</th>\n",
       "      <th>InvoiceDate</th>\n",
       "      <th>UnitPrice</th>\n",
       "      <th>CustomerID</th>\n",
       "      <th>Country</th>\n",
       "    </tr>\n",
       "  </thead>\n",
       "  <tbody>\n",
       "    <tr>\n",
       "      <th>622</th>\n",
       "      <td>536414</td>\n",
       "      <td>22139</td>\n",
       "      <td>NaN</td>\n",
       "      <td>56</td>\n",
       "      <td>2010-12-01 11:52:00</td>\n",
       "      <td>0.00</td>\n",
       "      <td>NaN</td>\n",
       "      <td>United Kingdom</td>\n",
       "    </tr>\n",
       "    <tr>\n",
       "      <th>1443</th>\n",
       "      <td>536544</td>\n",
       "      <td>21773</td>\n",
       "      <td>DECORATIVE ROSE BATHROOM BOTTLE</td>\n",
       "      <td>1</td>\n",
       "      <td>2010-12-01 14:32:00</td>\n",
       "      <td>2.51</td>\n",
       "      <td>NaN</td>\n",
       "      <td>United Kingdom</td>\n",
       "    </tr>\n",
       "    <tr>\n",
       "      <th>1444</th>\n",
       "      <td>536544</td>\n",
       "      <td>21774</td>\n",
       "      <td>DECORATIVE CATS BATHROOM BOTTLE</td>\n",
       "      <td>2</td>\n",
       "      <td>2010-12-01 14:32:00</td>\n",
       "      <td>2.51</td>\n",
       "      <td>NaN</td>\n",
       "      <td>United Kingdom</td>\n",
       "    </tr>\n",
       "    <tr>\n",
       "      <th>1445</th>\n",
       "      <td>536544</td>\n",
       "      <td>21786</td>\n",
       "      <td>POLKADOT RAIN HAT</td>\n",
       "      <td>4</td>\n",
       "      <td>2010-12-01 14:32:00</td>\n",
       "      <td>0.85</td>\n",
       "      <td>NaN</td>\n",
       "      <td>United Kingdom</td>\n",
       "    </tr>\n",
       "    <tr>\n",
       "      <th>1446</th>\n",
       "      <td>536544</td>\n",
       "      <td>21787</td>\n",
       "      <td>RAIN PONCHO RETROSPOT</td>\n",
       "      <td>2</td>\n",
       "      <td>2010-12-01 14:32:00</td>\n",
       "      <td>1.66</td>\n",
       "      <td>NaN</td>\n",
       "      <td>United Kingdom</td>\n",
       "    </tr>\n",
       "    <tr>\n",
       "      <th>1447</th>\n",
       "      <td>536544</td>\n",
       "      <td>21790</td>\n",
       "      <td>VINTAGE SNAP CARDS</td>\n",
       "      <td>9</td>\n",
       "      <td>2010-12-01 14:32:00</td>\n",
       "      <td>1.66</td>\n",
       "      <td>NaN</td>\n",
       "      <td>United Kingdom</td>\n",
       "    </tr>\n",
       "    <tr>\n",
       "      <th>1448</th>\n",
       "      <td>536544</td>\n",
       "      <td>21791</td>\n",
       "      <td>VINTAGE HEADS AND TAILS CARD GAME</td>\n",
       "      <td>2</td>\n",
       "      <td>2010-12-01 14:32:00</td>\n",
       "      <td>2.51</td>\n",
       "      <td>NaN</td>\n",
       "      <td>United Kingdom</td>\n",
       "    </tr>\n",
       "    <tr>\n",
       "      <th>1449</th>\n",
       "      <td>536544</td>\n",
       "      <td>21801</td>\n",
       "      <td>CHRISTMAS TREE DECORATION WITH BELL</td>\n",
       "      <td>10</td>\n",
       "      <td>2010-12-01 14:32:00</td>\n",
       "      <td>0.43</td>\n",
       "      <td>NaN</td>\n",
       "      <td>United Kingdom</td>\n",
       "    </tr>\n",
       "    <tr>\n",
       "      <th>1450</th>\n",
       "      <td>536544</td>\n",
       "      <td>21802</td>\n",
       "      <td>CHRISTMAS TREE HEART DECORATION</td>\n",
       "      <td>9</td>\n",
       "      <td>2010-12-01 14:32:00</td>\n",
       "      <td>0.43</td>\n",
       "      <td>NaN</td>\n",
       "      <td>United Kingdom</td>\n",
       "    </tr>\n",
       "    <tr>\n",
       "      <th>1451</th>\n",
       "      <td>536544</td>\n",
       "      <td>21803</td>\n",
       "      <td>CHRISTMAS TREE STAR DECORATION</td>\n",
       "      <td>11</td>\n",
       "      <td>2010-12-01 14:32:00</td>\n",
       "      <td>0.43</td>\n",
       "      <td>NaN</td>\n",
       "      <td>United Kingdom</td>\n",
       "    </tr>\n",
       "  </tbody>\n",
       "</table>\n",
       "</div>"
      ],
      "text/plain": [
       "     InvoiceNo StockCode                          Description  Quantity  \\\n",
       "622     536414     22139                                  NaN        56   \n",
       "1443    536544     21773      DECORATIVE ROSE BATHROOM BOTTLE         1   \n",
       "1444    536544     21774      DECORATIVE CATS BATHROOM BOTTLE         2   \n",
       "1445    536544     21786                   POLKADOT RAIN HAT          4   \n",
       "1446    536544     21787                RAIN PONCHO RETROSPOT         2   \n",
       "1447    536544     21790                   VINTAGE SNAP CARDS         9   \n",
       "1448    536544     21791   VINTAGE HEADS AND TAILS CARD GAME          2   \n",
       "1449    536544     21801  CHRISTMAS TREE DECORATION WITH BELL        10   \n",
       "1450    536544     21802      CHRISTMAS TREE HEART DECORATION         9   \n",
       "1451    536544     21803       CHRISTMAS TREE STAR DECORATION        11   \n",
       "\n",
       "             InvoiceDate  UnitPrice CustomerID         Country  \n",
       "622  2010-12-01 11:52:00       0.00        NaN  United Kingdom  \n",
       "1443 2010-12-01 14:32:00       2.51        NaN  United Kingdom  \n",
       "1444 2010-12-01 14:32:00       2.51        NaN  United Kingdom  \n",
       "1445 2010-12-01 14:32:00       0.85        NaN  United Kingdom  \n",
       "1446 2010-12-01 14:32:00       1.66        NaN  United Kingdom  \n",
       "1447 2010-12-01 14:32:00       1.66        NaN  United Kingdom  \n",
       "1448 2010-12-01 14:32:00       2.51        NaN  United Kingdom  \n",
       "1449 2010-12-01 14:32:00       0.43        NaN  United Kingdom  \n",
       "1450 2010-12-01 14:32:00       0.43        NaN  United Kingdom  \n",
       "1451 2010-12-01 14:32:00       0.43        NaN  United Kingdom  "
      ]
     },
     "execution_count": 14,
     "metadata": {},
     "output_type": "execute_result"
    }
   ],
   "source": [
    "#Analysing some entries whose CustomerID is missing\n",
    "data[data.CustomerID.isna()].head(10)"
   ]
  },
  {
   "cell_type": "code",
   "execution_count": 15,
   "metadata": {},
   "outputs": [
    {
     "data": {
      "text/plain": [
       "False    536641\n",
       "True       5268\n",
       "dtype: int64"
      ]
     },
     "execution_count": 15,
     "metadata": {},
     "output_type": "execute_result"
    }
   ],
   "source": [
    "#Checking if we have duplicated values.\n",
    "#We can see that we indeed have them, so we need to investigate them further.\n",
    "data.duplicated().value_counts()"
   ]
  },
  {
   "cell_type": "code",
   "execution_count": 16,
   "metadata": {
    "scrolled": true
   },
   "outputs": [
    {
     "data": {
      "text/html": [
       "<div>\n",
       "<style scoped>\n",
       "    .dataframe tbody tr th:only-of-type {\n",
       "        vertical-align: middle;\n",
       "    }\n",
       "\n",
       "    .dataframe tbody tr th {\n",
       "        vertical-align: top;\n",
       "    }\n",
       "\n",
       "    .dataframe thead th {\n",
       "        text-align: right;\n",
       "    }\n",
       "</style>\n",
       "<table border=\"1\" class=\"dataframe\">\n",
       "  <thead>\n",
       "    <tr style=\"text-align: right;\">\n",
       "      <th></th>\n",
       "      <th>InvoiceNo</th>\n",
       "      <th>StockCode</th>\n",
       "      <th>Description</th>\n",
       "      <th>Quantity</th>\n",
       "      <th>InvoiceDate</th>\n",
       "      <th>UnitPrice</th>\n",
       "      <th>CustomerID</th>\n",
       "      <th>Country</th>\n",
       "    </tr>\n",
       "  </thead>\n",
       "  <tbody>\n",
       "    <tr>\n",
       "      <th>517</th>\n",
       "      <td>536409</td>\n",
       "      <td>21866</td>\n",
       "      <td>UNION JACK FLAG LUGGAGE TAG</td>\n",
       "      <td>1</td>\n",
       "      <td>2010-12-01 11:45:00</td>\n",
       "      <td>1.25</td>\n",
       "      <td>17908</td>\n",
       "      <td>United Kingdom</td>\n",
       "    </tr>\n",
       "    <tr>\n",
       "      <th>527</th>\n",
       "      <td>536409</td>\n",
       "      <td>22866</td>\n",
       "      <td>HAND WARMER SCOTTY DOG DESIGN</td>\n",
       "      <td>1</td>\n",
       "      <td>2010-12-01 11:45:00</td>\n",
       "      <td>2.10</td>\n",
       "      <td>17908</td>\n",
       "      <td>United Kingdom</td>\n",
       "    </tr>\n",
       "    <tr>\n",
       "      <th>537</th>\n",
       "      <td>536409</td>\n",
       "      <td>22900</td>\n",
       "      <td>SET 2 TEA TOWELS I LOVE LONDON</td>\n",
       "      <td>1</td>\n",
       "      <td>2010-12-01 11:45:00</td>\n",
       "      <td>2.95</td>\n",
       "      <td>17908</td>\n",
       "      <td>United Kingdom</td>\n",
       "    </tr>\n",
       "  </tbody>\n",
       "</table>\n",
       "</div>"
      ],
      "text/plain": [
       "    InvoiceNo StockCode                       Description  Quantity  \\\n",
       "517    536409     21866       UNION JACK FLAG LUGGAGE TAG         1   \n",
       "527    536409     22866     HAND WARMER SCOTTY DOG DESIGN         1   \n",
       "537    536409     22900   SET 2 TEA TOWELS I LOVE LONDON          1   \n",
       "\n",
       "            InvoiceDate  UnitPrice CustomerID         Country  \n",
       "517 2010-12-01 11:45:00       1.25      17908  United Kingdom  \n",
       "527 2010-12-01 11:45:00       2.10      17908  United Kingdom  \n",
       "537 2010-12-01 11:45:00       2.95      17908  United Kingdom  "
      ]
     },
     "execution_count": 16,
     "metadata": {},
     "output_type": "execute_result"
    }
   ],
   "source": [
    "#Getting the information of 3 different entries which are duplicated.\n",
    "data[data.duplicated()].head(3)"
   ]
  },
  {
   "cell_type": "code",
   "execution_count": 17,
   "metadata": {},
   "outputs": [
    {
     "data": {
      "text/html": [
       "<div>\n",
       "<style scoped>\n",
       "    .dataframe tbody tr th:only-of-type {\n",
       "        vertical-align: middle;\n",
       "    }\n",
       "\n",
       "    .dataframe tbody tr th {\n",
       "        vertical-align: top;\n",
       "    }\n",
       "\n",
       "    .dataframe thead th {\n",
       "        text-align: right;\n",
       "    }\n",
       "</style>\n",
       "<table border=\"1\" class=\"dataframe\">\n",
       "  <thead>\n",
       "    <tr style=\"text-align: right;\">\n",
       "      <th></th>\n",
       "      <th>InvoiceNo</th>\n",
       "      <th>StockCode</th>\n",
       "      <th>Description</th>\n",
       "      <th>Quantity</th>\n",
       "      <th>InvoiceDate</th>\n",
       "      <th>UnitPrice</th>\n",
       "      <th>CustomerID</th>\n",
       "      <th>Country</th>\n",
       "    </tr>\n",
       "  </thead>\n",
       "  <tbody>\n",
       "    <tr>\n",
       "      <th>494</th>\n",
       "      <td>536409</td>\n",
       "      <td>21866</td>\n",
       "      <td>UNION JACK FLAG LUGGAGE TAG</td>\n",
       "      <td>1</td>\n",
       "      <td>2010-12-01 11:45:00</td>\n",
       "      <td>1.25</td>\n",
       "      <td>17908</td>\n",
       "      <td>United Kingdom</td>\n",
       "    </tr>\n",
       "    <tr>\n",
       "      <th>517</th>\n",
       "      <td>536409</td>\n",
       "      <td>21866</td>\n",
       "      <td>UNION JACK FLAG LUGGAGE TAG</td>\n",
       "      <td>1</td>\n",
       "      <td>2010-12-01 11:45:00</td>\n",
       "      <td>1.25</td>\n",
       "      <td>17908</td>\n",
       "      <td>United Kingdom</td>\n",
       "    </tr>\n",
       "  </tbody>\n",
       "</table>\n",
       "</div>"
      ],
      "text/plain": [
       "    InvoiceNo StockCode                  Description  Quantity  \\\n",
       "494    536409     21866  UNION JACK FLAG LUGGAGE TAG         1   \n",
       "517    536409     21866  UNION JACK FLAG LUGGAGE TAG         1   \n",
       "\n",
       "            InvoiceDate  UnitPrice CustomerID         Country  \n",
       "494 2010-12-01 11:45:00       1.25      17908  United Kingdom  \n",
       "517 2010-12-01 11:45:00       1.25      17908  United Kingdom  "
      ]
     },
     "execution_count": 17,
     "metadata": {},
     "output_type": "execute_result"
    }
   ],
   "source": [
    "#Using that information to access the first case, to analyse it better.\n",
    "#There seem to exist in fact duplicates, but let us look at the order as a whole.\n",
    "data[(data[\"InvoiceNo\"]==\"536409\") & (data[\"StockCode\"]==\"21866\")]"
   ]
  },
  {
   "cell_type": "code",
   "execution_count": 18,
   "metadata": {
    "scrolled": true
   },
   "outputs": [
    {
     "data": {
      "text/html": [
       "<div>\n",
       "<style scoped>\n",
       "    .dataframe tbody tr th:only-of-type {\n",
       "        vertical-align: middle;\n",
       "    }\n",
       "\n",
       "    .dataframe tbody tr th {\n",
       "        vertical-align: top;\n",
       "    }\n",
       "\n",
       "    .dataframe thead th {\n",
       "        text-align: right;\n",
       "    }\n",
       "</style>\n",
       "<table border=\"1\" class=\"dataframe\">\n",
       "  <thead>\n",
       "    <tr style=\"text-align: right;\">\n",
       "      <th></th>\n",
       "      <th>InvoiceNo</th>\n",
       "      <th>StockCode</th>\n",
       "      <th>Description</th>\n",
       "      <th>Quantity</th>\n",
       "      <th>InvoiceDate</th>\n",
       "      <th>UnitPrice</th>\n",
       "      <th>CustomerID</th>\n",
       "      <th>Country</th>\n",
       "    </tr>\n",
       "  </thead>\n",
       "  <tbody>\n",
       "    <tr>\n",
       "      <th>483</th>\n",
       "      <td>536409</td>\n",
       "      <td>90199C</td>\n",
       "      <td>5 STRAND GLASS NECKLACE CRYSTAL</td>\n",
       "      <td>3</td>\n",
       "      <td>2010-12-01 11:45:00</td>\n",
       "      <td>6.35</td>\n",
       "      <td>17908</td>\n",
       "      <td>United Kingdom</td>\n",
       "    </tr>\n",
       "    <tr>\n",
       "      <th>484</th>\n",
       "      <td>536409</td>\n",
       "      <td>21479</td>\n",
       "      <td>WHITE SKULL HOT WATER BOTTLE</td>\n",
       "      <td>1</td>\n",
       "      <td>2010-12-01 11:45:00</td>\n",
       "      <td>3.75</td>\n",
       "      <td>17908</td>\n",
       "      <td>United Kingdom</td>\n",
       "    </tr>\n",
       "    <tr>\n",
       "      <th>485</th>\n",
       "      <td>536409</td>\n",
       "      <td>22111</td>\n",
       "      <td>SCOTTIE DOG HOT WATER BOTTLE</td>\n",
       "      <td>1</td>\n",
       "      <td>2010-12-01 11:45:00</td>\n",
       "      <td>4.95</td>\n",
       "      <td>17908</td>\n",
       "      <td>United Kingdom</td>\n",
       "    </tr>\n",
       "    <tr>\n",
       "      <th>486</th>\n",
       "      <td>536409</td>\n",
       "      <td>22785</td>\n",
       "      <td>SQUARECUSHION COVER PINK UNION FLAG</td>\n",
       "      <td>1</td>\n",
       "      <td>2010-12-01 11:45:00</td>\n",
       "      <td>6.75</td>\n",
       "      <td>17908</td>\n",
       "      <td>United Kingdom</td>\n",
       "    </tr>\n",
       "    <tr>\n",
       "      <th>487</th>\n",
       "      <td>536409</td>\n",
       "      <td>22975</td>\n",
       "      <td>SPACEBOY CHILDRENS EGG CUP</td>\n",
       "      <td>1</td>\n",
       "      <td>2010-12-01 11:45:00</td>\n",
       "      <td>1.25</td>\n",
       "      <td>17908</td>\n",
       "      <td>United Kingdom</td>\n",
       "    </tr>\n",
       "    <tr>\n",
       "      <th>488</th>\n",
       "      <td>536409</td>\n",
       "      <td>22972</td>\n",
       "      <td>CHILDREN'S SPACEBOY MUG</td>\n",
       "      <td>1</td>\n",
       "      <td>2010-12-01 11:45:00</td>\n",
       "      <td>1.65</td>\n",
       "      <td>17908</td>\n",
       "      <td>United Kingdom</td>\n",
       "    </tr>\n",
       "    <tr>\n",
       "      <th>489</th>\n",
       "      <td>536409</td>\n",
       "      <td>22866</td>\n",
       "      <td>HAND WARMER SCOTTY DOG DESIGN</td>\n",
       "      <td>1</td>\n",
       "      <td>2010-12-01 11:45:00</td>\n",
       "      <td>2.10</td>\n",
       "      <td>17908</td>\n",
       "      <td>United Kingdom</td>\n",
       "    </tr>\n",
       "    <tr>\n",
       "      <th>490</th>\n",
       "      <td>536409</td>\n",
       "      <td>22568</td>\n",
       "      <td>FELTCRAFT CUSHION OWL</td>\n",
       "      <td>1</td>\n",
       "      <td>2010-12-01 11:45:00</td>\n",
       "      <td>3.75</td>\n",
       "      <td>17908</td>\n",
       "      <td>United Kingdom</td>\n",
       "    </tr>\n",
       "    <tr>\n",
       "      <th>491</th>\n",
       "      <td>536409</td>\n",
       "      <td>85116</td>\n",
       "      <td>BLACK CANDELABRA T-LIGHT HOLDER</td>\n",
       "      <td>1</td>\n",
       "      <td>2010-12-01 11:45:00</td>\n",
       "      <td>2.10</td>\n",
       "      <td>17908</td>\n",
       "      <td>United Kingdom</td>\n",
       "    </tr>\n",
       "    <tr>\n",
       "      <th>492</th>\n",
       "      <td>536409</td>\n",
       "      <td>22664</td>\n",
       "      <td>TOY TIDY DOLLY GIRL DESIGN</td>\n",
       "      <td>1</td>\n",
       "      <td>2010-12-01 11:45:00</td>\n",
       "      <td>2.10</td>\n",
       "      <td>17908</td>\n",
       "      <td>United Kingdom</td>\n",
       "    </tr>\n",
       "    <tr>\n",
       "      <th>493</th>\n",
       "      <td>536409</td>\n",
       "      <td>21609</td>\n",
       "      <td>SET 12 LAVENDER  BOTANICAL T-LIGHTS</td>\n",
       "      <td>1</td>\n",
       "      <td>2010-12-01 11:45:00</td>\n",
       "      <td>2.95</td>\n",
       "      <td>17908</td>\n",
       "      <td>United Kingdom</td>\n",
       "    </tr>\n",
       "    <tr>\n",
       "      <th>494</th>\n",
       "      <td>536409</td>\n",
       "      <td>21866</td>\n",
       "      <td>UNION JACK FLAG LUGGAGE TAG</td>\n",
       "      <td>1</td>\n",
       "      <td>2010-12-01 11:45:00</td>\n",
       "      <td>1.25</td>\n",
       "      <td>17908</td>\n",
       "      <td>United Kingdom</td>\n",
       "    </tr>\n",
       "    <tr>\n",
       "      <th>495</th>\n",
       "      <td>536409</td>\n",
       "      <td>20669</td>\n",
       "      <td>RED HEART LUGGAGE TAG</td>\n",
       "      <td>1</td>\n",
       "      <td>2010-12-01 11:45:00</td>\n",
       "      <td>1.25</td>\n",
       "      <td>17908</td>\n",
       "      <td>United Kingdom</td>\n",
       "    </tr>\n",
       "    <tr>\n",
       "      <th>496</th>\n",
       "      <td>536409</td>\n",
       "      <td>90129F</td>\n",
       "      <td>RED GLASS TASSLE BAG CHARM</td>\n",
       "      <td>1</td>\n",
       "      <td>2010-12-01 11:45:00</td>\n",
       "      <td>2.95</td>\n",
       "      <td>17908</td>\n",
       "      <td>United Kingdom</td>\n",
       "    </tr>\n",
       "    <tr>\n",
       "      <th>497</th>\n",
       "      <td>536409</td>\n",
       "      <td>90210B</td>\n",
       "      <td>CLEAR ACRYLIC FACETED BANGLE</td>\n",
       "      <td>1</td>\n",
       "      <td>2010-12-01 11:45:00</td>\n",
       "      <td>2.95</td>\n",
       "      <td>17908</td>\n",
       "      <td>United Kingdom</td>\n",
       "    </tr>\n",
       "    <tr>\n",
       "      <th>498</th>\n",
       "      <td>536409</td>\n",
       "      <td>90199C</td>\n",
       "      <td>5 STRAND GLASS NECKLACE CRYSTAL</td>\n",
       "      <td>1</td>\n",
       "      <td>2010-12-01 11:45:00</td>\n",
       "      <td>6.35</td>\n",
       "      <td>17908</td>\n",
       "      <td>United Kingdom</td>\n",
       "    </tr>\n",
       "    <tr>\n",
       "      <th>499</th>\n",
       "      <td>536409</td>\n",
       "      <td>21955</td>\n",
       "      <td>DOORMAT UNION JACK GUNS AND ROSES</td>\n",
       "      <td>1</td>\n",
       "      <td>2010-12-01 11:45:00</td>\n",
       "      <td>7.95</td>\n",
       "      <td>17908</td>\n",
       "      <td>United Kingdom</td>\n",
       "    </tr>\n",
       "    <tr>\n",
       "      <th>500</th>\n",
       "      <td>536409</td>\n",
       "      <td>72802C</td>\n",
       "      <td>VANILLA SCENT CANDLE JEWELLED BOX</td>\n",
       "      <td>1</td>\n",
       "      <td>2010-12-01 11:45:00</td>\n",
       "      <td>4.25</td>\n",
       "      <td>17908</td>\n",
       "      <td>United Kingdom</td>\n",
       "    </tr>\n",
       "    <tr>\n",
       "      <th>501</th>\n",
       "      <td>536409</td>\n",
       "      <td>22109</td>\n",
       "      <td>FULL ENGLISH BREAKFAST PLATE</td>\n",
       "      <td>1</td>\n",
       "      <td>2010-12-01 11:45:00</td>\n",
       "      <td>3.75</td>\n",
       "      <td>17908</td>\n",
       "      <td>United Kingdom</td>\n",
       "    </tr>\n",
       "    <tr>\n",
       "      <th>502</th>\n",
       "      <td>536409</td>\n",
       "      <td>85116</td>\n",
       "      <td>BLACK CANDELABRA T-LIGHT HOLDER</td>\n",
       "      <td>5</td>\n",
       "      <td>2010-12-01 11:45:00</td>\n",
       "      <td>2.10</td>\n",
       "      <td>17908</td>\n",
       "      <td>United Kingdom</td>\n",
       "    </tr>\n",
       "    <tr>\n",
       "      <th>503</th>\n",
       "      <td>536409</td>\n",
       "      <td>22531</td>\n",
       "      <td>MAGIC DRAWING SLATE CIRCUS PARADE</td>\n",
       "      <td>1</td>\n",
       "      <td>2010-12-01 11:45:00</td>\n",
       "      <td>0.42</td>\n",
       "      <td>17908</td>\n",
       "      <td>United Kingdom</td>\n",
       "    </tr>\n",
       "    <tr>\n",
       "      <th>504</th>\n",
       "      <td>536409</td>\n",
       "      <td>21811</td>\n",
       "      <td>CHRISTMAS HANGING HEART WITH BELL</td>\n",
       "      <td>1</td>\n",
       "      <td>2010-12-01 11:45:00</td>\n",
       "      <td>1.25</td>\n",
       "      <td>17908</td>\n",
       "      <td>United Kingdom</td>\n",
       "    </tr>\n",
       "    <tr>\n",
       "      <th>505</th>\n",
       "      <td>536409</td>\n",
       "      <td>22183</td>\n",
       "      <td>CAKE STAND VICTORIAN FILIGREE MED</td>\n",
       "      <td>1</td>\n",
       "      <td>2010-12-01 11:45:00</td>\n",
       "      <td>6.75</td>\n",
       "      <td>17908</td>\n",
       "      <td>United Kingdom</td>\n",
       "    </tr>\n",
       "    <tr>\n",
       "      <th>506</th>\n",
       "      <td>536409</td>\n",
       "      <td>21678</td>\n",
       "      <td>PAISLEY PATTERN  STICKERS</td>\n",
       "      <td>6</td>\n",
       "      <td>2010-12-01 11:45:00</td>\n",
       "      <td>0.85</td>\n",
       "      <td>17908</td>\n",
       "      <td>United Kingdom</td>\n",
       "    </tr>\n",
       "    <tr>\n",
       "      <th>507</th>\n",
       "      <td>536409</td>\n",
       "      <td>21676</td>\n",
       "      <td>FLOWERS  STICKERS</td>\n",
       "      <td>6</td>\n",
       "      <td>2010-12-01 11:45:00</td>\n",
       "      <td>0.85</td>\n",
       "      <td>17908</td>\n",
       "      <td>United Kingdom</td>\n",
       "    </tr>\n",
       "    <tr>\n",
       "      <th>508</th>\n",
       "      <td>536409</td>\n",
       "      <td>84625A</td>\n",
       "      <td>PINK NEW BAROQUECANDLESTICK CANDLE</td>\n",
       "      <td>1</td>\n",
       "      <td>2010-12-01 11:45:00</td>\n",
       "      <td>2.95</td>\n",
       "      <td>17908</td>\n",
       "      <td>United Kingdom</td>\n",
       "    </tr>\n",
       "    <tr>\n",
       "      <th>509</th>\n",
       "      <td>536409</td>\n",
       "      <td>84625C</td>\n",
       "      <td>BLUE NEW BAROQUE CANDLESTICK CANDLE</td>\n",
       "      <td>3</td>\n",
       "      <td>2010-12-01 11:45:00</td>\n",
       "      <td>2.95</td>\n",
       "      <td>17908</td>\n",
       "      <td>United Kingdom</td>\n",
       "    </tr>\n",
       "    <tr>\n",
       "      <th>510</th>\n",
       "      <td>536409</td>\n",
       "      <td>21931</td>\n",
       "      <td>JUMBO STORAGE BAG SUKI</td>\n",
       "      <td>2</td>\n",
       "      <td>2010-12-01 11:45:00</td>\n",
       "      <td>1.95</td>\n",
       "      <td>17908</td>\n",
       "      <td>United Kingdom</td>\n",
       "    </tr>\n",
       "    <tr>\n",
       "      <th>511</th>\n",
       "      <td>536409</td>\n",
       "      <td>85169B</td>\n",
       "      <td>BLACK LOVE BIRD CANDLE</td>\n",
       "      <td>12</td>\n",
       "      <td>2010-12-01 11:45:00</td>\n",
       "      <td>1.25</td>\n",
       "      <td>17908</td>\n",
       "      <td>United Kingdom</td>\n",
       "    </tr>\n",
       "    <tr>\n",
       "      <th>512</th>\n",
       "      <td>536409</td>\n",
       "      <td>16238</td>\n",
       "      <td>PARTY TIME PENCIL ERASERS</td>\n",
       "      <td>28</td>\n",
       "      <td>2010-12-01 11:45:00</td>\n",
       "      <td>0.21</td>\n",
       "      <td>17908</td>\n",
       "      <td>United Kingdom</td>\n",
       "    </tr>\n",
       "    <tr>\n",
       "      <th>513</th>\n",
       "      <td>536409</td>\n",
       "      <td>20668</td>\n",
       "      <td>DISCO BALL CHRISTMAS DECORATION</td>\n",
       "      <td>24</td>\n",
       "      <td>2010-12-01 11:45:00</td>\n",
       "      <td>0.12</td>\n",
       "      <td>17908</td>\n",
       "      <td>United Kingdom</td>\n",
       "    </tr>\n",
       "    <tr>\n",
       "      <th>514</th>\n",
       "      <td>536409</td>\n",
       "      <td>84906</td>\n",
       "      <td>PINK B'FLY C/COVER W BOBBLES</td>\n",
       "      <td>1</td>\n",
       "      <td>2010-12-01 11:45:00</td>\n",
       "      <td>5.95</td>\n",
       "      <td>17908</td>\n",
       "      <td>United Kingdom</td>\n",
       "    </tr>\n",
       "    <tr>\n",
       "      <th>515</th>\n",
       "      <td>536409</td>\n",
       "      <td>21867</td>\n",
       "      <td>PINK UNION JACK  LUGGAGE TAG</td>\n",
       "      <td>1</td>\n",
       "      <td>2010-12-01 11:45:00</td>\n",
       "      <td>1.25</td>\n",
       "      <td>17908</td>\n",
       "      <td>United Kingdom</td>\n",
       "    </tr>\n",
       "    <tr>\n",
       "      <th>516</th>\n",
       "      <td>536409</td>\n",
       "      <td>22075</td>\n",
       "      <td>6 RIBBONS ELEGANT CHRISTMAS</td>\n",
       "      <td>1</td>\n",
       "      <td>2010-12-01 11:45:00</td>\n",
       "      <td>1.65</td>\n",
       "      <td>17908</td>\n",
       "      <td>United Kingdom</td>\n",
       "    </tr>\n",
       "    <tr>\n",
       "      <th>517</th>\n",
       "      <td>536409</td>\n",
       "      <td>21866</td>\n",
       "      <td>UNION JACK FLAG LUGGAGE TAG</td>\n",
       "      <td>1</td>\n",
       "      <td>2010-12-01 11:45:00</td>\n",
       "      <td>1.25</td>\n",
       "      <td>17908</td>\n",
       "      <td>United Kingdom</td>\n",
       "    </tr>\n",
       "    <tr>\n",
       "      <th>518</th>\n",
       "      <td>536409</td>\n",
       "      <td>21326</td>\n",
       "      <td>AGED GLASS SILVER T-LIGHT HOLDER</td>\n",
       "      <td>12</td>\n",
       "      <td>2010-12-01 11:45:00</td>\n",
       "      <td>0.65</td>\n",
       "      <td>17908</td>\n",
       "      <td>United Kingdom</td>\n",
       "    </tr>\n",
       "    <tr>\n",
       "      <th>519</th>\n",
       "      <td>536409</td>\n",
       "      <td>21065</td>\n",
       "      <td>BOOM BOX SPEAKER GIRLS</td>\n",
       "      <td>1</td>\n",
       "      <td>2010-12-01 11:45:00</td>\n",
       "      <td>5.95</td>\n",
       "      <td>17908</td>\n",
       "      <td>United Kingdom</td>\n",
       "    </tr>\n",
       "    <tr>\n",
       "      <th>520</th>\n",
       "      <td>536409</td>\n",
       "      <td>22074</td>\n",
       "      <td>6 RIBBONS SHIMMERING PINKS</td>\n",
       "      <td>1</td>\n",
       "      <td>2010-12-01 11:45:00</td>\n",
       "      <td>1.65</td>\n",
       "      <td>17908</td>\n",
       "      <td>United Kingdom</td>\n",
       "    </tr>\n",
       "    <tr>\n",
       "      <th>521</th>\n",
       "      <td>536409</td>\n",
       "      <td>22900</td>\n",
       "      <td>SET 2 TEA TOWELS I LOVE LONDON</td>\n",
       "      <td>1</td>\n",
       "      <td>2010-12-01 11:45:00</td>\n",
       "      <td>2.95</td>\n",
       "      <td>17908</td>\n",
       "      <td>United Kingdom</td>\n",
       "    </tr>\n",
       "    <tr>\n",
       "      <th>522</th>\n",
       "      <td>536409</td>\n",
       "      <td>20713</td>\n",
       "      <td>JUMBO BAG OWLS</td>\n",
       "      <td>1</td>\n",
       "      <td>2010-12-01 11:45:00</td>\n",
       "      <td>1.95</td>\n",
       "      <td>17908</td>\n",
       "      <td>United Kingdom</td>\n",
       "    </tr>\n",
       "    <tr>\n",
       "      <th>523</th>\n",
       "      <td>536409</td>\n",
       "      <td>20966</td>\n",
       "      <td>SANDWICH BATH SPONGE</td>\n",
       "      <td>2</td>\n",
       "      <td>2010-12-01 11:45:00</td>\n",
       "      <td>1.25</td>\n",
       "      <td>17908</td>\n",
       "      <td>United Kingdom</td>\n",
       "    </tr>\n",
       "    <tr>\n",
       "      <th>524</th>\n",
       "      <td>536409</td>\n",
       "      <td>21116</td>\n",
       "      <td>OWL DOORSTOP</td>\n",
       "      <td>1</td>\n",
       "      <td>2010-12-01 11:45:00</td>\n",
       "      <td>4.95</td>\n",
       "      <td>17908</td>\n",
       "      <td>United Kingdom</td>\n",
       "    </tr>\n",
       "    <tr>\n",
       "      <th>525</th>\n",
       "      <td>536409</td>\n",
       "      <td>90199C</td>\n",
       "      <td>5 STRAND GLASS NECKLACE CRYSTAL</td>\n",
       "      <td>2</td>\n",
       "      <td>2010-12-01 11:45:00</td>\n",
       "      <td>6.35</td>\n",
       "      <td>17908</td>\n",
       "      <td>United Kingdom</td>\n",
       "    </tr>\n",
       "    <tr>\n",
       "      <th>526</th>\n",
       "      <td>536409</td>\n",
       "      <td>22633</td>\n",
       "      <td>HAND WARMER UNION JACK</td>\n",
       "      <td>1</td>\n",
       "      <td>2010-12-01 11:45:00</td>\n",
       "      <td>2.10</td>\n",
       "      <td>17908</td>\n",
       "      <td>United Kingdom</td>\n",
       "    </tr>\n",
       "    <tr>\n",
       "      <th>527</th>\n",
       "      <td>536409</td>\n",
       "      <td>22866</td>\n",
       "      <td>HAND WARMER SCOTTY DOG DESIGN</td>\n",
       "      <td>1</td>\n",
       "      <td>2010-12-01 11:45:00</td>\n",
       "      <td>2.10</td>\n",
       "      <td>17908</td>\n",
       "      <td>United Kingdom</td>\n",
       "    </tr>\n",
       "    <tr>\n",
       "      <th>528</th>\n",
       "      <td>536409</td>\n",
       "      <td>22198</td>\n",
       "      <td>LARGE POPCORN HOLDER</td>\n",
       "      <td>1</td>\n",
       "      <td>2010-12-01 11:45:00</td>\n",
       "      <td>1.65</td>\n",
       "      <td>17908</td>\n",
       "      <td>United Kingdom</td>\n",
       "    </tr>\n",
       "    <tr>\n",
       "      <th>529</th>\n",
       "      <td>536409</td>\n",
       "      <td>21824</td>\n",
       "      <td>PAINTED METAL STAR WITH HOLLY BELLS</td>\n",
       "      <td>3</td>\n",
       "      <td>2010-12-01 11:45:00</td>\n",
       "      <td>1.45</td>\n",
       "      <td>17908</td>\n",
       "      <td>United Kingdom</td>\n",
       "    </tr>\n",
       "    <tr>\n",
       "      <th>530</th>\n",
       "      <td>536409</td>\n",
       "      <td>21823</td>\n",
       "      <td>PAINTED METAL HEART WITH HOLLY BELL</td>\n",
       "      <td>3</td>\n",
       "      <td>2010-12-01 11:45:00</td>\n",
       "      <td>1.45</td>\n",
       "      <td>17908</td>\n",
       "      <td>United Kingdom</td>\n",
       "    </tr>\n",
       "    <tr>\n",
       "      <th>531</th>\n",
       "      <td>536409</td>\n",
       "      <td>22153</td>\n",
       "      <td>ANGEL DECORATION STARS ON DRESS</td>\n",
       "      <td>6</td>\n",
       "      <td>2010-12-01 11:45:00</td>\n",
       "      <td>0.42</td>\n",
       "      <td>17908</td>\n",
       "      <td>United Kingdom</td>\n",
       "    </tr>\n",
       "    <tr>\n",
       "      <th>532</th>\n",
       "      <td>536409</td>\n",
       "      <td>22197</td>\n",
       "      <td>SMALL POPCORN HOLDER</td>\n",
       "      <td>2</td>\n",
       "      <td>2010-12-01 11:45:00</td>\n",
       "      <td>0.85</td>\n",
       "      <td>17908</td>\n",
       "      <td>United Kingdom</td>\n",
       "    </tr>\n",
       "    <tr>\n",
       "      <th>533</th>\n",
       "      <td>536409</td>\n",
       "      <td>85099B</td>\n",
       "      <td>JUMBO BAG RED RETROSPOT</td>\n",
       "      <td>2</td>\n",
       "      <td>2010-12-01 11:45:00</td>\n",
       "      <td>1.95</td>\n",
       "      <td>17908</td>\n",
       "      <td>United Kingdom</td>\n",
       "    </tr>\n",
       "    <tr>\n",
       "      <th>534</th>\n",
       "      <td>536409</td>\n",
       "      <td>85099F</td>\n",
       "      <td>JUMBO BAG STRAWBERRY</td>\n",
       "      <td>1</td>\n",
       "      <td>2010-12-01 11:45:00</td>\n",
       "      <td>1.95</td>\n",
       "      <td>17908</td>\n",
       "      <td>United Kingdom</td>\n",
       "    </tr>\n",
       "    <tr>\n",
       "      <th>535</th>\n",
       "      <td>536409</td>\n",
       "      <td>20717</td>\n",
       "      <td>STRAWBERRY SHOPPER BAG</td>\n",
       "      <td>1</td>\n",
       "      <td>2010-12-01 11:45:00</td>\n",
       "      <td>1.25</td>\n",
       "      <td>17908</td>\n",
       "      <td>United Kingdom</td>\n",
       "    </tr>\n",
       "    <tr>\n",
       "      <th>536</th>\n",
       "      <td>536409</td>\n",
       "      <td>20723</td>\n",
       "      <td>STRAWBERRY CHARLOTTE BAG</td>\n",
       "      <td>1</td>\n",
       "      <td>2010-12-01 11:45:00</td>\n",
       "      <td>0.85</td>\n",
       "      <td>17908</td>\n",
       "      <td>United Kingdom</td>\n",
       "    </tr>\n",
       "    <tr>\n",
       "      <th>537</th>\n",
       "      <td>536409</td>\n",
       "      <td>22900</td>\n",
       "      <td>SET 2 TEA TOWELS I LOVE LONDON</td>\n",
       "      <td>1</td>\n",
       "      <td>2010-12-01 11:45:00</td>\n",
       "      <td>2.95</td>\n",
       "      <td>17908</td>\n",
       "      <td>United Kingdom</td>\n",
       "    </tr>\n",
       "    <tr>\n",
       "      <th>538</th>\n",
       "      <td>536409</td>\n",
       "      <td>21980</td>\n",
       "      <td>PACK OF 12 RED RETROSPOT TISSUES</td>\n",
       "      <td>12</td>\n",
       "      <td>2010-12-01 11:45:00</td>\n",
       "      <td>0.29</td>\n",
       "      <td>17908</td>\n",
       "      <td>United Kingdom</td>\n",
       "    </tr>\n",
       "    <tr>\n",
       "      <th>539</th>\n",
       "      <td>536409</td>\n",
       "      <td>22111</td>\n",
       "      <td>SCOTTIE DOG HOT WATER BOTTLE</td>\n",
       "      <td>1</td>\n",
       "      <td>2010-12-01 11:45:00</td>\n",
       "      <td>4.95</td>\n",
       "      <td>17908</td>\n",
       "      <td>United Kingdom</td>\n",
       "    </tr>\n",
       "    <tr>\n",
       "      <th>540</th>\n",
       "      <td>536409</td>\n",
       "      <td>22112</td>\n",
       "      <td>CHOCOLATE HOT WATER BOTTLE</td>\n",
       "      <td>1</td>\n",
       "      <td>2010-12-01 11:45:00</td>\n",
       "      <td>4.95</td>\n",
       "      <td>17908</td>\n",
       "      <td>United Kingdom</td>\n",
       "    </tr>\n",
       "  </tbody>\n",
       "</table>\n",
       "</div>"
      ],
      "text/plain": [
       "    InvoiceNo StockCode                          Description  Quantity  \\\n",
       "483    536409    90199C      5 STRAND GLASS NECKLACE CRYSTAL         3   \n",
       "484    536409     21479        WHITE SKULL HOT WATER BOTTLE          1   \n",
       "485    536409     22111         SCOTTIE DOG HOT WATER BOTTLE         1   \n",
       "486    536409     22785  SQUARECUSHION COVER PINK UNION FLAG         1   \n",
       "487    536409     22975           SPACEBOY CHILDRENS EGG CUP         1   \n",
       "488    536409     22972              CHILDREN'S SPACEBOY MUG         1   \n",
       "489    536409     22866        HAND WARMER SCOTTY DOG DESIGN         1   \n",
       "490    536409     22568                FELTCRAFT CUSHION OWL         1   \n",
       "491    536409     85116      BLACK CANDELABRA T-LIGHT HOLDER         1   \n",
       "492    536409     22664           TOY TIDY DOLLY GIRL DESIGN         1   \n",
       "493    536409     21609  SET 12 LAVENDER  BOTANICAL T-LIGHTS         1   \n",
       "494    536409     21866          UNION JACK FLAG LUGGAGE TAG         1   \n",
       "495    536409     20669                RED HEART LUGGAGE TAG         1   \n",
       "496    536409    90129F           RED GLASS TASSLE BAG CHARM         1   \n",
       "497    536409    90210B         CLEAR ACRYLIC FACETED BANGLE         1   \n",
       "498    536409    90199C      5 STRAND GLASS NECKLACE CRYSTAL         1   \n",
       "499    536409     21955    DOORMAT UNION JACK GUNS AND ROSES         1   \n",
       "500    536409    72802C    VANILLA SCENT CANDLE JEWELLED BOX         1   \n",
       "501    536409     22109         FULL ENGLISH BREAKFAST PLATE         1   \n",
       "502    536409     85116      BLACK CANDELABRA T-LIGHT HOLDER         5   \n",
       "503    536409     22531  MAGIC DRAWING SLATE CIRCUS PARADE           1   \n",
       "504    536409     21811    CHRISTMAS HANGING HEART WITH BELL         1   \n",
       "505    536409     22183    CAKE STAND VICTORIAN FILIGREE MED         1   \n",
       "506    536409     21678            PAISLEY PATTERN  STICKERS         6   \n",
       "507    536409     21676                    FLOWERS  STICKERS         6   \n",
       "508    536409    84625A   PINK NEW BAROQUECANDLESTICK CANDLE         1   \n",
       "509    536409    84625C  BLUE NEW BAROQUE CANDLESTICK CANDLE         3   \n",
       "510    536409     21931               JUMBO STORAGE BAG SUKI         2   \n",
       "511    536409    85169B               BLACK LOVE BIRD CANDLE        12   \n",
       "512    536409     16238            PARTY TIME PENCIL ERASERS        28   \n",
       "513    536409     20668      DISCO BALL CHRISTMAS DECORATION        24   \n",
       "514    536409     84906         PINK B'FLY C/COVER W BOBBLES         1   \n",
       "515    536409     21867         PINK UNION JACK  LUGGAGE TAG         1   \n",
       "516    536409     22075         6 RIBBONS ELEGANT CHRISTMAS          1   \n",
       "517    536409     21866          UNION JACK FLAG LUGGAGE TAG         1   \n",
       "518    536409     21326     AGED GLASS SILVER T-LIGHT HOLDER        12   \n",
       "519    536409     21065               BOOM BOX SPEAKER GIRLS         1   \n",
       "520    536409     22074          6 RIBBONS SHIMMERING PINKS          1   \n",
       "521    536409     22900      SET 2 TEA TOWELS I LOVE LONDON          1   \n",
       "522    536409     20713                       JUMBO BAG OWLS         1   \n",
       "523    536409     20966                 SANDWICH BATH SPONGE         2   \n",
       "524    536409     21116                         OWL DOORSTOP         1   \n",
       "525    536409    90199C      5 STRAND GLASS NECKLACE CRYSTAL         2   \n",
       "526    536409     22633               HAND WARMER UNION JACK         1   \n",
       "527    536409     22866        HAND WARMER SCOTTY DOG DESIGN         1   \n",
       "528    536409     22198                LARGE POPCORN HOLDER          1   \n",
       "529    536409     21824  PAINTED METAL STAR WITH HOLLY BELLS         3   \n",
       "530    536409     21823  PAINTED METAL HEART WITH HOLLY BELL         3   \n",
       "531    536409     22153      ANGEL DECORATION STARS ON DRESS         6   \n",
       "532    536409     22197                 SMALL POPCORN HOLDER         2   \n",
       "533    536409    85099B              JUMBO BAG RED RETROSPOT         2   \n",
       "534    536409    85099F                 JUMBO BAG STRAWBERRY         1   \n",
       "535    536409     20717               STRAWBERRY SHOPPER BAG         1   \n",
       "536    536409     20723             STRAWBERRY CHARLOTTE BAG         1   \n",
       "537    536409     22900      SET 2 TEA TOWELS I LOVE LONDON          1   \n",
       "538    536409     21980    PACK OF 12 RED RETROSPOT TISSUES         12   \n",
       "539    536409     22111         SCOTTIE DOG HOT WATER BOTTLE         1   \n",
       "540    536409     22112           CHOCOLATE HOT WATER BOTTLE         1   \n",
       "\n",
       "            InvoiceDate  UnitPrice CustomerID         Country  \n",
       "483 2010-12-01 11:45:00       6.35      17908  United Kingdom  \n",
       "484 2010-12-01 11:45:00       3.75      17908  United Kingdom  \n",
       "485 2010-12-01 11:45:00       4.95      17908  United Kingdom  \n",
       "486 2010-12-01 11:45:00       6.75      17908  United Kingdom  \n",
       "487 2010-12-01 11:45:00       1.25      17908  United Kingdom  \n",
       "488 2010-12-01 11:45:00       1.65      17908  United Kingdom  \n",
       "489 2010-12-01 11:45:00       2.10      17908  United Kingdom  \n",
       "490 2010-12-01 11:45:00       3.75      17908  United Kingdom  \n",
       "491 2010-12-01 11:45:00       2.10      17908  United Kingdom  \n",
       "492 2010-12-01 11:45:00       2.10      17908  United Kingdom  \n",
       "493 2010-12-01 11:45:00       2.95      17908  United Kingdom  \n",
       "494 2010-12-01 11:45:00       1.25      17908  United Kingdom  \n",
       "495 2010-12-01 11:45:00       1.25      17908  United Kingdom  \n",
       "496 2010-12-01 11:45:00       2.95      17908  United Kingdom  \n",
       "497 2010-12-01 11:45:00       2.95      17908  United Kingdom  \n",
       "498 2010-12-01 11:45:00       6.35      17908  United Kingdom  \n",
       "499 2010-12-01 11:45:00       7.95      17908  United Kingdom  \n",
       "500 2010-12-01 11:45:00       4.25      17908  United Kingdom  \n",
       "501 2010-12-01 11:45:00       3.75      17908  United Kingdom  \n",
       "502 2010-12-01 11:45:00       2.10      17908  United Kingdom  \n",
       "503 2010-12-01 11:45:00       0.42      17908  United Kingdom  \n",
       "504 2010-12-01 11:45:00       1.25      17908  United Kingdom  \n",
       "505 2010-12-01 11:45:00       6.75      17908  United Kingdom  \n",
       "506 2010-12-01 11:45:00       0.85      17908  United Kingdom  \n",
       "507 2010-12-01 11:45:00       0.85      17908  United Kingdom  \n",
       "508 2010-12-01 11:45:00       2.95      17908  United Kingdom  \n",
       "509 2010-12-01 11:45:00       2.95      17908  United Kingdom  \n",
       "510 2010-12-01 11:45:00       1.95      17908  United Kingdom  \n",
       "511 2010-12-01 11:45:00       1.25      17908  United Kingdom  \n",
       "512 2010-12-01 11:45:00       0.21      17908  United Kingdom  \n",
       "513 2010-12-01 11:45:00       0.12      17908  United Kingdom  \n",
       "514 2010-12-01 11:45:00       5.95      17908  United Kingdom  \n",
       "515 2010-12-01 11:45:00       1.25      17908  United Kingdom  \n",
       "516 2010-12-01 11:45:00       1.65      17908  United Kingdom  \n",
       "517 2010-12-01 11:45:00       1.25      17908  United Kingdom  \n",
       "518 2010-12-01 11:45:00       0.65      17908  United Kingdom  \n",
       "519 2010-12-01 11:45:00       5.95      17908  United Kingdom  \n",
       "520 2010-12-01 11:45:00       1.65      17908  United Kingdom  \n",
       "521 2010-12-01 11:45:00       2.95      17908  United Kingdom  \n",
       "522 2010-12-01 11:45:00       1.95      17908  United Kingdom  \n",
       "523 2010-12-01 11:45:00       1.25      17908  United Kingdom  \n",
       "524 2010-12-01 11:45:00       4.95      17908  United Kingdom  \n",
       "525 2010-12-01 11:45:00       6.35      17908  United Kingdom  \n",
       "526 2010-12-01 11:45:00       2.10      17908  United Kingdom  \n",
       "527 2010-12-01 11:45:00       2.10      17908  United Kingdom  \n",
       "528 2010-12-01 11:45:00       1.65      17908  United Kingdom  \n",
       "529 2010-12-01 11:45:00       1.45      17908  United Kingdom  \n",
       "530 2010-12-01 11:45:00       1.45      17908  United Kingdom  \n",
       "531 2010-12-01 11:45:00       0.42      17908  United Kingdom  \n",
       "532 2010-12-01 11:45:00       0.85      17908  United Kingdom  \n",
       "533 2010-12-01 11:45:00       1.95      17908  United Kingdom  \n",
       "534 2010-12-01 11:45:00       1.95      17908  United Kingdom  \n",
       "535 2010-12-01 11:45:00       1.25      17908  United Kingdom  \n",
       "536 2010-12-01 11:45:00       0.85      17908  United Kingdom  \n",
       "537 2010-12-01 11:45:00       2.95      17908  United Kingdom  \n",
       "538 2010-12-01 11:45:00       0.29      17908  United Kingdom  \n",
       "539 2010-12-01 11:45:00       4.95      17908  United Kingdom  \n",
       "540 2010-12-01 11:45:00       4.95      17908  United Kingdom  "
      ]
     },
     "execution_count": 18,
     "metadata": {},
     "output_type": "execute_result"
    }
   ],
   "source": [
    "#By looking at the order, it seems that other items are also purchased twice in the same order, for instance:\n",
    "#\"5 STRAND GLASS NECKLACE CRYSTAL\" is purchased more than once: firstly, 3 units, then 1 and finally 2.\n",
    "#Thus, it seems that the user may be able to add an item to the shopping cart in different quantities, but once he adds it, if he tries to add it again, it will count as another row. \n",
    "#Based on this, there doesn't seem to exist duplicates in the \"true\" sense\n",
    "data[(data[\"InvoiceNo\"]==\"536409\")]"
   ]
  },
  {
   "cell_type": "code",
   "execution_count": 19,
   "metadata": {},
   "outputs": [
    {
     "data": {
      "text/plain": [
       "1    3308\n",
       "2     517\n",
       "3      98\n",
       "4      26\n",
       "5       5\n",
       "6       2\n",
       "7       1\n",
       "8       1\n",
       "Name: Description, dtype: int64"
      ]
     },
     "execution_count": 19,
     "metadata": {},
     "output_type": "execute_result"
    }
   ],
   "source": [
    "#Checking if each product only has 1 description.\n",
    "#We can see that there are some cases where this doesn't happen. Lets explore this further.\n",
    "data[data[\"Description\"].notna()].groupby(\"StockCode\")[\"Description\"].unique().apply(lambda x: len (x)).value_counts()"
   ]
  },
  {
   "cell_type": "code",
   "execution_count": 20,
   "metadata": {},
   "outputs": [
    {
     "data": {
      "text/plain": [
       "StockCode  Description                      \n",
       "16054      POPART RECT PENCIL SHARPENER ASST     34\n",
       "16151A     FLOWERS HANDBAG blue and orange        3\n",
       "16156L     WRAP CAROUSEL                         14\n",
       "           WRAP, CAROUSEL                         4\n",
       "16156S     WRAP PINK FAIRY CAKES                167\n",
       "Name: Description, dtype: int64"
      ]
     },
     "execution_count": 20,
     "metadata": {},
     "output_type": "execute_result"
    }
   ],
   "source": [
    "#After looking with more detail, we found that the products which have more than one description are cases just like this one, due to to misspelled words, synonyms or punctuation\n",
    "data.groupby(\"StockCode\").Description.value_counts().iloc[50:55]"
   ]
  },
  {
   "cell_type": "code",
   "execution_count": 21,
   "metadata": {},
   "outputs": [
    {
     "data": {
      "text/plain": [
       "1      561\n",
       "2      533\n",
       "3      822\n",
       "4      866\n",
       "5      532\n",
       "6      292\n",
       "7      158\n",
       "8       71\n",
       "9       36\n",
       "10      23\n",
       "11      20\n",
       "12      10\n",
       "13       3\n",
       "14       1\n",
       "15       2\n",
       "16       1\n",
       "26       1\n",
       "30       1\n",
       "59       1\n",
       "75       1\n",
       "113      1\n",
       "259      1\n",
       "686      1\n",
       "Name: UnitPrice, dtype: int64"
      ]
     },
     "execution_count": 21,
     "metadata": {},
     "output_type": "execute_result"
    }
   ],
   "source": [
    "#Checking if each product only has 1 price registered.\n",
    "#We can see that this isn't the case. \n",
    "#Nevertheless, we consider this not an impossible case, given that these changes in price can be due to promotions, price seasonality, or even permanent changes\n",
    "data[data[\"UnitPrice\"]>0].groupby(\"StockCode\")[\"UnitPrice\"].unique().apply(lambda x: len (x)).value_counts().sort_index()"
   ]
  },
  {
   "cell_type": "code",
   "execution_count": 22,
   "metadata": {},
   "outputs": [],
   "source": [
    "#Distinguish our variables into metric, non-metric and datetime, to auxiliate in the visual analysis.\n",
    "metric_features = ['Quantity', 'UnitPrice']\n",
    "date_feature = ['InvoiceDate']\n",
    "non_metric_features = data.columns.drop(metric_features).drop(date_feature)"
   ]
  },
  {
   "cell_type": "code",
   "execution_count": 23,
   "metadata": {
    "scrolled": true
   },
   "outputs": [
    {
     "data": {
      "image/png": "[encoded data removed]",
      "text/plain": [
       "<Figure size 1080x360 with 2 Axes>"
      ]
     },
     "metadata": {},
     "output_type": "display_data"
    }
   ],
   "source": [
    "#starting by observing the distribution of the metric variables\n",
    "\n",
    "#changing the background\n",
    "sns.set()\n",
    "sns.set_style(\"whitegrid\")\n",
    "\n",
    "#defining the number of plots\n",
    "fig, axes = plt.subplots(1, 2, figsize=(15, 5))\n",
    "\n",
    "#plotting each boxplot\n",
    "for ax, features in zip(axes.flatten(), metric_features):\n",
    "    sns.boxplot(x=data[features], ax=ax)\n",
    "    \n",
    "plt.suptitle(\"Metric Variables' Box Plots\", fontsize=20)\n",
    "\n",
    "#Adjusting the \"visual\" aspect of the plots\n",
    "plt.tight_layout()\n",
    "\n",
    "plt.show()\n",
    "\n",
    "#We can, once more, see some interesting behaviours:\n",
    "#1.We have negative values in the Quantity variable, while the highest value surpasses the 80,000 units\n",
    "#2.We have negative values in the UnitPrice, while the highest value is almost 40,000"
   ]
  },
  {
   "cell_type": "code",
   "execution_count": 24,
   "metadata": {},
   "outputs": [
    {
     "data": {
      "image/png": "[encoded data removed]",
      "text/plain": [
       "<Figure size 1224x360 with 2 Axes>"
      ]
     },
     "metadata": {},
     "output_type": "display_data"
    },
    {
     "name": "stdout",
     "output_type": "stream",
     "text": [
      "65.57% of the customers have bought more than once.\n"
     ]
    }
   ],
   "source": [
    "#We will now analyse the behavior of the customers, in what concerns the number of orders made by each.\n",
    "\n",
    "#Creating an auxiliar dataframe to get the one row for each combination of InvoiceNo and CustomerID.\n",
    "#Note that we computed this taking out the missing values for the CustomerID, so those entries don't mislead our findings (e.g., leaving the NaNs would meaning that each one would count as a separate Customer,and thus influence the results obtained).\n",
    "df1 = pd.DataFrame(data[(~data.CustomerID.isna())&(~data[\"InvoiceNo\"].apply(lambda x: True if x[0]==\"C\" else False))].groupby('InvoiceNo')['CustomerID'].unique())\n",
    "\n",
    "#Seeing how many times each CustomerID appears\n",
    "data1 = df1['CustomerID'].value_counts().sort_index()\n",
    "\n",
    "#Normalizing our values and putting the customers who bought more than 5 times in the same \"category\"/bin\n",
    "data2 = data1.value_counts(normalize=True).sort_index()[:5]\n",
    "data2[6] = data1.value_counts(normalize=True).sort_index()[5:].sum()\n",
    "\n",
    "fig, (ax1, ax2) = plt.subplots(1, 2, figsize=(17,5))\n",
    "ax1.boxplot(data1)\n",
    "barplot = ax2.bar(data2.index, data2.values)\n",
    "\n",
    "ax1.tick_params(axis='x', bottom=False, labelbottom=False)\n",
    "ax1.set_ylabel('Number of Orders', size=13)\n",
    "\n",
    "ax2.set_xticks(list(range(1,7)))\n",
    "ax2.set_xticklabels(list(range(1,6)) +['6+'])\n",
    "ax2.set_xlabel('Number of Orders', size=13)\n",
    "ax2.set_ylabel('Percentage of Customers', size=13)\n",
    "fig.suptitle(\"Distribution of the Number of Orders made by Customer\", size=15)\n",
    "\n",
    "ax1.grid(False)\n",
    "ax2.grid(False)\n",
    "\n",
    "for rect in barplot:\n",
    "    height = rect.get_height()\n",
    "    plt.text(rect.get_x() + rect.get_width()/2.0, height, round(float(height),2), ha='center', va='bottom', fontsize=11)\n",
    "\n",
    "plt.show()\n",
    "print(\"{0:.2f}% of the customers have bought more than once.\".format(100 * (np.sum(data1 > 1) / data1.shape[0])))"
   ]
  },
  {
   "cell_type": "code",
   "execution_count": 25,
   "metadata": {},
   "outputs": [
    {
     "data": {
      "image/png": "[encoded data removed]",
      "text/plain": [
       "<Figure size 1224x360 with 2 Axes>"
      ]
     },
     "metadata": {},
     "output_type": "display_data"
    },
    {
     "name": "stdout",
     "output_type": "stream",
     "text": [
      "53.61% of the products were bought more than 50 times.\n"
     ]
    }
   ],
   "source": [
    "#We will now see the distribution of the number of times each product is bought.\n",
    "\n",
    "#Making an auxiliar dataframe, storing the number of times each product was bought\n",
    "data1 = data[~data[\"InvoiceNo\"].apply(lambda x: True if x[0]==\"C\" else False)]['StockCode'].value_counts().sort_index()\n",
    "\n",
    "#Normalizing the values and joining them by bins\n",
    "data2 = data1.value_counts(normalize=True).sort_index()[:5]\n",
    "data2[1] = data1.value_counts(normalize=True).sort_index()[:50].sum()\n",
    "data2[2] = data1.value_counts(normalize=True).sort_index()[50:100].sum()\n",
    "data2[3] = data1.value_counts(normalize=True).sort_index()[100:150].sum()\n",
    "data2[4] = data1.value_counts(normalize=True).sort_index()[150:200].sum()\n",
    "data2[5] = data1.value_counts(normalize=True).sort_index()[200:].sum()\n",
    "\n",
    "fig, (ax1, ax2) = plt.subplots(1, 2, figsize=(17,5))\n",
    "ax1.boxplot(data1)\n",
    "barplot = ax2.bar(data2.index, data2.values)\n",
    "\n",
    "ax1.tick_params(axis='x', bottom=False, labelbottom=False)\n",
    "ax1.set_ylabel('Number of Times', size=13)\n",
    "\n",
    "ax2.set_xticks(list(range(1,7)))\n",
    "ax2.set_xticklabels(list(range(1,6)) +['6+'])\n",
    "ax2.set_xlabel('Number of Times', size=13)\n",
    "ax2.set_ylabel('Percentage of Products', size=13)\n",
    "fig.suptitle(\"Distribution of the Number of Times Products Were Bought\", size=15)\n",
    "\n",
    "ax2.set_xticks(list(range(1,6)))\n",
    "ax2.set_xticklabels(['1-50','51-100','101-150','151-200','200+'])\n",
    "\n",
    "ax1.grid(False)\n",
    "ax2.grid(False)\n",
    "\n",
    "for rect in barplot:\n",
    "    height = rect.get_height()\n",
    "    plt.text(rect.get_x() + rect.get_width()/2.0, height, round(float(height),2), ha='center', va='bottom', fontsize=11)\n",
    "\n",
    "plt.show()\n",
    "print(\"{0:.2f}% of the products were bought more than 50 times.\".format(100*data2[1:].sum()))"
   ]
  },
  {
   "cell_type": "code",
   "execution_count": 26,
   "metadata": {},
   "outputs": [
    {
     "data": {
      "image/png": "[encoded data removed]",
      "text/plain": [
       "<Figure size 1224x360 with 2 Axes>"
      ]
     },
     "metadata": {},
     "output_type": "display_data"
    }
   ],
   "source": [
    "#We will now see the distribution of the number of total quantitites bought per order\n",
    "#Note that we exclude cancelations/returns and orders whose Quantity is non-positive\n",
    "\n",
    "#Getting the Sums of the Quantity per order and seeing how many times each ocurrs.\n",
    "data1 = data[(~data[\"InvoiceNo\"].apply(lambda x: True if x[0]==\"C\" else False))&(data[\"Quantity\"]>0)].groupby(\"InvoiceNo\")['Quantity'].sum().value_counts().sort_index()\n",
    "\n",
    "#Separating into 2 groups\n",
    "data2 = data1.value_counts(normalize=True).sort_index()[:10]\n",
    "data2[10] = data1.value_counts(normalize=True).sort_index()[9:].sum()\n",
    "\n",
    "fig, (ax1, ax2) = plt.subplots(1, 2, figsize=(17,5))\n",
    "ax1.boxplot(data1)\n",
    "barplot = ax2.bar(data2.index, data2.values)\n",
    "\n",
    "ax1.tick_params(axis='x', bottom=False, labelbottom=False)\n",
    "ax1.set_ylabel('Total Quantity of Products in a Order', size=13)\n",
    "\n",
    "ax2.set_xticks(list(range(1,11)))\n",
    "ax2.set_xticklabels(list(range(1,10))+['10+'])\n",
    "ax2.set_xlabel('Total Quantity of Products in a Order', size=13)\n",
    "ax2.set_ylabel('Percentage of Orders', size=13)\n",
    "fig.suptitle(\"Distribution of the Total Quantities Bought per Order\", size=15)\n",
    "\n",
    "ax1.grid(False)\n",
    "ax2.grid(False)\n",
    "\n",
    "for rect in barplot:\n",
    "    height = rect.get_height()\n",
    "    plt.text(rect.get_x() + rect.get_width()/2.0, height, round(float(height),2), ha='center', va='bottom', fontsize=11)\n",
    "\n",
    "plt.show()"
   ]
  },
  {
   "cell_type": "code",
   "execution_count": 27,
   "metadata": {},
   "outputs": [
    {
     "data": {
      "image/png": "[encoded data removed]",
      "text/plain": [
       "<Figure size 1224x360 with 2 Axes>"
      ]
     },
     "metadata": {},
     "output_type": "display_data"
    }
   ],
   "source": [
    "#We will now see, for all the products sold, the distribution of the UnitPrices\n",
    "\n",
    "#Giving that the same StockCode can have different prices, we chose to use for our analysis the most frequent one.\n",
    "price1 = data[['StockCode', 'UnitPrice', 'Quantity']].groupby(['StockCode', 'UnitPrice'], as_index=False).count()\n",
    "price2 = price1.groupby(['StockCode'], as_index=False)['Quantity'].max()\n",
    "price3 = price2.merge(price1, left_on=['StockCode', 'Quantity'], right_on=['StockCode', 'Quantity'])\n",
    "price_final = price3.groupby(['StockCode', 'Quantity'], as_index=False)['UnitPrice'].max()\n",
    "\n",
    "#Seeing how many times (in percentual terms) each price occurs and storing the results by intervals\n",
    "data1 = price_final['UnitPrice'].value_counts(normalize=True).sort_index()\n",
    "data1[0.04] = price_final['UnitPrice'].value_counts(normalize=True).sort_index()[0:0.99].sum()\n",
    "data1[0.06] = price_final['UnitPrice'].value_counts(normalize=True).sort_index()[1:1.99].sum()\n",
    "data1[0.08] = price_final['UnitPrice'].value_counts(normalize=True).sort_index()[2:2.99].sum()\n",
    "data1[0.10] = price_final['UnitPrice'].value_counts(normalize=True).sort_index()[3:3.99].sum()\n",
    "data1[0.12] = price_final['UnitPrice'].value_counts(normalize=True).sort_index()[4:4.99].sum()\n",
    "data1[0.14] = price_final['UnitPrice'].value_counts(normalize=True).sort_index()[5:].sum()\n",
    "\n",
    "values_series = pd.Series([data1[0.04],data1[0.06],data1[0.08],data1[0.10],data1[0.12],data1[0.14]])\n",
    "\n",
    "fig, (ax1, ax2) = plt.subplots(1, 2, figsize=(17,5))\n",
    "ax1.boxplot(data1)\n",
    "barplot = ax2.bar(values_series.index,values_series.values)\n",
    "\n",
    "ax1.tick_params(axis='x', bottom=False, labelbottom=False)\n",
    "ax1.set_ylabel(\"Products' Prices\", size=13)\n",
    "\n",
    "ax2.set_xticks(list(range(0,6)))\n",
    "ax2.set_xticklabels(['0 - 0.99','1 - 1.99','2 - 2.99','3 - 3.99','4 - 4.99','5+'])\n",
    "ax2.set_xlabel(\"Products' Prices\", size=13)\n",
    "ax2.set_ylabel('Percentage of Products', size=13)\n",
    "fig.suptitle(\"Distribution of the Products' Prices\", size=15)\n",
    "\n",
    "ax1.grid(False)\n",
    "ax2.grid(False)\n",
    "\n",
    "for rect in barplot:\n",
    "    height = rect.get_height()\n",
    "    plt.text(rect.get_x() + rect.get_width()/2.0, height, round(float(height),2), ha='center', va='bottom', fontsize=11)\n",
    "\n",
    "plt.show()"
   ]
  },
  {
   "cell_type": "code",
   "execution_count": 28,
   "metadata": {
    "scrolled": false
   },
   "outputs": [
    {
     "data": {
      "image/png": "[encoded data removed]",
      "text/plain": [
       "<Figure size 864x432 with 1 Axes>"
      ]
     },
     "metadata": {},
     "output_type": "display_data"
    }
   ],
   "source": [
    "#We will now see the distribution of the number orders per day\n",
    "\n",
    "#Getting an auxiliar dataframe to count the number of times each InvoiceDate appears\n",
    "df = pd.DatetimeIndex(data['InvoiceDate']).normalize().value_counts().sort_index()\n",
    "fig = plt.figure(figsize=(12,6))\n",
    "\n",
    "plt.plot(df.index, df.values, linestyle=\"-\")\n",
    "plt.xticks(np.arange(df.index[0], df.index[-1], pd.to_timedelta(30, unit='d')), rotation=45)\n",
    "plt.xlabel('Days', size=14)\n",
    "plt.ylabel('Number of Orders', size=14)\n",
    "plt.title('Distribution of Number of Orders per Day', size=16)\n",
    "plt.grid(False)\n",
    "\n",
    "plt.show()"
   ]
  },
  {
   "cell_type": "markdown",
   "metadata": {},
   "source": [
    "## Clean data"
   ]
  },
  {
   "cell_type": "markdown",
   "metadata": {},
   "source": [
    "### Missing Values"
   ]
  },
  {
   "cell_type": "code",
   "execution_count": 29,
   "metadata": {},
   "outputs": [],
   "source": [
    "#Excluding from our analysis all the entries whose CustomerID is missing, as these are not pertinent for creating a recommendation system, as we can not keep track of their purchases (due to being unregistered customers)\n",
    "data=data[data[\"CustomerID\"].notna()]"
   ]
  },
  {
   "cell_type": "markdown",
   "metadata": {},
   "source": [
    "### Non Products "
   ]
  },
  {
   "cell_type": "code",
   "execution_count": 30,
   "metadata": {},
   "outputs": [],
   "source": [
    "#Dealing with the Non-Product StockCode's which were detected previously, as they are not relevant for our purpose\n",
    "data=data[~data[\"StockCode\"].apply(lambda x: True if len(x)==1 else False)]\n",
    "data=data[data[\"StockCode\"].apply(lambda x: True if x[:-2].isdecimal() else False)]"
   ]
  },
  {
   "cell_type": "code",
   "execution_count": 31,
   "metadata": {},
   "outputs": [],
   "source": [
    "#Dealing with the Cancellations.\n",
    "#As we know that when a customer cancels/returns part of/all his order, this is added to the database, we have to find a way to deal with these cases.\n",
    "#We don't want to keep the entries correspondent to cancellations, when we have the respective purchase present in the dataset, because that would lead to bias in the results (or to make this interaction have twice the weight, or to cancel out the interaction all together, depending on the method chosen to compute the \"Preference\")\n",
    "#Being this said, we decided to only keep the cancelations whose order was prior to our dataset. This way, we can still \"have access\" to an interaction the client made and are not incurring into any bias.\n",
    "\n",
    "#Creating an auxiliar list, to store the indices of the cancellations we wish to keep.\n",
    "stored_inds=[]\n",
    "\n",
    "#Crating a dataframe only with the entries which correspond to returns/cancelations, and leaving out the ones whose CustomerID is missing\n",
    "data_returns=data[data[\"InvoiceNo\"].apply(lambda x: True if x[0]==\"C\" else False)].dropna(subset=[\"CustomerID\"])\n",
    "\n",
    "#Filtering the dataset to find only the customers for who we have a cancellation in our dataset.\n",
    "data_returns_users=data[data[\"CustomerID\"].isin(data_returns[\"CustomerID\"].unique())]\n",
    "\n",
    "#From those, going over each StockCode, InvoiceDate and CustomerID (and index)\n",
    "for ind, value in data_returns[[\"StockCode\", \"InvoiceDate\", \"CustomerID\"]].iterrows():\n",
    "    \n",
    "    #Getting the customer's orders with the same product, which are not cancellations. \n",
    "    selection_data=data_returns_users[(data_returns_users[\"CustomerID\"]==value[\"CustomerID\"])&(data_returns_users[\"StockCode\"]==value[\"StockCode\"]) &(~data_returns_users.InvoiceNo.str.contains(\"C\"))]\n",
    "    \n",
    "    #We have to use \"try\", because if none are found other than the cancelation, it gives an error\n",
    "    try:\n",
    "        #Check if the firt order's date if after the one from the cancelation/return. If so, store the index of this return.\n",
    "        if selection_data.iloc[0][\"InvoiceDate\"]>value[\"InvoiceDate\"]:\n",
    "            stored_inds.append(ind)\n",
    "    except:\n",
    "        continue\n",
    "\n",
    "#Selecting the indexes of the cancelations which we do not intend to keep and losing them.\n",
    "inds_returns_to_drop=[i for i in data[(data[\"InvoiceNo\"].apply(lambda x: True if x[0]==\"C\" else False))].index if i not in stored_inds ]\n",
    "data.drop(inds_returns_to_drop, axis=0, inplace=True)"
   ]
  },
  {
   "cell_type": "code",
   "execution_count": 32,
   "metadata": {},
   "outputs": [],
   "source": [
    "#Deleting the column relative to the customer's country, given that we will not use it.\n",
    "data.drop(\"Country\",axis=1, inplace=True)"
   ]
  },
  {
   "cell_type": "markdown",
   "metadata": {},
   "source": [
    "# Contruction of data"
   ]
  },
  {
   "cell_type": "markdown",
   "metadata": {},
   "source": [
    "## Separate Users for the General Model vs Cold Start Model"
   ]
  },
  {
   "cell_type": "code",
   "execution_count": 33,
   "metadata": {},
   "outputs": [
    {
     "name": "stdout",
     "output_type": "stream",
     "text": [
      "Raw dataset info \n",
      "-----------------\n",
      "Number of users: 4335\n",
      "Number of items: 3659\n",
      "Sparsity: 2.501%\n"
     ]
    }
   ],
   "source": [
    "#We will reduce the sparcity of our user-items matrix\n",
    "\n",
    "#Starting by seeing the current number of users and items and the consequent sparcity.\n",
    "n_users = data['CustomerID'].nunique()\n",
    "n_items = data['StockCode'].nunique()\n",
    "sparsity = float(data.shape[0]) / float(n_users * n_items) * 100\n",
    "print('Raw dataset info \\n-----------------')\n",
    "print('Number of users: {}'.format(n_users))\n",
    "print('Number of items: {}'.format(n_items))\n",
    "print('Sparsity: {:4.3f}%'.format(sparsity))"
   ]
  },
  {
   "cell_type": "code",
   "execution_count": 34,
   "metadata": {},
   "outputs": [],
   "source": [
    "#Adapted from: https://github.com/joaopfonseca/business-cases/blob/master/BC4_recommendation_system/BC4_example.ipynb\n",
    "#We changed the function so that it takes into consideration if the items bought by a customer are different:\n",
    "#Instead of only dropping the customers who have made less than 5 purchases, we drop the ones who have bought less than 5 different items \n",
    "def threshold_ratings(df, iid_min, uid_min, max_iter=None):\n",
    "    \"\"\"Removes items with less than iid_min event occurrences, and users with less than uid_min different items bought.\n",
    "    Credits: https://www.ethanrosenthal.com/2016/10/19/implicit-mf-part-1/\n",
    "    \"\"\"\n",
    "    n_users = df['CustomerID'].nunique()\n",
    "    n_items = df['StockCode'].nunique()\n",
    "    sparsity = float(df.shape[0]) / float(n_users * n_items) * 100\n",
    "    print('Raw dataset info \\n-----------------')\n",
    "    print('Number of users: {}'.format(n_users))\n",
    "    print('Number of items: {}'.format(n_items))\n",
    "    print('Sparsity: {:4.3f}%'.format(sparsity))\n",
    "    \n",
    "    done, i = False, 0\n",
    "    while not done:\n",
    "        starting_shape = df.shape[0]  \n",
    "        \n",
    "        #Making sure that we take out the users who have bought less than uid_min different products\n",
    "        uid_counts = df.groupby([\"CustomerID\", \"StockCode\"], as_index=False)[\"StockCode\"].count().groupby('CustomerID').size() \n",
    "        df = df[~df['CustomerID'].isin(uid_counts[uid_counts < uid_min].index.tolist())]  \n",
    "\n",
    "        iid_counts = df.groupby('StockCode').size() \n",
    "        df = df[~df['StockCode'].isin(iid_counts[iid_counts < iid_min].index.tolist())]  \n",
    "        ending_shape = df.shape[0]  \n",
    "        i += 1\n",
    "        if starting_shape == ending_shape or i == max_iter:  \n",
    "            done = True\n",
    "    \n",
    "    if not max_iter:\n",
    "        assert(df.groupby('CustomerID').size().min() >= uid_min)\n",
    "        assert(df.groupby('StockCode').size().min() >= iid_min)\n",
    "    \n",
    "    n_users = df['CustomerID'].nunique()\n",
    "    n_items = df['StockCode'].nunique()\n",
    "    sparsity = float(data.shape[0]) / float(n_users * n_items) * 100\n",
    "    print('\\n Limited dataset info \\n-----------------')\n",
    "    print('Number of users: {}'.format(n_users))\n",
    "    print('Number of items: {}'.format(n_items))\n",
    "    print('Sparsity: {:4.3f}%'.format(sparsity))\n",
    "    \n",
    "    return df"
   ]
  },
  {
   "cell_type": "code",
   "execution_count": 35,
   "metadata": {},
   "outputs": [
    {
     "name": "stdout",
     "output_type": "stream",
     "text": [
      "Raw dataset info \n",
      "-----------------\n",
      "Number of users: 4335\n",
      "Number of items: 3659\n",
      "Sparsity: 2.501%\n",
      "\n",
      " Limited dataset info \n",
      "-----------------\n",
      "Number of users: 4074\n",
      "Number of items: 3186\n",
      "Sparsity: 3.056%\n"
     ]
    }
   ],
   "source": [
    "#Applying the function to our dataset and obtaining a less sparce dataset, without the users who only appear less than 5 times or the products which were only bought less than 5 times.\n",
    "data_less_sparse = threshold_ratings(data,5,5)"
   ]
  },
  {
   "cell_type": "code",
   "execution_count": 36,
   "metadata": {},
   "outputs": [],
   "source": [
    "#The users which were removed from our \"General Model\" dataset, will be stored to be used further on, for the Cold Start problem\n",
    "ids_less_5=[i for i in data[\"CustomerID\"].unique() if i not in data_less_sparse[\"CustomerID\"].unique()]\n",
    "data_cold_start=data[data[\"CustomerID\"].isin(ids_less_5)]"
   ]
  },
  {
   "cell_type": "markdown",
   "metadata": {},
   "source": [
    "## Modeling"
   ]
  },
  {
   "cell_type": "markdown",
   "metadata": {},
   "source": [
    "### Train and test split"
   ]
  },
  {
   "cell_type": "code",
   "execution_count": 37,
   "metadata": {},
   "outputs": [
    {
     "name": "stdout",
     "output_type": "stream",
     "text": [
      "The dataset has 373 days, corresponding to 53 weeks.\n"
     ]
    }
   ],
   "source": [
    "#We will do our train and test split based on a tempporal approach.\n",
    "#Thus, we start by seeing how many weeks the dataset has\n",
    "diff = (data.InvoiceDate.max() - data.InvoiceDate.min())\n",
    "print(f\"The dataset has {diff.days} days, corresponding to {diff.days//7} weeks.\")"
   ]
  },
  {
   "cell_type": "code",
   "execution_count": 38,
   "metadata": {},
   "outputs": [
    {
     "name": "stdout",
     "output_type": "stream",
     "text": [
      "Proportion of train events: 0.741\n"
     ]
    }
   ],
   "source": [
    "#We define the weeks which we want to consider as train and the ones we want to consider as test.\n",
    "start_train = data_less_sparse['InvoiceDate'].min()\n",
    "start_test = start_train + pd.to_timedelta(46, unit='w')\n",
    "end_test = start_test + pd.to_timedelta(8, unit='w')\n",
    "\n",
    "#Slice our dataset to be in line with was defined\n",
    "data_less_sparse = data_less_sparse.loc[(data_less_sparse['InvoiceDate'] > start_train) & (data_less_sparse['InvoiceDate'] <= end_test)]\n",
    "\n",
    "#Create a column which represents if a line corresponds to the train or test sets.\n",
    "data_less_sparse['train_split'] = (data_less_sparse['InvoiceDate'] <= start_test).astype(int)\n",
    "\n",
    "#Seeing which proportion of events were considered in the train set.\n",
    "print(\"Proportion of train events: {:.3f}\".format(data_less_sparse['train_split'].mean()))"
   ]
  },
  {
   "cell_type": "code",
   "execution_count": 39,
   "metadata": {},
   "outputs": [
    {
     "data": {
      "image/png": "[encoded data removed]",
      "text/plain": [
       "<Figure size 864x432 with 1 Axes>"
      ]
     },
     "metadata": {},
     "output_type": "display_data"
    }
   ],
   "source": [
    "#Visualizing the split made\n",
    "data_time = pd.DatetimeIndex(data_less_sparse['InvoiceDate']).normalize().value_counts().sort_index()\n",
    "fig = plt.figure(figsize=(12,6))\n",
    "\n",
    "plt.plot(data_time.index, data_time.values, linestyle=\"-\")\n",
    "plt.xticks(np.arange(data_time.index[0], data_time.index[-1], pd.to_timedelta(30, unit='d')), rotation=45)\n",
    "plt.vlines(start_test, 0, data_time.max(), linestyles='dashed', color='r', label='train-test split')\n",
    "plt.xlabel('Date', size=14)\n",
    "plt.ylabel('Number of Orders', size=14)\n",
    "plt.legend()\n",
    "plt.title('Train and Test Split: Time Series of the Frequency of Events')\n",
    "plt.grid(False)\n",
    "\n",
    "plt.show()"
   ]
  },
  {
   "cell_type": "markdown",
   "metadata": {},
   "source": [
    "### Preparing data to apply the BPR and the BiVAE models"
   ]
  },
  {
   "cell_type": "code",
   "execution_count": 40,
   "metadata": {},
   "outputs": [],
   "source": [
    "#To apply both the BPR and the BiVAE models, we need to have the dataset in such a way that each line represents the preference for each customer and each product that was purchased by him.\n",
    "#this is, in the format \"CustomerID\", \"StockCode\" and a measure of preference\n",
    "\n",
    "#we start by copying the dataset\n",
    "data_less_sparse_clean=data_less_sparse.copy()\n",
    "\n",
    "#We turn all the Quantitties into 1's, as we will not consider as a measure of interaction the absolute quantity bought, but instead if the item was bought or not in a order\n",
    "data_less_sparse_clean[\"Quantity\"]=data_less_sparse_clean[\"Quantity\"].apply(lambda x: 1)\n",
    "\n",
    "#We drop the duplicates, due to the problem referred before:\n",
    "#If I add 2 units of an item to the cart and then after, only 1 unit, it appears in the dataset/database as 2 separate lines in the same order.\n",
    "#Thus, we have to delete these duplicates, so we can have only different products per order\n",
    "data_less_sparse_clean=data_less_sparse_clean.drop_duplicates()\n",
    "\n",
    "#Separating the data into train and test sets, and selecting only the variables we will use\n",
    "data_train_not_clean=data_less_sparse_clean[data_less_sparse_clean[\"train_split\"]==1][[\"CustomerID\", \"StockCode\", \"Quantity\"]]\n",
    "data_test_not_clean=data_less_sparse_clean[data_less_sparse_clean[\"train_split\"]==0][[\"CustomerID\", \"StockCode\", \"Quantity\"]]\n",
    "\n",
    "#Getting the Number of orders in which each customer bought a specific item (from the ones he bought)\n",
    "values_to_add_train=data_train_not_clean.groupby([\"CustomerID\", \"StockCode\"])[\"Quantity\"].sum()\n",
    "values_to_add_test=data_test_not_clean.groupby([\"CustomerID\", \"StockCode\"])[\"Quantity\"].sum()\n",
    "\n",
    "#Creating our final train ans test datasets\n",
    "data_train=pd.DataFrame(columns=[\"CustomerID\", \"StockCode\", \"Quantity\"], index=np.arange(len(values_to_add_train)))\n",
    "data_test=pd.DataFrame(columns=[\"CustomerID\", \"StockCode\", \"Quantity\"], index=np.arange(len(values_to_add_test)))\n",
    "\n",
    "#Going over the Sums made before and storing the values in the right place, in the format we needed it to be into\n",
    "for index, row in enumerate(values_to_add_train.index):\n",
    "    data_train.loc[index, \"CustomerID\"]=row[0]\n",
    "    data_train.loc[index, \"StockCode\"]=row[1]\n",
    "    data_train.loc[index, \"Quantity\"]=values_to_add_train[row]\n",
    "\n",
    "for index, row in enumerate(values_to_add_test.index):\n",
    "    data_test.loc[index, \"CustomerID\"]=row[0]\n",
    "    data_test.loc[index, \"StockCode\"]=row[1]\n",
    "    data_test.loc[index, \"Quantity\"]=values_to_add_test[row]\n",
    "    \n",
    "\n",
    "#Changing the types\n",
    "data_test[\"CustomerID\"]=data_test[\"CustomerID\"].astype(float)\n",
    "data_test[\"Quantity\"]=data_test[\"Quantity\"].astype(float)\n",
    "\n",
    "#Creating one train dataset in the format the model receives to be fit.\n",
    "data_train_set = cornac.data.Dataset.from_uir(data_train.itertuples(index=False), seed=22)\n"
   ]
  },
  {
   "cell_type": "markdown",
   "metadata": {},
   "source": [
    "### Preparing Data for ALS model"
   ]
  },
  {
   "cell_type": "code",
   "execution_count": 41,
   "metadata": {},
   "outputs": [
    {
     "name": "stdout",
     "output_type": "stream",
     "text": [
      "train set shape: (3186, 4074) and test set shape: (3186, 4074)\n",
      "train set percentage of zeros: 98.41319148791919 and test set percentage of zeros: 99.36159856219265\n"
     ]
    },
    {
     "data": {
      "text/plain": [
       "set()"
      ]
     },
     "execution_count": 41,
     "metadata": {},
     "output_type": "execute_result"
    }
   ],
   "source": [
    "#Copying the dataset\n",
    "data_less_sparse_clean=data_less_sparse.copy()\n",
    "\n",
    "#Making the same change to variable Quantity, as explained above.\n",
    "data_less_sparse_clean[\"Quantity\"]=data_less_sparse_clean[\"Quantity\"].apply(lambda x: 1)\n",
    "\n",
    "#Dropping the duplicates, as explained previously.\n",
    "data_less_sparse_clean=data_less_sparse_clean.drop_duplicates()\n",
    "\n",
    "#Creating a column to be referent to the test_split.\n",
    "data_less_sparse_clean[\"test_split\"]=data_less_sparse_clean[\"train_split\"].apply(lambda x: 1 if x==0 else 0)\n",
    "\n",
    "\n",
    "#We now need to get our data into an item-user matrix, so it can be fed to the ALS model.\n",
    "\n",
    "#Adapted from: https://github.com/joaopfonseca/business-cases/blob/master/BC4_recommendation_system/BC4_example.ipynb\n",
    "\n",
    "#Turining our users and items into categories\n",
    "user_cat = data_less_sparse_clean['CustomerID'].astype('category')\n",
    "item_cat = data_less_sparse_clean['StockCode'].astype(\"category\")\n",
    "\n",
    "\n",
    "#We use the column \"train_split\" as the column which defines the values inputed into the matrix, as this will lead to the train set only to consider the 1's and to sum them as the users and items combinations repeate themselves, which will equal our Preference measure.\n",
    "item_user_train = coo_matrix((data_less_sparse_clean['train_split'],\n",
    "                              (item_cat.cat.codes,\n",
    "                               user_cat.cat.codes))).tocsr()\n",
    "item_user_train.eliminate_zeros()\n",
    "\n",
    "#We get the transpose, which is formate necessary to use it in the future, when we want to recommend items\n",
    "user_item_train = item_user_train.T\n",
    "\n",
    "#We repeat the same for the test set/matrix\n",
    "item_user_test = coo_matrix((data_less_sparse_clean['test_split'],\n",
    "                              (item_cat.cat.codes,\n",
    "                               user_cat.cat.codes))).tocsr()\n",
    "item_user_test.eliminate_zeros()\n",
    "user_item_test = item_user_test.T\n",
    "\n",
    "# map each item and user category to a unique numeric code\n",
    "user_map = dict(zip(user_cat, user_cat.cat.codes))\n",
    "item_map = dict(zip(item_cat, item_cat.cat.codes))\n",
    "\n",
    "def get_keys(value, dictionary):\n",
    "    \"\"\"Function to get dictionary keys with specifiec value\"\"\"\n",
    "    return list(dictionary.keys())[list(dictionary.values()).index(value)]\n",
    "\n",
    "#checking that each matrix has the same shape\n",
    "print(f\"train set shape: {item_user_train.shape} and test set shape: {item_user_test.shape}\")\n",
    "\n",
    "#checking that the percentage of zeros is indeed higher in the test set.\n",
    "pzeros_train = 100 * (1 - item_user_train.count_nonzero() / (item_user_train.shape[0] * item_user_train.shape[1]))\n",
    "pzeros_test = 100 * (1 - item_user_test.count_nonzero() / (item_user_test.shape[0] * item_user_test.shape[1]))\n",
    "print(f\"train set percentage of zeros: {pzeros_train} and test set percentage of zeros: {pzeros_test}\")\n",
    "\n",
    "#Confirming that there are not users without items on both the train and test sets\n",
    "zero_users_test = (np.squeeze(np.asarray(user_item_test.sum(axis=1))) == 0).nonzero()[0]\n",
    "zero_users_train = (np.squeeze(np.asarray(user_item_train.sum(axis=1))) == 0).nonzero()[0]\n",
    "set(zero_users_test).intersection(zero_users_train)"
   ]
  },
  {
   "cell_type": "markdown",
   "metadata": {},
   "source": [
    "### Preparing Data for TF-IDF model"
   ]
  },
  {
   "cell_type": "code",
   "execution_count": 42,
   "metadata": {},
   "outputs": [],
   "source": [
    "# Setting the price for each StockCode, taking into consideration that the same StockCode can have different prices.\n",
    "#We decided to consider the price which occurs more often.\n",
    "price1 = data[['StockCode', 'UnitPrice', 'Quantity']].groupby(['StockCode', 'UnitPrice'], as_index=False).count()\n",
    "price2 = price1.groupby(['StockCode'], as_index=False)['Quantity'].max()\n",
    "price3 = price2.merge(price1, left_on=['StockCode', 'Quantity'], right_on=['StockCode', 'Quantity'])\n",
    "price_final = price3.groupby(['StockCode', 'Quantity'], as_index=False)['UnitPrice'].max()\n",
    "\n",
    "# Setting the description with highest frequency for each StockCode,taking into consideration that the same StockCode can have different descriptions.\n",
    "description1 = data[['StockCode', 'Description', 'Quantity']].groupby(['StockCode', 'Description'], as_index=False).count()\n",
    "description2 = description1.groupby(['StockCode'], as_index=False)['Quantity'].max()\n",
    "description3 = description2.merge(description1, left_on=['StockCode', 'Quantity'], right_on=['StockCode', 'Quantity'])\n",
    "description_final = description3.groupby(['StockCode', 'Quantity'], as_index=False)['Description'].max()\n",
    "\n",
    "data_content = description_final.merge(price_final, left_on=['StockCode'], right_on=['StockCode']).drop(columns=['Quantity_x', 'Quantity_y'])\n",
    "\n",
    "# Add column with price category \n",
    "def price_category(df):\n",
    "    \"\"\"This function receives a dataframe with a column UnitPrice and catagorizes each value into a certain price category.\"\"\"\n",
    "    if df.UnitPrice < 1:\n",
    "        return 'Price_0'\n",
    "    elif 1 <= df.UnitPrice < 2:\n",
    "        return 'Price_1'\n",
    "    elif 2 <= df.UnitPrice < 3:\n",
    "        return 'Price_2'\n",
    "    elif 3 <= df.UnitPrice < 4:\n",
    "        return 'Price_3'\n",
    "    elif 4 <= df.UnitPrice < 5:\n",
    "        return 'Price_4'\n",
    "    else: \n",
    "        return 'Price_5'\n",
    "\n",
    "#Using the function on our dataframe\n",
    "data_content['Price_Category'] = data_content.apply(price_category, axis=1)\n",
    "\n",
    "#Creating a new column with the concatenation of the description and the price category\n",
    "data_content['All'] = data_content['Description'] + ' ' + data_content['Price_Category']"
   ]
  },
  {
   "cell_type": "markdown",
   "metadata": {},
   "source": [
    "### Optimizing the Bayesian Personalized Ranking (BPR) model"
   ]
  },
  {
   "cell_type": "markdown",
   "metadata": {},
   "source": [
    "#### BPR parameters' meaning:\n",
    "\n",
    "* k: The dimension of the latent factors.\n",
    "* max_iter – Maximum number of iterations or the number of epochs for SGD.\n",
    "* learning_rate – The learning rate for SGD.\n",
    "* lambda_reg – The regularization hyper-parameter.\n",
    "\n",
    "(from: https://cornac.readthedocs.io/en/latest/models.html#bayesian-personalized-ranking-bpr )"
   ]
  },
  {
   "cell_type": "code",
   "execution_count": 43,
   "metadata": {
    "scrolled": true
   },
   "outputs": [
    {
     "data": {
      "application/vnd.jupyter.widget-view+json": {
       "model_id": "492cb716f6284134aa93be7af3639c17",
       "version_major": 2,
       "version_minor": 0
      },
      "text/plain": [
       "HBox(children=(HTML(value=''), FloatProgress(value=0.0, max=250.0), HTML(value='')))"
      ]
     },
     "metadata": {},
     "output_type": "display_data"
    },
    {
     "name": "stdout",
     "output_type": "stream",
     "text": [
      "\n",
      "Optimization finished!\n"
     ]
    },
    {
     "data": {
      "application/vnd.jupyter.widget-view+json": {
       "model_id": "32330e6283b04ad7bdb10b212ebf4d1e",
       "version_major": 2,
       "version_minor": 0
      },
      "text/plain": [
       "HBox(children=(HTML(value=''), FloatProgress(value=0.0, max=250.0), HTML(value='')))"
      ]
     },
     "metadata": {},
     "output_type": "display_data"
    },
    {
     "name": "stdout",
     "output_type": "stream",
     "text": [
      "\n",
      "Optimization finished!\n"
     ]
    },
    {
     "data": {
      "application/vnd.jupyter.widget-view+json": {
       "model_id": "12b4cb561314474f87ee90cea0598dd9",
       "version_major": 2,
       "version_minor": 0
      },
      "text/plain": [
       "HBox(children=(HTML(value=''), FloatProgress(value=0.0, max=250.0), HTML(value='')))"
      ]
     },
     "metadata": {},
     "output_type": "display_data"
    },
    {
     "name": "stdout",
     "output_type": "stream",
     "text": [
      "\n",
      "Optimization finished!\n"
     ]
    },
    {
     "data": {
      "application/vnd.jupyter.widget-view+json": {
       "model_id": "01f7bd39da044114a7adecd662caa8ff",
       "version_major": 2,
       "version_minor": 0
      },
      "text/plain": [
       "HBox(children=(HTML(value=''), FloatProgress(value=0.0, max=250.0), HTML(value='')))"
      ]
     },
     "metadata": {},
     "output_type": "display_data"
    },
    {
     "name": "stdout",
     "output_type": "stream",
     "text": [
      "\n",
      "Optimization finished!\n"
     ]
    },
    {
     "data": {
      "application/vnd.jupyter.widget-view+json": {
       "model_id": "c891987bbdec4902be775328b11902aa",
       "version_major": 2,
       "version_minor": 0
      },
      "text/plain": [
       "HBox(children=(HTML(value=''), FloatProgress(value=0.0, max=250.0), HTML(value='')))"
      ]
     },
     "metadata": {},
     "output_type": "display_data"
    },
    {
     "name": "stdout",
     "output_type": "stream",
     "text": [
      "\n",
      "Optimization finished!\n"
     ]
    },
    {
     "data": {
      "application/vnd.jupyter.widget-view+json": {
       "model_id": "78113dcb4ae34b9d94418771eb164c5c",
       "version_major": 2,
       "version_minor": 0
      },
      "text/plain": [
       "HBox(children=(HTML(value=''), FloatProgress(value=0.0, max=250.0), HTML(value='')))"
      ]
     },
     "metadata": {},
     "output_type": "display_data"
    },
    {
     "name": "stdout",
     "output_type": "stream",
     "text": [
      "\n",
      "Optimization finished!\n"
     ]
    },
    {
     "data": {
      "application/vnd.jupyter.widget-view+json": {
       "model_id": "d904d77b9fbe4c6dae9d93d2c7ad1513",
       "version_major": 2,
       "version_minor": 0
      },
      "text/plain": [
       "HBox(children=(HTML(value=''), FloatProgress(value=0.0, max=250.0), HTML(value='')))"
      ]
     },
     "metadata": {},
     "output_type": "display_data"
    },
    {
     "name": "stdout",
     "output_type": "stream",
     "text": [
      "\n",
      "Optimization finished!\n"
     ]
    },
    {
     "data": {
      "application/vnd.jupyter.widget-view+json": {
       "model_id": "fd96f239d6a84c73ab9e0980cc6cee91",
       "version_major": 2,
       "version_minor": 0
      },
      "text/plain": [
       "HBox(children=(HTML(value=''), FloatProgress(value=0.0, max=250.0), HTML(value='')))"
      ]
     },
     "metadata": {},
     "output_type": "display_data"
    },
    {
     "name": "stdout",
     "output_type": "stream",
     "text": [
      "\n",
      "Optimization finished!\n"
     ]
    },
    {
     "data": {
      "application/vnd.jupyter.widget-view+json": {
       "model_id": "f5b9d99bab6d46078aaa79c2e532b488",
       "version_major": 2,
       "version_minor": 0
      },
      "text/plain": [
       "HBox(children=(HTML(value=''), FloatProgress(value=0.0, max=250.0), HTML(value='')))"
      ]
     },
     "metadata": {},
     "output_type": "display_data"
    },
    {
     "name": "stdout",
     "output_type": "stream",
     "text": [
      "\n",
      "Optimization finished!\n"
     ]
    },
    {
     "data": {
      "application/vnd.jupyter.widget-view+json": {
       "model_id": "023768cd5ab84c4782fe3e2bae0a112b",
       "version_major": 2,
       "version_minor": 0
      },
      "text/plain": [
       "HBox(children=(HTML(value=''), FloatProgress(value=0.0, max=250.0), HTML(value='')))"
      ]
     },
     "metadata": {},
     "output_type": "display_data"
    },
    {
     "name": "stdout",
     "output_type": "stream",
     "text": [
      "\n",
      "Optimization finished!\n"
     ]
    },
    {
     "data": {
      "application/vnd.jupyter.widget-view+json": {
       "model_id": "cad42e1b58db4684893731be5da8c7cb",
       "version_major": 2,
       "version_minor": 0
      },
      "text/plain": [
       "HBox(children=(HTML(value=''), FloatProgress(value=0.0, max=250.0), HTML(value='')))"
      ]
     },
     "metadata": {},
     "output_type": "display_data"
    },
    {
     "name": "stdout",
     "output_type": "stream",
     "text": [
      "\n",
      "Optimization finished!\n"
     ]
    },
    {
     "data": {
      "application/vnd.jupyter.widget-view+json": {
       "model_id": "300d71e0b459486c86f555e0d1161e9a",
       "version_major": 2,
       "version_minor": 0
      },
      "text/plain": [
       "HBox(children=(HTML(value=''), FloatProgress(value=0.0, max=250.0), HTML(value='')))"
      ]
     },
     "metadata": {},
     "output_type": "display_data"
    },
    {
     "name": "stdout",
     "output_type": "stream",
     "text": [
      "\n",
      "Optimization finished!\n"
     ]
    },
    {
     "data": {
      "application/vnd.jupyter.widget-view+json": {
       "model_id": "d549c4e97b4f408a9cf1f5d7c6e1859d",
       "version_major": 2,
       "version_minor": 0
      },
      "text/plain": [
       "HBox(children=(HTML(value=''), FloatProgress(value=0.0, max=250.0), HTML(value='')))"
      ]
     },
     "metadata": {},
     "output_type": "display_data"
    },
    {
     "name": "stdout",
     "output_type": "stream",
     "text": [
      "\n",
      "Optimization finished!\n"
     ]
    },
    {
     "data": {
      "application/vnd.jupyter.widget-view+json": {
       "model_id": "b8685d0145f4461d9538693788bf4c1b",
       "version_major": 2,
       "version_minor": 0
      },
      "text/plain": [
       "HBox(children=(HTML(value=''), FloatProgress(value=0.0, max=250.0), HTML(value='')))"
      ]
     },
     "metadata": {},
     "output_type": "display_data"
    },
    {
     "name": "stdout",
     "output_type": "stream",
     "text": [
      "\n",
      "Optimization finished!\n"
     ]
    },
    {
     "data": {
      "application/vnd.jupyter.widget-view+json": {
       "model_id": "50906c5fc7984ee8938107a674d04b10",
       "version_major": 2,
       "version_minor": 0
      },
      "text/plain": [
       "HBox(children=(HTML(value=''), FloatProgress(value=0.0, max=250.0), HTML(value='')))"
      ]
     },
     "metadata": {},
     "output_type": "display_data"
    },
    {
     "name": "stdout",
     "output_type": "stream",
     "text": [
      "\n",
      "Optimization finished!\n"
     ]
    },
    {
     "data": {
      "application/vnd.jupyter.widget-view+json": {
       "model_id": "906806606521464c8160abbfa0a1522a",
       "version_major": 2,
       "version_minor": 0
      },
      "text/plain": [
       "HBox(children=(HTML(value=''), FloatProgress(value=0.0, max=250.0), HTML(value='')))"
      ]
     },
     "metadata": {},
     "output_type": "display_data"
    },
    {
     "name": "stdout",
     "output_type": "stream",
     "text": [
      "\n",
      "Optimization finished!\n"
     ]
    },
    {
     "data": {
      "application/vnd.jupyter.widget-view+json": {
       "model_id": "1d160e22268a440ea17a6115ebaadc95",
       "version_major": 2,
       "version_minor": 0
      },
      "text/plain": [
       "HBox(children=(HTML(value=''), FloatProgress(value=0.0, max=500.0), HTML(value='')))"
      ]
     },
     "metadata": {},
     "output_type": "display_data"
    },
    {
     "name": "stdout",
     "output_type": "stream",
     "text": [
      "\n",
      "Optimization finished!\n"
     ]
    },
    {
     "data": {
      "application/vnd.jupyter.widget-view+json": {
       "model_id": "3545dd6cc1b040e5a52ae855111c2669",
       "version_major": 2,
       "version_minor": 0
      },
      "text/plain": [
       "HBox(children=(HTML(value=''), FloatProgress(value=0.0, max=500.0), HTML(value='')))"
      ]
     },
     "metadata": {},
     "output_type": "display_data"
    },
    {
     "name": "stdout",
     "output_type": "stream",
     "text": [
      "\n",
      "Optimization finished!\n"
     ]
    },
    {
     "data": {
      "application/vnd.jupyter.widget-view+json": {
       "model_id": "2b3af8f7cc954c8abba805b9a1504620",
       "version_major": 2,
       "version_minor": 0
      },
      "text/plain": [
       "HBox(children=(HTML(value=''), FloatProgress(value=0.0, max=500.0), HTML(value='')))"
      ]
     },
     "metadata": {},
     "output_type": "display_data"
    },
    {
     "name": "stdout",
     "output_type": "stream",
     "text": [
      "\n",
      "Optimization finished!\n"
     ]
    },
    {
     "data": {
      "application/vnd.jupyter.widget-view+json": {
       "model_id": "6aaca7a9bf9e43a2a081fedb7b3a4146",
       "version_major": 2,
       "version_minor": 0
      },
      "text/plain": [
       "HBox(children=(HTML(value=''), FloatProgress(value=0.0, max=500.0), HTML(value='')))"
      ]
     },
     "metadata": {},
     "output_type": "display_data"
    },
    {
     "name": "stdout",
     "output_type": "stream",
     "text": [
      "\n",
      "Optimization finished!\n"
     ]
    },
    {
     "data": {
      "application/vnd.jupyter.widget-view+json": {
       "model_id": "25dd46b2819f49e382d0c4cfce24fd01",
       "version_major": 2,
       "version_minor": 0
      },
      "text/plain": [
       "HBox(children=(HTML(value=''), FloatProgress(value=0.0, max=500.0), HTML(value='')))"
      ]
     },
     "metadata": {},
     "output_type": "display_data"
    },
    {
     "name": "stdout",
     "output_type": "stream",
     "text": [
      "\n",
      "Optimization finished!\n"
     ]
    },
    {
     "data": {
      "application/vnd.jupyter.widget-view+json": {
       "model_id": "b0ab3c20818940799ad9832ccf979f27",
       "version_major": 2,
       "version_minor": 0
      },
      "text/plain": [
       "HBox(children=(HTML(value=''), FloatProgress(value=0.0, max=500.0), HTML(value='')))"
      ]
     },
     "metadata": {},
     "output_type": "display_data"
    },
    {
     "name": "stdout",
     "output_type": "stream",
     "text": [
      "\n",
      "Optimization finished!\n"
     ]
    },
    {
     "data": {
      "application/vnd.jupyter.widget-view+json": {
       "model_id": "05dd789e5e0e4ca29a6fe1679ab989dd",
       "version_major": 2,
       "version_minor": 0
      },
      "text/plain": [
       "HBox(children=(HTML(value=''), FloatProgress(value=0.0, max=500.0), HTML(value='')))"
      ]
     },
     "metadata": {},
     "output_type": "display_data"
    },
    {
     "name": "stdout",
     "output_type": "stream",
     "text": [
      "\n",
      "Optimization finished!\n"
     ]
    },
    {
     "data": {
      "application/vnd.jupyter.widget-view+json": {
       "model_id": "2e859530233f40c28a0e91008c736fab",
       "version_major": 2,
       "version_minor": 0
      },
      "text/plain": [
       "HBox(children=(HTML(value=''), FloatProgress(value=0.0, max=500.0), HTML(value='')))"
      ]
     },
     "metadata": {},
     "output_type": "display_data"
    },
    {
     "name": "stdout",
     "output_type": "stream",
     "text": [
      "\n",
      "Optimization finished!\n"
     ]
    },
    {
     "data": {
      "application/vnd.jupyter.widget-view+json": {
       "model_id": "7a3632d0152145d2a226fa8be6de7476",
       "version_major": 2,
       "version_minor": 0
      },
      "text/plain": [
       "HBox(children=(HTML(value=''), FloatProgress(value=0.0, max=500.0), HTML(value='')))"
      ]
     },
     "metadata": {},
     "output_type": "display_data"
    },
    {
     "name": "stdout",
     "output_type": "stream",
     "text": [
      "\n",
      "Optimization finished!\n"
     ]
    },
    {
     "data": {
      "application/vnd.jupyter.widget-view+json": {
       "model_id": "7228a1ecc60b49dc985f4a3af24cf8cd",
       "version_major": 2,
       "version_minor": 0
      },
      "text/plain": [
       "HBox(children=(HTML(value=''), FloatProgress(value=0.0, max=500.0), HTML(value='')))"
      ]
     },
     "metadata": {},
     "output_type": "display_data"
    },
    {
     "name": "stdout",
     "output_type": "stream",
     "text": [
      "\n",
      "Optimization finished!\n"
     ]
    },
    {
     "data": {
      "application/vnd.jupyter.widget-view+json": {
       "model_id": "01ba7458e962414191db97baded507fe",
       "version_major": 2,
       "version_minor": 0
      },
      "text/plain": [
       "HBox(children=(HTML(value=''), FloatProgress(value=0.0, max=500.0), HTML(value='')))"
      ]
     },
     "metadata": {},
     "output_type": "display_data"
    },
    {
     "name": "stdout",
     "output_type": "stream",
     "text": [
      "\n",
      "Optimization finished!\n"
     ]
    },
    {
     "data": {
      "application/vnd.jupyter.widget-view+json": {
       "model_id": "144d36da8eae41c092d5dc9c6f55f2e5",
       "version_major": 2,
       "version_minor": 0
      },
      "text/plain": [
       "HBox(children=(HTML(value=''), FloatProgress(value=0.0, max=500.0), HTML(value='')))"
      ]
     },
     "metadata": {},
     "output_type": "display_data"
    },
    {
     "name": "stdout",
     "output_type": "stream",
     "text": [
      "\n",
      "Optimization finished!\n"
     ]
    },
    {
     "data": {
      "application/vnd.jupyter.widget-view+json": {
       "model_id": "d185e8b465dd45a7974c5008c201d529",
       "version_major": 2,
       "version_minor": 0
      },
      "text/plain": [
       "HBox(children=(HTML(value=''), FloatProgress(value=0.0, max=500.0), HTML(value='')))"
      ]
     },
     "metadata": {},
     "output_type": "display_data"
    },
    {
     "name": "stdout",
     "output_type": "stream",
     "text": [
      "\n",
      "Optimization finished!\n"
     ]
    },
    {
     "data": {
      "application/vnd.jupyter.widget-view+json": {
       "model_id": "776553c956bf4206b007228ecf912a44",
       "version_major": 2,
       "version_minor": 0
      },
      "text/plain": [
       "HBox(children=(HTML(value=''), FloatProgress(value=0.0, max=500.0), HTML(value='')))"
      ]
     },
     "metadata": {},
     "output_type": "display_data"
    },
    {
     "name": "stdout",
     "output_type": "stream",
     "text": [
      "\n",
      "Optimization finished!\n"
     ]
    },
    {
     "data": {
      "application/vnd.jupyter.widget-view+json": {
       "model_id": "12965b5510dd4c0ca008274a22ea6343",
       "version_major": 2,
       "version_minor": 0
      },
      "text/plain": [
       "HBox(children=(HTML(value=''), FloatProgress(value=0.0, max=500.0), HTML(value='')))"
      ]
     },
     "metadata": {},
     "output_type": "display_data"
    },
    {
     "name": "stdout",
     "output_type": "stream",
     "text": [
      "\n",
      "Optimization finished!\n"
     ]
    },
    {
     "data": {
      "application/vnd.jupyter.widget-view+json": {
       "model_id": "bbf0b62cc4de40d6993fa31faa27c799",
       "version_major": 2,
       "version_minor": 0
      },
      "text/plain": [
       "HBox(children=(HTML(value=''), FloatProgress(value=0.0, max=500.0), HTML(value='')))"
      ]
     },
     "metadata": {},
     "output_type": "display_data"
    },
    {
     "name": "stdout",
     "output_type": "stream",
     "text": [
      "\n",
      "Optimization finished!\n"
     ]
    }
   ],
   "source": [
    "#Creating a dataframe to store the results obtained\n",
    "df_results_bpr=pd.DataFrame(columns=[\"parameters\",\"precision_at_k\", \"recall_at_k\", \"map_at_k\", \"ndcg_at_k\"])\n",
    "\n",
    "#an auxilixar variable\n",
    "index=0\n",
    "\n",
    "#Creating loops with the different combinations of values chosen to implement.\n",
    "for nr_int in [250,500]:\n",
    "    MAX_ITER=nr_int\n",
    "    for latent_dim in [50,75,100, 125]:\n",
    "        LATENT_DIM=latent_dim\n",
    "        for learning_rate in [0.001,0.01]:\n",
    "            LEARNING_RATE=learning_rate\n",
    "            for lambda_reg in [0.001,0.0001]:\n",
    "                LAMBDA_REG= lambda_reg\n",
    "                \n",
    "                #creating the model\n",
    "                bpr = cornac.models.BPR(\n",
    "                k=LATENT_DIM,\n",
    "                max_iter=MAX_ITER,\n",
    "                learning_rate=LEARNING_RATE,\n",
    "                lambda_reg=LAMBDA_REG,\n",
    "                verbose=True,\n",
    "                seed=22)\n",
    "                \n",
    "                #fitting the model\n",
    "                bpr.fit(data_train_set)\n",
    "                \n",
    "                #Using the model to predict/recommend\n",
    "                all_predictions = predict_ranking(bpr, data_train, usercol='CustomerID', itemcol='StockCode', remove_seen=True)\n",
    "                \n",
    "                #Computing the metrics we intend to observe\n",
    "                precision=precision_at_k(data_test, all_predictions, col_prediction='prediction', k=10, col_user=\"CustomerID\", col_item=\"StockCode\",col_rating='Quantity')\n",
    "                map_k = map_at_k(data_test, all_predictions, col_prediction='prediction', k=10, col_user=\"CustomerID\", col_item=\"StockCode\",col_rating='Quantity')\n",
    "                ndcg = ndcg_at_k(data_test, all_predictions, col_prediction='prediction', k=10, col_user=\"CustomerID\", col_item=\"StockCode\",col_rating='Quantity')\n",
    "                recall = recall_at_k(data_test, all_predictions, col_prediction='prediction', k=10, col_user=\"CustomerID\", col_item=\"StockCode\",col_rating='Quantity')\n",
    "\n",
    "                #storing the results obtained\n",
    "                df_results_bpr.loc[index, \"parameters\"]=str(MAX_ITER)+\" iterations, \"+str(LATENT_DIM)+ \" lat_dim, \"+str(LEARNING_RATE)+\" learn_rate, \"+str(LAMBDA_REG)+\" Lambda_Reg\"\n",
    "                df_results_bpr.loc[index, \"precision_at_k\"]=precision\n",
    "                df_results_bpr.loc[index, \"recall_at_k\"]=recall\n",
    "                df_results_bpr.loc[index, \"map_at_k\"]=map_k\n",
    "                df_results_bpr.loc[index, \"ndcg_at_k\"]=ndcg\n",
    "                index+=1"
   ]
  },
  {
   "cell_type": "code",
   "execution_count": 44,
   "metadata": {
    "scrolled": true
   },
   "outputs": [
    {
     "data": {
      "text/html": [
       "<div>\n",
       "<style scoped>\n",
       "    .dataframe tbody tr th:only-of-type {\n",
       "        vertical-align: middle;\n",
       "    }\n",
       "\n",
       "    .dataframe tbody tr th {\n",
       "        vertical-align: top;\n",
       "    }\n",
       "\n",
       "    .dataframe thead th {\n",
       "        text-align: right;\n",
       "    }\n",
       "</style>\n",
       "<table border=\"1\" class=\"dataframe\">\n",
       "  <thead>\n",
       "    <tr style=\"text-align: right;\">\n",
       "      <th></th>\n",
       "      <th>parameters</th>\n",
       "      <th>precision_at_k</th>\n",
       "      <th>recall_at_k</th>\n",
       "      <th>map_at_k</th>\n",
       "      <th>ndcg_at_k</th>\n",
       "    </tr>\n",
       "  </thead>\n",
       "  <tbody>\n",
       "    <tr>\n",
       "      <th>14</th>\n",
       "      <td>250 iterations, 125 lat_dim, 0.01 learn_rate, ...</td>\n",
       "      <td>0.0683073</td>\n",
       "      <td>0.0239867</td>\n",
       "      <td>0.0107051</td>\n",
       "      <td>0.0747799</td>\n",
       "    </tr>\n",
       "    <tr>\n",
       "      <th>15</th>\n",
       "      <td>250 iterations, 125 lat_dim, 0.01 learn_rate, ...</td>\n",
       "      <td>0.0658463</td>\n",
       "      <td>0.0231644</td>\n",
       "      <td>0.0105739</td>\n",
       "      <td>0.0735837</td>\n",
       "    </tr>\n",
       "    <tr>\n",
       "      <th>10</th>\n",
       "      <td>250 iterations, 100 lat_dim, 0.01 learn_rate, ...</td>\n",
       "      <td>0.0656663</td>\n",
       "      <td>0.0238219</td>\n",
       "      <td>0.0103916</td>\n",
       "      <td>0.0738246</td>\n",
       "    </tr>\n",
       "    <tr>\n",
       "      <th>30</th>\n",
       "      <td>500 iterations, 125 lat_dim, 0.01 learn_rate, ...</td>\n",
       "      <td>0.0662065</td>\n",
       "      <td>0.0247861</td>\n",
       "      <td>0.0103404</td>\n",
       "      <td>0.0732054</td>\n",
       "    </tr>\n",
       "    <tr>\n",
       "      <th>11</th>\n",
       "      <td>250 iterations, 100 lat_dim, 0.01 learn_rate, ...</td>\n",
       "      <td>0.0654262</td>\n",
       "      <td>0.0237109</td>\n",
       "      <td>0.0102821</td>\n",
       "      <td>0.0732419</td>\n",
       "    </tr>\n",
       "  </tbody>\n",
       "</table>\n",
       "</div>"
      ],
      "text/plain": [
       "                                           parameters precision_at_k  \\\n",
       "14  250 iterations, 125 lat_dim, 0.01 learn_rate, ...      0.0683073   \n",
       "15  250 iterations, 125 lat_dim, 0.01 learn_rate, ...      0.0658463   \n",
       "10  250 iterations, 100 lat_dim, 0.01 learn_rate, ...      0.0656663   \n",
       "30  500 iterations, 125 lat_dim, 0.01 learn_rate, ...      0.0662065   \n",
       "11  250 iterations, 100 lat_dim, 0.01 learn_rate, ...      0.0654262   \n",
       "\n",
       "   recall_at_k   map_at_k  ndcg_at_k  \n",
       "14   0.0239867  0.0107051  0.0747799  \n",
       "15   0.0231644  0.0105739  0.0735837  \n",
       "10   0.0238219  0.0103916  0.0738246  \n",
       "30   0.0247861  0.0103404  0.0732054  \n",
       "11   0.0237109  0.0102821  0.0732419  "
      ]
     },
     "execution_count": 44,
     "metadata": {},
     "output_type": "execute_result"
    }
   ],
   "source": [
    "#Checking the results, sorting by the MAP at K measure, giving it is the one we consider most important\n",
    "df_results_bpr.sort_values(by=\"map_at_k\", ascending=False).head()"
   ]
  },
  {
   "cell_type": "code",
   "execution_count": 45,
   "metadata": {},
   "outputs": [],
   "source": [
    "#Storing the results in an excel, so we can access it.\n",
    "df_results_bpr.to_excel(\"results_bpr.xlsx\")"
   ]
  },
  {
   "cell_type": "markdown",
   "metadata": {},
   "source": [
    "### Optimizing the Bilateral VAE for Collaborative Filtering (BiVAECF) model"
   ]
  },
  {
   "cell_type": "markdown",
   "metadata": {},
   "source": [
    "#### BiVAE parameters' meaning:\n",
    "\n",
    "* k – The dimension of the stochastic user theta and item beta factors.\n",
    "* encoder_structure – The number of neurons per layer of the user and item encoders for BiVAE. For example, encoder_structure = [20], the user (item) encoder structure will be [num_items, 20, k] ([num_users, 20, k]).\n",
    "* act_fn – Name of the activation function used between hidden layers of the auto-encoder. \n",
    "* likelihood – The likelihood function used for modeling the observations.\n",
    "* n_epochs – The number of epochs for SGD.\n",
    "* batch_size – The batch size.\n",
    "* learning_rate – The learning rate for Adam.\n",
    "* beta_kl – The weight of the KL terms as in beta-VAE.\n",
    "\n",
    "(from: https://cornac.readthedocs.io/en/latest/models.html#module-cornac.models.bivaecf.recom_bivaecf )"
   ]
  },
  {
   "cell_type": "code",
   "execution_count": 47,
   "metadata": {
    "scrolled": true
   },
   "outputs": [
    {
     "data": {
      "application/vnd.jupyter.widget-view+json": {
       "model_id": "908e4983cab94bf2820ef8304bf6ea37",
       "version_major": 2,
       "version_minor": 0
      },
      "text/plain": [
       "HBox(children=(HTML(value=''), FloatProgress(value=0.0), HTML(value='')))"
      ]
     },
     "metadata": {},
     "output_type": "display_data"
    },
    {
     "name": "stdout",
     "output_type": "stream",
     "text": [
      "\n"
     ]
    },
    {
     "data": {
      "application/vnd.jupyter.widget-view+json": {
       "model_id": "28457b0c67de4fa3ae14320eada2c0c5",
       "version_major": 2,
       "version_minor": 0
      },
      "text/plain": [
       "HBox(children=(HTML(value=''), FloatProgress(value=0.0), HTML(value='')))"
      ]
     },
     "metadata": {},
     "output_type": "display_data"
    },
    {
     "name": "stdout",
     "output_type": "stream",
     "text": [
      "\n"
     ]
    },
    {
     "data": {
      "application/vnd.jupyter.widget-view+json": {
       "model_id": "ed052117d03c4bc6a9c319a5edf312b1",
       "version_major": 2,
       "version_minor": 0
      },
      "text/plain": [
       "HBox(children=(HTML(value=''), FloatProgress(value=0.0), HTML(value='')))"
      ]
     },
     "metadata": {},
     "output_type": "display_data"
    },
    {
     "name": "stdout",
     "output_type": "stream",
     "text": [
      "\n"
     ]
    },
    {
     "data": {
      "application/vnd.jupyter.widget-view+json": {
       "model_id": "d04b9f03686642499a1bd5f734a0669d",
       "version_major": 2,
       "version_minor": 0
      },
      "text/plain": [
       "HBox(children=(HTML(value=''), FloatProgress(value=0.0), HTML(value='')))"
      ]
     },
     "metadata": {},
     "output_type": "display_data"
    },
    {
     "name": "stdout",
     "output_type": "stream",
     "text": [
      "\n"
     ]
    },
    {
     "data": {
      "application/vnd.jupyter.widget-view+json": {
       "model_id": "0335eb7852574faa88b31acd0b488214",
       "version_major": 2,
       "version_minor": 0
      },
      "text/plain": [
       "HBox(children=(HTML(value=''), FloatProgress(value=0.0), HTML(value='')))"
      ]
     },
     "metadata": {},
     "output_type": "display_data"
    },
    {
     "name": "stdout",
     "output_type": "stream",
     "text": [
      "\n"
     ]
    },
    {
     "data": {
      "application/vnd.jupyter.widget-view+json": {
       "model_id": "95ef288d5a9043e79d23cc03c981a036",
       "version_major": 2,
       "version_minor": 0
      },
      "text/plain": [
       "HBox(children=(HTML(value=''), FloatProgress(value=0.0), HTML(value='')))"
      ]
     },
     "metadata": {},
     "output_type": "display_data"
    },
    {
     "name": "stdout",
     "output_type": "stream",
     "text": [
      "\n"
     ]
    },
    {
     "data": {
      "application/vnd.jupyter.widget-view+json": {
       "model_id": "73378000a1dd4624ab79567782ae8822",
       "version_major": 2,
       "version_minor": 0
      },
      "text/plain": [
       "HBox(children=(HTML(value=''), FloatProgress(value=0.0), HTML(value='')))"
      ]
     },
     "metadata": {},
     "output_type": "display_data"
    },
    {
     "name": "stdout",
     "output_type": "stream",
     "text": [
      "\n"
     ]
    },
    {
     "data": {
      "application/vnd.jupyter.widget-view+json": {
       "model_id": "102574a1653b4786a4e3e03cef03af44",
       "version_major": 2,
       "version_minor": 0
      },
      "text/plain": [
       "HBox(children=(HTML(value=''), FloatProgress(value=0.0), HTML(value='')))"
      ]
     },
     "metadata": {},
     "output_type": "display_data"
    },
    {
     "name": "stdout",
     "output_type": "stream",
     "text": [
      "\n"
     ]
    },
    {
     "data": {
      "application/vnd.jupyter.widget-view+json": {
       "model_id": "10b9c09640a24cbc9633cff63879e0b5",
       "version_major": 2,
       "version_minor": 0
      },
      "text/plain": [
       "HBox(children=(HTML(value=''), FloatProgress(value=0.0), HTML(value='')))"
      ]
     },
     "metadata": {},
     "output_type": "display_data"
    },
    {
     "name": "stdout",
     "output_type": "stream",
     "text": [
      "\n"
     ]
    },
    {
     "data": {
      "application/vnd.jupyter.widget-view+json": {
       "model_id": "dbf0ca43e59c42fb9bd3994b7d0a1d31",
       "version_major": 2,
       "version_minor": 0
      },
      "text/plain": [
       "HBox(children=(HTML(value=''), FloatProgress(value=0.0), HTML(value='')))"
      ]
     },
     "metadata": {},
     "output_type": "display_data"
    },
    {
     "name": "stdout",
     "output_type": "stream",
     "text": [
      "\n"
     ]
    },
    {
     "data": {
      "application/vnd.jupyter.widget-view+json": {
       "model_id": "06627b042f5944fb808516df91a4afa9",
       "version_major": 2,
       "version_minor": 0
      },
      "text/plain": [
       "HBox(children=(HTML(value=''), FloatProgress(value=0.0), HTML(value='')))"
      ]
     },
     "metadata": {},
     "output_type": "display_data"
    },
    {
     "name": "stdout",
     "output_type": "stream",
     "text": [
      "\n"
     ]
    },
    {
     "data": {
      "application/vnd.jupyter.widget-view+json": {
       "model_id": "7f96be6df5064a6b9b4ab3394d912a6b",
       "version_major": 2,
       "version_minor": 0
      },
      "text/plain": [
       "HBox(children=(HTML(value=''), FloatProgress(value=0.0), HTML(value='')))"
      ]
     },
     "metadata": {},
     "output_type": "display_data"
    },
    {
     "name": "stdout",
     "output_type": "stream",
     "text": [
      "\n"
     ]
    },
    {
     "data": {
      "application/vnd.jupyter.widget-view+json": {
       "model_id": "220c467ffddd44e896c7dec607df477f",
       "version_major": 2,
       "version_minor": 0
      },
      "text/plain": [
       "HBox(children=(HTML(value=''), FloatProgress(value=0.0), HTML(value='')))"
      ]
     },
     "metadata": {},
     "output_type": "display_data"
    },
    {
     "name": "stdout",
     "output_type": "stream",
     "text": [
      "\n"
     ]
    },
    {
     "data": {
      "application/vnd.jupyter.widget-view+json": {
       "model_id": "50248445dbec44b0b855649d6d3266d3",
       "version_major": 2,
       "version_minor": 0
      },
      "text/plain": [
       "HBox(children=(HTML(value=''), FloatProgress(value=0.0), HTML(value='')))"
      ]
     },
     "metadata": {},
     "output_type": "display_data"
    },
    {
     "name": "stdout",
     "output_type": "stream",
     "text": [
      "\n"
     ]
    },
    {
     "data": {
      "application/vnd.jupyter.widget-view+json": {
       "model_id": "49c1b458db9e46868971c796af9dfb4b",
       "version_major": 2,
       "version_minor": 0
      },
      "text/plain": [
       "HBox(children=(HTML(value=''), FloatProgress(value=0.0), HTML(value='')))"
      ]
     },
     "metadata": {},
     "output_type": "display_data"
    },
    {
     "name": "stdout",
     "output_type": "stream",
     "text": [
      "\n"
     ]
    },
    {
     "data": {
      "application/vnd.jupyter.widget-view+json": {
       "model_id": "8753814539164307b3f49dcad6755ba5",
       "version_major": 2,
       "version_minor": 0
      },
      "text/plain": [
       "HBox(children=(HTML(value=''), FloatProgress(value=0.0), HTML(value='')))"
      ]
     },
     "metadata": {},
     "output_type": "display_data"
    },
    {
     "name": "stdout",
     "output_type": "stream",
     "text": [
      "\n"
     ]
    },
    {
     "data": {
      "application/vnd.jupyter.widget-view+json": {
       "model_id": "70eac8e7392e458aa47425dccbb95c23",
       "version_major": 2,
       "version_minor": 0
      },
      "text/plain": [
       "HBox(children=(HTML(value=''), FloatProgress(value=0.0), HTML(value='')))"
      ]
     },
     "metadata": {},
     "output_type": "display_data"
    },
    {
     "name": "stdout",
     "output_type": "stream",
     "text": [
      "\n"
     ]
    },
    {
     "data": {
      "application/vnd.jupyter.widget-view+json": {
       "model_id": "10b20287e41c47169601f6b5d0b79705",
       "version_major": 2,
       "version_minor": 0
      },
      "text/plain": [
       "HBox(children=(HTML(value=''), FloatProgress(value=0.0), HTML(value='')))"
      ]
     },
     "metadata": {},
     "output_type": "display_data"
    },
    {
     "name": "stdout",
     "output_type": "stream",
     "text": [
      "\n"
     ]
    },
    {
     "data": {
      "application/vnd.jupyter.widget-view+json": {
       "model_id": "86d4fa8ee39143559e6bea44613b9fac",
       "version_major": 2,
       "version_minor": 0
      },
      "text/plain": [
       "HBox(children=(HTML(value=''), FloatProgress(value=0.0), HTML(value='')))"
      ]
     },
     "metadata": {},
     "output_type": "display_data"
    },
    {
     "name": "stdout",
     "output_type": "stream",
     "text": [
      "\n"
     ]
    },
    {
     "data": {
      "application/vnd.jupyter.widget-view+json": {
       "model_id": "91b623576630479b8cdc3649c93356d7",
       "version_major": 2,
       "version_minor": 0
      },
      "text/plain": [
       "HBox(children=(HTML(value=''), FloatProgress(value=0.0), HTML(value='')))"
      ]
     },
     "metadata": {},
     "output_type": "display_data"
    },
    {
     "name": "stdout",
     "output_type": "stream",
     "text": [
      "\n"
     ]
    },
    {
     "data": {
      "application/vnd.jupyter.widget-view+json": {
       "model_id": "f232ce96e0ba48d898b743266770eb73",
       "version_major": 2,
       "version_minor": 0
      },
      "text/plain": [
       "HBox(children=(HTML(value=''), FloatProgress(value=0.0), HTML(value='')))"
      ]
     },
     "metadata": {},
     "output_type": "display_data"
    },
    {
     "name": "stdout",
     "output_type": "stream",
     "text": [
      "\n"
     ]
    },
    {
     "data": {
      "application/vnd.jupyter.widget-view+json": {
       "model_id": "317725154b644d4db433bc8cd538e688",
       "version_major": 2,
       "version_minor": 0
      },
      "text/plain": [
       "HBox(children=(HTML(value=''), FloatProgress(value=0.0), HTML(value='')))"
      ]
     },
     "metadata": {},
     "output_type": "display_data"
    },
    {
     "name": "stdout",
     "output_type": "stream",
     "text": [
      "\n"
     ]
    },
    {
     "data": {
      "application/vnd.jupyter.widget-view+json": {
       "model_id": "5ee29c9c40bb4213a1f843ab08c845df",
       "version_major": 2,
       "version_minor": 0
      },
      "text/plain": [
       "HBox(children=(HTML(value=''), FloatProgress(value=0.0), HTML(value='')))"
      ]
     },
     "metadata": {},
     "output_type": "display_data"
    },
    {
     "name": "stdout",
     "output_type": "stream",
     "text": [
      "\n"
     ]
    },
    {
     "data": {
      "application/vnd.jupyter.widget-view+json": {
       "model_id": "26df730da27a4d92a8d9d2ac74d9368d",
       "version_major": 2,
       "version_minor": 0
      },
      "text/plain": [
       "HBox(children=(HTML(value=''), FloatProgress(value=0.0), HTML(value='')))"
      ]
     },
     "metadata": {},
     "output_type": "display_data"
    },
    {
     "name": "stdout",
     "output_type": "stream",
     "text": [
      "\n"
     ]
    }
   ],
   "source": [
    "#Creating a dataframe to store the results\n",
    "df_results_bivae=pd.DataFrame(columns=[\"parameters\",\"precision_at_k\", \"recall_at_k\", \"map_at_k\", \"ndcg_at_k\"])\n",
    "index=0\n",
    "\n",
    "#Creating loops to go over the values for each parameter we want to test.\n",
    "for nr_epoch in [100]:\n",
    "    NUM_EPOCHS=nr_epoch\n",
    "    for latent_dim in [10,50,100]:\n",
    "        LATENT_DIM = latent_dim\n",
    "        for encoder_dim in [[20], [50]]:\n",
    "            ENCODER_DIMS=encoder_dim\n",
    "            for act_func in [ 'tanh']:\n",
    "                ACT_FUNC=act_func\n",
    "                for like in [\"pois\"]:\n",
    "                    LIKELIHOOD=like\n",
    "                    for batch in [128]:\n",
    "                        BATCH_SIZE=batch\n",
    "                        for learn_rate in [0.01,0.001]:\n",
    "                            LEARNING_RATE=learn_rate\n",
    "                            for beta in [1, 1.5]:\n",
    "                                BETA=beta\n",
    "                            \n",
    "                                #Creating the model\n",
    "                                bivae = cornac.models.BiVAECF(\n",
    "                                k=LATENT_DIM,\n",
    "                                encoder_structure=ENCODER_DIMS,\n",
    "                                act_fn=ACT_FUNC,\n",
    "                                likelihood=LIKELIHOOD,\n",
    "                                n_epochs=NUM_EPOCHS,\n",
    "                                batch_size=BATCH_SIZE,\n",
    "                                learning_rate=LEARNING_RATE,\n",
    "                                beta_kl=BETA,\n",
    "                                seed=22,\n",
    "                                use_gpu=True,\n",
    "                                verbose=True\n",
    "                                )\n",
    "                               \n",
    "                                #Fitting the model\n",
    "                                bivae.fit(data_train_set)\n",
    "                            \n",
    "                                #computing the predictions/recommendations\n",
    "                                all_predictions = predict_ranking(bivae, data_train, usercol='CustomerID', itemcol='StockCode', remove_seen=True)\n",
    "                            \n",
    "                                #Computing the measures we intend to analyse\n",
    "                                precision=precision_at_k(data_test, all_predictions, col_prediction='prediction', k=10, col_user=\"CustomerID\", col_item=\"StockCode\",col_rating='Quantity')\n",
    "                                map_k = map_at_k(data_test, all_predictions, col_prediction='prediction', k=10, col_user=\"CustomerID\", col_item=\"StockCode\",col_rating='Quantity')\n",
    "                                ndcg = ndcg_at_k(data_test, all_predictions, col_prediction='prediction', k=10, col_user=\"CustomerID\", col_item=\"StockCode\",col_rating='Quantity')\n",
    "                                recall = recall_at_k(data_test, all_predictions, col_prediction='prediction', k=10, col_user=\"CustomerID\", col_item=\"StockCode\",col_rating='Quantity')\n",
    "                            \n",
    "                                #Storing the results\n",
    "                                df_results_bivae.loc[index, \"parameters\"]=str(NUM_EPOCHS)+\" epochs,\"+str(LATENT_DIM)+ \" lat_dim, \"+ str(ENCODER_DIMS)+\" enc_dims, \"+str(ACT_FUNC)+\" act_func, \"+str(LIKELIHOOD)+ \" like, \"+str(BATCH_SIZE)+\" batch_size, \"+str(LEARNING_RATE)+\" learn_rate\"+str(BETA)+\" beta\"\n",
    "                                df_results_bivae.loc[index, \"precision_at_k\"]=precision\n",
    "                                df_results_bivae.loc[index, \"recall_at_k\"]=recall\n",
    "                                df_results_bivae.loc[index, \"map_at_k\"]=map_k\n",
    "                                df_results_bivae.loc[index, \"ndcg_at_k\"]=ndcg\n",
    "                                index+=1"
   ]
  },
  {
   "cell_type": "code",
   "execution_count": 48,
   "metadata": {},
   "outputs": [
    {
     "data": {
      "text/html": [
       "<div>\n",
       "<style scoped>\n",
       "    .dataframe tbody tr th:only-of-type {\n",
       "        vertical-align: middle;\n",
       "    }\n",
       "\n",
       "    .dataframe tbody tr th {\n",
       "        vertical-align: top;\n",
       "    }\n",
       "\n",
       "    .dataframe thead th {\n",
       "        text-align: right;\n",
       "    }\n",
       "</style>\n",
       "<table border=\"1\" class=\"dataframe\">\n",
       "  <thead>\n",
       "    <tr style=\"text-align: right;\">\n",
       "      <th></th>\n",
       "      <th>parameters</th>\n",
       "      <th>precision_at_k</th>\n",
       "      <th>recall_at_k</th>\n",
       "      <th>map_at_k</th>\n",
       "      <th>ndcg_at_k</th>\n",
       "    </tr>\n",
       "  </thead>\n",
       "  <tbody>\n",
       "    <tr>\n",
       "      <th>15</th>\n",
       "      <td>100 epochs,50 lat_dim, [50] enc_dims, tanh act...</td>\n",
       "      <td>0.0606843</td>\n",
       "      <td>0.020975</td>\n",
       "      <td>0.00856711</td>\n",
       "      <td>0.0663851</td>\n",
       "    </tr>\n",
       "    <tr>\n",
       "      <th>14</th>\n",
       "      <td>100 epochs,50 lat_dim, [50] enc_dims, tanh act...</td>\n",
       "      <td>0.0566627</td>\n",
       "      <td>0.0205089</td>\n",
       "      <td>0.00847121</td>\n",
       "      <td>0.0616349</td>\n",
       "    </tr>\n",
       "    <tr>\n",
       "      <th>23</th>\n",
       "      <td>100 epochs,100 lat_dim, [50] enc_dims, tanh ac...</td>\n",
       "      <td>0.0547419</td>\n",
       "      <td>0.018689</td>\n",
       "      <td>0.00784298</td>\n",
       "      <td>0.0596498</td>\n",
       "    </tr>\n",
       "    <tr>\n",
       "      <th>6</th>\n",
       "      <td>100 epochs,10 lat_dim, [50] enc_dims, tanh act...</td>\n",
       "      <td>0.0546819</td>\n",
       "      <td>0.0190879</td>\n",
       "      <td>0.00771826</td>\n",
       "      <td>0.0597702</td>\n",
       "    </tr>\n",
       "    <tr>\n",
       "      <th>21</th>\n",
       "      <td>100 epochs,100 lat_dim, [50] enc_dims, tanh ac...</td>\n",
       "      <td>0.0562425</td>\n",
       "      <td>0.0193938</td>\n",
       "      <td>0.00743504</td>\n",
       "      <td>0.0592843</td>\n",
       "    </tr>\n",
       "  </tbody>\n",
       "</table>\n",
       "</div>"
      ],
      "text/plain": [
       "                                           parameters precision_at_k  \\\n",
       "15  100 epochs,50 lat_dim, [50] enc_dims, tanh act...      0.0606843   \n",
       "14  100 epochs,50 lat_dim, [50] enc_dims, tanh act...      0.0566627   \n",
       "23  100 epochs,100 lat_dim, [50] enc_dims, tanh ac...      0.0547419   \n",
       "6   100 epochs,10 lat_dim, [50] enc_dims, tanh act...      0.0546819   \n",
       "21  100 epochs,100 lat_dim, [50] enc_dims, tanh ac...      0.0562425   \n",
       "\n",
       "   recall_at_k    map_at_k  ndcg_at_k  \n",
       "15    0.020975  0.00856711  0.0663851  \n",
       "14   0.0205089  0.00847121  0.0616349  \n",
       "23    0.018689  0.00784298  0.0596498  \n",
       "6    0.0190879  0.00771826  0.0597702  \n",
       "21   0.0193938  0.00743504  0.0592843  "
      ]
     },
     "execution_count": 48,
     "metadata": {},
     "output_type": "execute_result"
    }
   ],
   "source": [
    "#Seeing the results, sorting by the measure we are most interest in: MAP at K\n",
    "df_results_bivae.sort_values(by=\"map_at_k\", ascending=False).head()"
   ]
  },
  {
   "cell_type": "code",
   "execution_count": 49,
   "metadata": {},
   "outputs": [],
   "source": [
    "#Stroing the results in an excel, so we can access them\n",
    "df_results_bivae.to_excel(\"results_bivae100epochs.xlsx\")"
   ]
  },
  {
   "cell_type": "markdown",
   "metadata": {},
   "source": [
    "### Optimizing the Alternating Least Squares (ALS) model"
   ]
  },
  {
   "cell_type": "markdown",
   "metadata": {},
   "source": [
    "#### ALS parameters' meaning:\n",
    "\n",
    "* factors – The number of latent factors to compute\n",
    "* regularization – The regularization factor to use\n",
    "* iterations – The number of ALS iterations to use when fitting data\n",
    "* alpha - Rate of increase in Preference.\n",
    "\n",
    "(from: https://implicit.readthedocs.io/en/latest/als.html  and http://yifanhu.net/PUB/cf.pdf)"
   ]
  },
  {
   "cell_type": "code",
   "execution_count": 59,
   "metadata": {
    "scrolled": true
   },
   "outputs": [
    {
     "data": {
      "application/vnd.jupyter.widget-view+json": {
       "model_id": "17305726f02e4a988386962f0655e08f",
       "version_major": 2,
       "version_minor": 0
      },
      "text/plain": [
       "HBox(children=(HTML(value=''), FloatProgress(value=0.0, max=200.0), HTML(value='')))"
      ]
     },
     "metadata": {},
     "output_type": "display_data"
    },
    {
     "name": "stdout",
     "output_type": "stream",
     "text": [
      "\n"
     ]
    },
    {
     "data": {
      "application/vnd.jupyter.widget-view+json": {
       "model_id": "aa2aabea22044c128168bd37efe4636a",
       "version_major": 2,
       "version_minor": 0
      },
      "text/plain": [
       "HBox(children=(HTML(value=''), FloatProgress(value=0.0, max=500.0), HTML(value='')))"
      ]
     },
     "metadata": {},
     "output_type": "display_data"
    },
    {
     "name": "stdout",
     "output_type": "stream",
     "text": [
      "\n"
     ]
    },
    {
     "data": {
      "application/vnd.jupyter.widget-view+json": {
       "model_id": "c9fd19cd82cb42d89c14cb1cb11074e3",
       "version_major": 2,
       "version_minor": 0
      },
      "text/plain": [
       "HBox(children=(HTML(value=''), FloatProgress(value=0.0, max=200.0), HTML(value='')))"
      ]
     },
     "metadata": {},
     "output_type": "display_data"
    },
    {
     "name": "stdout",
     "output_type": "stream",
     "text": [
      "\n"
     ]
    },
    {
     "data": {
      "application/vnd.jupyter.widget-view+json": {
       "model_id": "5f64aff5828f4753bde03667711469a6",
       "version_major": 2,
       "version_minor": 0
      },
      "text/plain": [
       "HBox(children=(HTML(value=''), FloatProgress(value=0.0, max=500.0), HTML(value='')))"
      ]
     },
     "metadata": {},
     "output_type": "display_data"
    },
    {
     "name": "stdout",
     "output_type": "stream",
     "text": [
      "\n"
     ]
    },
    {
     "data": {
      "application/vnd.jupyter.widget-view+json": {
       "model_id": "ddd251a080cd4af982dc565f77cd202d",
       "version_major": 2,
       "version_minor": 0
      },
      "text/plain": [
       "HBox(children=(HTML(value=''), FloatProgress(value=0.0, max=200.0), HTML(value='')))"
      ]
     },
     "metadata": {},
     "output_type": "display_data"
    },
    {
     "name": "stdout",
     "output_type": "stream",
     "text": [
      "\n"
     ]
    },
    {
     "data": {
      "application/vnd.jupyter.widget-view+json": {
       "model_id": "14cf218cc0b841d3a7830c6800ca0b6e",
       "version_major": 2,
       "version_minor": 0
      },
      "text/plain": [
       "HBox(children=(HTML(value=''), FloatProgress(value=0.0, max=500.0), HTML(value='')))"
      ]
     },
     "metadata": {},
     "output_type": "display_data"
    },
    {
     "name": "stdout",
     "output_type": "stream",
     "text": [
      "\n"
     ]
    },
    {
     "data": {
      "application/vnd.jupyter.widget-view+json": {
       "model_id": "bfe1be370ee8468289eb93ef7a807afb",
       "version_major": 2,
       "version_minor": 0
      },
      "text/plain": [
       "HBox(children=(HTML(value=''), FloatProgress(value=0.0, max=200.0), HTML(value='')))"
      ]
     },
     "metadata": {},
     "output_type": "display_data"
    },
    {
     "name": "stdout",
     "output_type": "stream",
     "text": [
      "\n"
     ]
    },
    {
     "data": {
      "application/vnd.jupyter.widget-view+json": {
       "model_id": "311f9f753fbe4b298f84a4982100dc70",
       "version_major": 2,
       "version_minor": 0
      },
      "text/plain": [
       "HBox(children=(HTML(value=''), FloatProgress(value=0.0, max=500.0), HTML(value='')))"
      ]
     },
     "metadata": {},
     "output_type": "display_data"
    },
    {
     "name": "stdout",
     "output_type": "stream",
     "text": [
      "\n"
     ]
    },
    {
     "data": {
      "application/vnd.jupyter.widget-view+json": {
       "model_id": "d05a42c392234e4fa47dd40451495c0c",
       "version_major": 2,
       "version_minor": 0
      },
      "text/plain": [
       "HBox(children=(HTML(value=''), FloatProgress(value=0.0, max=200.0), HTML(value='')))"
      ]
     },
     "metadata": {},
     "output_type": "display_data"
    },
    {
     "name": "stdout",
     "output_type": "stream",
     "text": [
      "\n"
     ]
    },
    {
     "data": {
      "application/vnd.jupyter.widget-view+json": {
       "model_id": "f8b2ff920e4743f2b8a8622bff4f164a",
       "version_major": 2,
       "version_minor": 0
      },
      "text/plain": [
       "HBox(children=(HTML(value=''), FloatProgress(value=0.0, max=500.0), HTML(value='')))"
      ]
     },
     "metadata": {},
     "output_type": "display_data"
    },
    {
     "name": "stdout",
     "output_type": "stream",
     "text": [
      "\n"
     ]
    },
    {
     "data": {
      "application/vnd.jupyter.widget-view+json": {
       "model_id": "ef1e3ef8eafd4823877dc71383310e67",
       "version_major": 2,
       "version_minor": 0
      },
      "text/plain": [
       "HBox(children=(HTML(value=''), FloatProgress(value=0.0, max=200.0), HTML(value='')))"
      ]
     },
     "metadata": {},
     "output_type": "display_data"
    },
    {
     "name": "stdout",
     "output_type": "stream",
     "text": [
      "\n"
     ]
    },
    {
     "data": {
      "application/vnd.jupyter.widget-view+json": {
       "model_id": "b36163ba9d364e659280120a59fa8812",
       "version_major": 2,
       "version_minor": 0
      },
      "text/plain": [
       "HBox(children=(HTML(value=''), FloatProgress(value=0.0, max=500.0), HTML(value='')))"
      ]
     },
     "metadata": {},
     "output_type": "display_data"
    },
    {
     "name": "stdout",
     "output_type": "stream",
     "text": [
      "\n"
     ]
    },
    {
     "data": {
      "application/vnd.jupyter.widget-view+json": {
       "model_id": "e1d3702f8cf0401ca0a1fe9f1eceb7c7",
       "version_major": 2,
       "version_minor": 0
      },
      "text/plain": [
       "HBox(children=(HTML(value=''), FloatProgress(value=0.0, max=200.0), HTML(value='')))"
      ]
     },
     "metadata": {},
     "output_type": "display_data"
    },
    {
     "name": "stdout",
     "output_type": "stream",
     "text": [
      "\n"
     ]
    },
    {
     "data": {
      "application/vnd.jupyter.widget-view+json": {
       "model_id": "003093e28c8d4ee585c857ff9cd1d3ff",
       "version_major": 2,
       "version_minor": 0
      },
      "text/plain": [
       "HBox(children=(HTML(value=''), FloatProgress(value=0.0, max=500.0), HTML(value='')))"
      ]
     },
     "metadata": {},
     "output_type": "display_data"
    },
    {
     "name": "stdout",
     "output_type": "stream",
     "text": [
      "\n"
     ]
    },
    {
     "data": {
      "application/vnd.jupyter.widget-view+json": {
       "model_id": "c7f2a3497b4c46eba322d5c1987fccf0",
       "version_major": 2,
       "version_minor": 0
      },
      "text/plain": [
       "HBox(children=(HTML(value=''), FloatProgress(value=0.0, max=200.0), HTML(value='')))"
      ]
     },
     "metadata": {},
     "output_type": "display_data"
    },
    {
     "name": "stdout",
     "output_type": "stream",
     "text": [
      "\n"
     ]
    },
    {
     "data": {
      "application/vnd.jupyter.widget-view+json": {
       "model_id": "417a5bda06944f43979d02c088904fbf",
       "version_major": 2,
       "version_minor": 0
      },
      "text/plain": [
       "HBox(children=(HTML(value=''), FloatProgress(value=0.0, max=500.0), HTML(value='')))"
      ]
     },
     "metadata": {},
     "output_type": "display_data"
    },
    {
     "name": "stdout",
     "output_type": "stream",
     "text": [
      "\n"
     ]
    },
    {
     "data": {
      "application/vnd.jupyter.widget-view+json": {
       "model_id": "dc6c45cfbbb1436cb4b53d5a16b67e30",
       "version_major": 2,
       "version_minor": 0
      },
      "text/plain": [
       "HBox(children=(HTML(value=''), FloatProgress(value=0.0, max=200.0), HTML(value='')))"
      ]
     },
     "metadata": {},
     "output_type": "display_data"
    },
    {
     "name": "stdout",
     "output_type": "stream",
     "text": [
      "\n"
     ]
    },
    {
     "data": {
      "application/vnd.jupyter.widget-view+json": {
       "model_id": "c8e7defe37424e2f8719e29666926a06",
       "version_major": 2,
       "version_minor": 0
      },
      "text/plain": [
       "HBox(children=(HTML(value=''), FloatProgress(value=0.0, max=500.0), HTML(value='')))"
      ]
     },
     "metadata": {},
     "output_type": "display_data"
    },
    {
     "name": "stdout",
     "output_type": "stream",
     "text": [
      "\n"
     ]
    },
    {
     "data": {
      "application/vnd.jupyter.widget-view+json": {
       "model_id": "6197130963844faca7083e4e18e4a586",
       "version_major": 2,
       "version_minor": 0
      },
      "text/plain": [
       "HBox(children=(HTML(value=''), FloatProgress(value=0.0, max=200.0), HTML(value='')))"
      ]
     },
     "metadata": {},
     "output_type": "display_data"
    },
    {
     "name": "stdout",
     "output_type": "stream",
     "text": [
      "\n"
     ]
    },
    {
     "data": {
      "application/vnd.jupyter.widget-view+json": {
       "model_id": "9fcb5162a7534a2dacb1e510f699adc0",
       "version_major": 2,
       "version_minor": 0
      },
      "text/plain": [
       "HBox(children=(HTML(value=''), FloatProgress(value=0.0, max=500.0), HTML(value='')))"
      ]
     },
     "metadata": {},
     "output_type": "display_data"
    },
    {
     "name": "stdout",
     "output_type": "stream",
     "text": [
      "\n"
     ]
    },
    {
     "data": {
      "application/vnd.jupyter.widget-view+json": {
       "model_id": "5d54625ddf4c4448868d612cb1db885a",
       "version_major": 2,
       "version_minor": 0
      },
      "text/plain": [
       "HBox(children=(HTML(value=''), FloatProgress(value=0.0, max=200.0), HTML(value='')))"
      ]
     },
     "metadata": {},
     "output_type": "display_data"
    },
    {
     "name": "stdout",
     "output_type": "stream",
     "text": [
      "\n"
     ]
    },
    {
     "data": {
      "application/vnd.jupyter.widget-view+json": {
       "model_id": "3079f95d45d7484b8377ef9ad94bc155",
       "version_major": 2,
       "version_minor": 0
      },
      "text/plain": [
       "HBox(children=(HTML(value=''), FloatProgress(value=0.0, max=500.0), HTML(value='')))"
      ]
     },
     "metadata": {},
     "output_type": "display_data"
    },
    {
     "name": "stdout",
     "output_type": "stream",
     "text": [
      "\n"
     ]
    },
    {
     "data": {
      "application/vnd.jupyter.widget-view+json": {
       "model_id": "a60397fa3ef24004b258b29a6db053b7",
       "version_major": 2,
       "version_minor": 0
      },
      "text/plain": [
       "HBox(children=(HTML(value=''), FloatProgress(value=0.0, max=200.0), HTML(value='')))"
      ]
     },
     "metadata": {},
     "output_type": "display_data"
    },
    {
     "name": "stdout",
     "output_type": "stream",
     "text": [
      "\n"
     ]
    },
    {
     "data": {
      "application/vnd.jupyter.widget-view+json": {
       "model_id": "266110043b1c403b8467690432c75b0c",
       "version_major": 2,
       "version_minor": 0
      },
      "text/plain": [
       "HBox(children=(HTML(value=''), FloatProgress(value=0.0, max=500.0), HTML(value='')))"
      ]
     },
     "metadata": {},
     "output_type": "display_data"
    },
    {
     "name": "stdout",
     "output_type": "stream",
     "text": [
      "\n"
     ]
    },
    {
     "data": {
      "application/vnd.jupyter.widget-view+json": {
       "model_id": "2f39c9d0a41b449eaa06af3f55db3ccb",
       "version_major": 2,
       "version_minor": 0
      },
      "text/plain": [
       "HBox(children=(HTML(value=''), FloatProgress(value=0.0, max=200.0), HTML(value='')))"
      ]
     },
     "metadata": {},
     "output_type": "display_data"
    },
    {
     "name": "stdout",
     "output_type": "stream",
     "text": [
      "\n"
     ]
    },
    {
     "data": {
      "application/vnd.jupyter.widget-view+json": {
       "model_id": "815dca137843425582c4e492a86d6b65",
       "version_major": 2,
       "version_minor": 0
      },
      "text/plain": [
       "HBox(children=(HTML(value=''), FloatProgress(value=0.0, max=500.0), HTML(value='')))"
      ]
     },
     "metadata": {},
     "output_type": "display_data"
    },
    {
     "name": "stdout",
     "output_type": "stream",
     "text": [
      "\n"
     ]
    },
    {
     "data": {
      "application/vnd.jupyter.widget-view+json": {
       "model_id": "2c7b4751dddc4992a24cba52c035c700",
       "version_major": 2,
       "version_minor": 0
      },
      "text/plain": [
       "HBox(children=(HTML(value=''), FloatProgress(value=0.0, max=200.0), HTML(value='')))"
      ]
     },
     "metadata": {},
     "output_type": "display_data"
    },
    {
     "name": "stdout",
     "output_type": "stream",
     "text": [
      "\n"
     ]
    },
    {
     "data": {
      "application/vnd.jupyter.widget-view+json": {
       "model_id": "9bc7b50a298c4a81870d0513b4800e0e",
       "version_major": 2,
       "version_minor": 0
      },
      "text/plain": [
       "HBox(children=(HTML(value=''), FloatProgress(value=0.0, max=500.0), HTML(value='')))"
      ]
     },
     "metadata": {},
     "output_type": "display_data"
    },
    {
     "name": "stdout",
     "output_type": "stream",
     "text": [
      "\n"
     ]
    },
    {
     "data": {
      "application/vnd.jupyter.widget-view+json": {
       "model_id": "b686314549f94749b48d3e7799c5ad8f",
       "version_major": 2,
       "version_minor": 0
      },
      "text/plain": [
       "HBox(children=(HTML(value=''), FloatProgress(value=0.0, max=200.0), HTML(value='')))"
      ]
     },
     "metadata": {},
     "output_type": "display_data"
    },
    {
     "name": "stdout",
     "output_type": "stream",
     "text": [
      "\n"
     ]
    },
    {
     "data": {
      "application/vnd.jupyter.widget-view+json": {
       "model_id": "4800b95a07d44a80b3c89f2fe6a26899",
       "version_major": 2,
       "version_minor": 0
      },
      "text/plain": [
       "HBox(children=(HTML(value=''), FloatProgress(value=0.0, max=500.0), HTML(value='')))"
      ]
     },
     "metadata": {},
     "output_type": "display_data"
    },
    {
     "name": "stdout",
     "output_type": "stream",
     "text": [
      "\n"
     ]
    },
    {
     "data": {
      "application/vnd.jupyter.widget-view+json": {
       "model_id": "a5a9cc87b50f4124b8e31ba8ec1fb00d",
       "version_major": 2,
       "version_minor": 0
      },
      "text/plain": [
       "HBox(children=(HTML(value=''), FloatProgress(value=0.0, max=200.0), HTML(value='')))"
      ]
     },
     "metadata": {},
     "output_type": "display_data"
    },
    {
     "name": "stdout",
     "output_type": "stream",
     "text": [
      "\n"
     ]
    },
    {
     "data": {
      "application/vnd.jupyter.widget-view+json": {
       "model_id": "c32b103c0ceb4f4fb085943d41459bce",
       "version_major": 2,
       "version_minor": 0
      },
      "text/plain": [
       "HBox(children=(HTML(value=''), FloatProgress(value=0.0, max=500.0), HTML(value='')))"
      ]
     },
     "metadata": {},
     "output_type": "display_data"
    },
    {
     "name": "stdout",
     "output_type": "stream",
     "text": [
      "\n"
     ]
    },
    {
     "data": {
      "application/vnd.jupyter.widget-view+json": {
       "model_id": "53b141aa78fe439081e3b4ba2794938b",
       "version_major": 2,
       "version_minor": 0
      },
      "text/plain": [
       "HBox(children=(HTML(value=''), FloatProgress(value=0.0, max=200.0), HTML(value='')))"
      ]
     },
     "metadata": {},
     "output_type": "display_data"
    },
    {
     "name": "stdout",
     "output_type": "stream",
     "text": [
      "\n"
     ]
    },
    {
     "data": {
      "application/vnd.jupyter.widget-view+json": {
       "model_id": "a08ec594cfef4aae984169340e0401d5",
       "version_major": 2,
       "version_minor": 0
      },
      "text/plain": [
       "HBox(children=(HTML(value=''), FloatProgress(value=0.0, max=500.0), HTML(value='')))"
      ]
     },
     "metadata": {},
     "output_type": "display_data"
    },
    {
     "name": "stdout",
     "output_type": "stream",
     "text": [
      "\n"
     ]
    },
    {
     "data": {
      "application/vnd.jupyter.widget-view+json": {
       "model_id": "cf95e44dd31c47658e39fc5bdad7d9e4",
       "version_major": 2,
       "version_minor": 0
      },
      "text/plain": [
       "HBox(children=(HTML(value=''), FloatProgress(value=0.0, max=200.0), HTML(value='')))"
      ]
     },
     "metadata": {},
     "output_type": "display_data"
    },
    {
     "name": "stdout",
     "output_type": "stream",
     "text": [
      "\n"
     ]
    },
    {
     "data": {
      "application/vnd.jupyter.widget-view+json": {
       "model_id": "d0f2ea5f796e4dfca6d0d17b522be5f5",
       "version_major": 2,
       "version_minor": 0
      },
      "text/plain": [
       "HBox(children=(HTML(value=''), FloatProgress(value=0.0, max=500.0), HTML(value='')))"
      ]
     },
     "metadata": {},
     "output_type": "display_data"
    },
    {
     "name": "stdout",
     "output_type": "stream",
     "text": [
      "\n"
     ]
    },
    {
     "data": {
      "application/vnd.jupyter.widget-view+json": {
       "model_id": "5c59817caaa140dcb00da7db67e09f21",
       "version_major": 2,
       "version_minor": 0
      },
      "text/plain": [
       "HBox(children=(HTML(value=''), FloatProgress(value=0.0, max=200.0), HTML(value='')))"
      ]
     },
     "metadata": {},
     "output_type": "display_data"
    },
    {
     "name": "stdout",
     "output_type": "stream",
     "text": [
      "\n"
     ]
    },
    {
     "data": {
      "application/vnd.jupyter.widget-view+json": {
       "model_id": "e154f82b458c41d7b74cdd6fd9111857",
       "version_major": 2,
       "version_minor": 0
      },
      "text/plain": [
       "HBox(children=(HTML(value=''), FloatProgress(value=0.0, max=500.0), HTML(value='')))"
      ]
     },
     "metadata": {},
     "output_type": "display_data"
    },
    {
     "name": "stdout",
     "output_type": "stream",
     "text": [
      "\n"
     ]
    },
    {
     "data": {
      "application/vnd.jupyter.widget-view+json": {
       "model_id": "d0f4c3ac0ba945ceb31162d8d542dbf8",
       "version_major": 2,
       "version_minor": 0
      },
      "text/plain": [
       "HBox(children=(HTML(value=''), FloatProgress(value=0.0, max=200.0), HTML(value='')))"
      ]
     },
     "metadata": {},
     "output_type": "display_data"
    },
    {
     "name": "stdout",
     "output_type": "stream",
     "text": [
      "\n"
     ]
    },
    {
     "data": {
      "application/vnd.jupyter.widget-view+json": {
       "model_id": "cac6dfdc9f37495bbf4c2d003a30eab9",
       "version_major": 2,
       "version_minor": 0
      },
      "text/plain": [
       "HBox(children=(HTML(value=''), FloatProgress(value=0.0, max=500.0), HTML(value='')))"
      ]
     },
     "metadata": {},
     "output_type": "display_data"
    },
    {
     "name": "stdout",
     "output_type": "stream",
     "text": [
      "\n"
     ]
    },
    {
     "data": {
      "application/vnd.jupyter.widget-view+json": {
       "model_id": "ae8a4a728646404e9dd4981bd2136efe",
       "version_major": 2,
       "version_minor": 0
      },
      "text/plain": [
       "HBox(children=(HTML(value=''), FloatProgress(value=0.0, max=200.0), HTML(value='')))"
      ]
     },
     "metadata": {},
     "output_type": "display_data"
    },
    {
     "name": "stdout",
     "output_type": "stream",
     "text": [
      "\n"
     ]
    },
    {
     "data": {
      "application/vnd.jupyter.widget-view+json": {
       "model_id": "263df5beccd14ef0b83d2feeb40ef4ba",
       "version_major": 2,
       "version_minor": 0
      },
      "text/plain": [
       "HBox(children=(HTML(value=''), FloatProgress(value=0.0, max=500.0), HTML(value='')))"
      ]
     },
     "metadata": {},
     "output_type": "display_data"
    },
    {
     "name": "stdout",
     "output_type": "stream",
     "text": [
      "\n"
     ]
    },
    {
     "data": {
      "application/vnd.jupyter.widget-view+json": {
       "model_id": "26174544bf034abda91249ee988c95ae",
       "version_major": 2,
       "version_minor": 0
      },
      "text/plain": [
       "HBox(children=(HTML(value=''), FloatProgress(value=0.0, max=200.0), HTML(value='')))"
      ]
     },
     "metadata": {},
     "output_type": "display_data"
    },
    {
     "name": "stdout",
     "output_type": "stream",
     "text": [
      "\n"
     ]
    },
    {
     "data": {
      "application/vnd.jupyter.widget-view+json": {
       "model_id": "af8e1c17b75f4f828a8fa54d2318ccbf",
       "version_major": 2,
       "version_minor": 0
      },
      "text/plain": [
       "HBox(children=(HTML(value=''), FloatProgress(value=0.0, max=500.0), HTML(value='')))"
      ]
     },
     "metadata": {},
     "output_type": "display_data"
    },
    {
     "name": "stdout",
     "output_type": "stream",
     "text": [
      "\n"
     ]
    },
    {
     "data": {
      "application/vnd.jupyter.widget-view+json": {
       "model_id": "640bef004bde4f17af8b57f8cfdcee5e",
       "version_major": 2,
       "version_minor": 0
      },
      "text/plain": [
       "HBox(children=(HTML(value=''), FloatProgress(value=0.0, max=200.0), HTML(value='')))"
      ]
     },
     "metadata": {},
     "output_type": "display_data"
    },
    {
     "name": "stdout",
     "output_type": "stream",
     "text": [
      "\n"
     ]
    },
    {
     "data": {
      "application/vnd.jupyter.widget-view+json": {
       "model_id": "64e949fc64cb44c683defe479404a61c",
       "version_major": 2,
       "version_minor": 0
      },
      "text/plain": [
       "HBox(children=(HTML(value=''), FloatProgress(value=0.0, max=500.0), HTML(value='')))"
      ]
     },
     "metadata": {},
     "output_type": "display_data"
    },
    {
     "name": "stdout",
     "output_type": "stream",
     "text": [
      "\n"
     ]
    },
    {
     "data": {
      "application/vnd.jupyter.widget-view+json": {
       "model_id": "6443bd8cc2f94216ae7f3c4d3c7acf88",
       "version_major": 2,
       "version_minor": 0
      },
      "text/plain": [
       "HBox(children=(HTML(value=''), FloatProgress(value=0.0, max=200.0), HTML(value='')))"
      ]
     },
     "metadata": {},
     "output_type": "display_data"
    },
    {
     "name": "stdout",
     "output_type": "stream",
     "text": [
      "\n"
     ]
    },
    {
     "data": {
      "application/vnd.jupyter.widget-view+json": {
       "model_id": "62436e30c61d4739a9a724b159e93a48",
       "version_major": 2,
       "version_minor": 0
      },
      "text/plain": [
       "HBox(children=(HTML(value=''), FloatProgress(value=0.0, max=500.0), HTML(value='')))"
      ]
     },
     "metadata": {},
     "output_type": "display_data"
    },
    {
     "name": "stdout",
     "output_type": "stream",
     "text": [
      "\n"
     ]
    },
    {
     "data": {
      "application/vnd.jupyter.widget-view+json": {
       "model_id": "183e5ba8dc8a4841958560258deb4d99",
       "version_major": 2,
       "version_minor": 0
      },
      "text/plain": [
       "HBox(children=(HTML(value=''), FloatProgress(value=0.0, max=200.0), HTML(value='')))"
      ]
     },
     "metadata": {},
     "output_type": "display_data"
    },
    {
     "name": "stdout",
     "output_type": "stream",
     "text": [
      "\n"
     ]
    },
    {
     "data": {
      "application/vnd.jupyter.widget-view+json": {
       "model_id": "cd8f648ad0a04aac82b9c7820e4cfbfd",
       "version_major": 2,
       "version_minor": 0
      },
      "text/plain": [
       "HBox(children=(HTML(value=''), FloatProgress(value=0.0, max=500.0), HTML(value='')))"
      ]
     },
     "metadata": {},
     "output_type": "display_data"
    },
    {
     "name": "stdout",
     "output_type": "stream",
     "text": [
      "\n"
     ]
    },
    {
     "data": {
      "application/vnd.jupyter.widget-view+json": {
       "model_id": "4e6f9e6078ee4f109bd22aecfdb12a33",
       "version_major": 2,
       "version_minor": 0
      },
      "text/plain": [
       "HBox(children=(HTML(value=''), FloatProgress(value=0.0, max=200.0), HTML(value='')))"
      ]
     },
     "metadata": {},
     "output_type": "display_data"
    },
    {
     "name": "stdout",
     "output_type": "stream",
     "text": [
      "\n"
     ]
    },
    {
     "data": {
      "application/vnd.jupyter.widget-view+json": {
       "model_id": "fe40632e24fc48bb8822db44be29cdfa",
       "version_major": 2,
       "version_minor": 0
      },
      "text/plain": [
       "HBox(children=(HTML(value=''), FloatProgress(value=0.0, max=500.0), HTML(value='')))"
      ]
     },
     "metadata": {},
     "output_type": "display_data"
    },
    {
     "name": "stdout",
     "output_type": "stream",
     "text": [
      "\n"
     ]
    },
    {
     "data": {
      "application/vnd.jupyter.widget-view+json": {
       "model_id": "306a94f0e2d94bc1a4d49f3c91b9221d",
       "version_major": 2,
       "version_minor": 0
      },
      "text/plain": [
       "HBox(children=(HTML(value=''), FloatProgress(value=0.0, max=200.0), HTML(value='')))"
      ]
     },
     "metadata": {},
     "output_type": "display_data"
    },
    {
     "name": "stdout",
     "output_type": "stream",
     "text": [
      "\n"
     ]
    },
    {
     "data": {
      "application/vnd.jupyter.widget-view+json": {
       "model_id": "62ab76e271ad4904a2112ef711fb0330",
       "version_major": 2,
       "version_minor": 0
      },
      "text/plain": [
       "HBox(children=(HTML(value=''), FloatProgress(value=0.0, max=500.0), HTML(value='')))"
      ]
     },
     "metadata": {},
     "output_type": "display_data"
    },
    {
     "name": "stdout",
     "output_type": "stream",
     "text": [
      "\n"
     ]
    },
    {
     "data": {
      "application/vnd.jupyter.widget-view+json": {
       "model_id": "245f6e04956545a083afed393c01f101",
       "version_major": 2,
       "version_minor": 0
      },
      "text/plain": [
       "HBox(children=(HTML(value=''), FloatProgress(value=0.0, max=200.0), HTML(value='')))"
      ]
     },
     "metadata": {},
     "output_type": "display_data"
    },
    {
     "name": "stdout",
     "output_type": "stream",
     "text": [
      "\n"
     ]
    },
    {
     "data": {
      "application/vnd.jupyter.widget-view+json": {
       "model_id": "8e9ddea709f6482588355e85034c7068",
       "version_major": 2,
       "version_minor": 0
      },
      "text/plain": [
       "HBox(children=(HTML(value=''), FloatProgress(value=0.0, max=500.0), HTML(value='')))"
      ]
     },
     "metadata": {},
     "output_type": "display_data"
    },
    {
     "name": "stdout",
     "output_type": "stream",
     "text": [
      "\n"
     ]
    },
    {
     "data": {
      "application/vnd.jupyter.widget-view+json": {
       "model_id": "f804a7fc9bf945fd8b95da89fa16e4a2",
       "version_major": 2,
       "version_minor": 0
      },
      "text/plain": [
       "HBox(children=(HTML(value=''), FloatProgress(value=0.0, max=200.0), HTML(value='')))"
      ]
     },
     "metadata": {},
     "output_type": "display_data"
    },
    {
     "name": "stdout",
     "output_type": "stream",
     "text": [
      "\n"
     ]
    },
    {
     "data": {
      "application/vnd.jupyter.widget-view+json": {
       "model_id": "295d0092394c4f6d8f52f60206beb9a5",
       "version_major": 2,
       "version_minor": 0
      },
      "text/plain": [
       "HBox(children=(HTML(value=''), FloatProgress(value=0.0, max=500.0), HTML(value='')))"
      ]
     },
     "metadata": {},
     "output_type": "display_data"
    },
    {
     "name": "stdout",
     "output_type": "stream",
     "text": [
      "\n"
     ]
    },
    {
     "data": {
      "application/vnd.jupyter.widget-view+json": {
       "model_id": "9c136d1f084d4fa18154e98361ef6e1d",
       "version_major": 2,
       "version_minor": 0
      },
      "text/plain": [
       "HBox(children=(HTML(value=''), FloatProgress(value=0.0, max=200.0), HTML(value='')))"
      ]
     },
     "metadata": {},
     "output_type": "display_data"
    },
    {
     "name": "stdout",
     "output_type": "stream",
     "text": [
      "\n"
     ]
    },
    {
     "data": {
      "application/vnd.jupyter.widget-view+json": {
       "model_id": "9b60c899be1d4a5187de2ff9deb6e2eb",
       "version_major": 2,
       "version_minor": 0
      },
      "text/plain": [
       "HBox(children=(HTML(value=''), FloatProgress(value=0.0, max=500.0), HTML(value='')))"
      ]
     },
     "metadata": {},
     "output_type": "display_data"
    },
    {
     "name": "stdout",
     "output_type": "stream",
     "text": [
      "\n"
     ]
    },
    {
     "data": {
      "application/vnd.jupyter.widget-view+json": {
       "model_id": "be5914efde4446339c415cdceb8b2204",
       "version_major": 2,
       "version_minor": 0
      },
      "text/plain": [
       "HBox(children=(HTML(value=''), FloatProgress(value=0.0, max=200.0), HTML(value='')))"
      ]
     },
     "metadata": {},
     "output_type": "display_data"
    },
    {
     "name": "stdout",
     "output_type": "stream",
     "text": [
      "\n"
     ]
    },
    {
     "data": {
      "application/vnd.jupyter.widget-view+json": {
       "model_id": "9863874e9de34d52bd0cdf29c6e19ba5",
       "version_major": 2,
       "version_minor": 0
      },
      "text/plain": [
       "HBox(children=(HTML(value=''), FloatProgress(value=0.0, max=500.0), HTML(value='')))"
      ]
     },
     "metadata": {},
     "output_type": "display_data"
    },
    {
     "name": "stdout",
     "output_type": "stream",
     "text": [
      "\n"
     ]
    },
    {
     "data": {
      "application/vnd.jupyter.widget-view+json": {
       "model_id": "d61757c71ae740b3b0d4bd1314682853",
       "version_major": 2,
       "version_minor": 0
      },
      "text/plain": [
       "HBox(children=(HTML(value=''), FloatProgress(value=0.0, max=200.0), HTML(value='')))"
      ]
     },
     "metadata": {},
     "output_type": "display_data"
    },
    {
     "name": "stdout",
     "output_type": "stream",
     "text": [
      "\n"
     ]
    },
    {
     "data": {
      "application/vnd.jupyter.widget-view+json": {
       "model_id": "c93393d391e94c078c733daef4bf6073",
       "version_major": 2,
       "version_minor": 0
      },
      "text/plain": [
       "HBox(children=(HTML(value=''), FloatProgress(value=0.0, max=500.0), HTML(value='')))"
      ]
     },
     "metadata": {},
     "output_type": "display_data"
    },
    {
     "name": "stdout",
     "output_type": "stream",
     "text": [
      "\n"
     ]
    },
    {
     "data": {
      "application/vnd.jupyter.widget-view+json": {
       "model_id": "69e32d5bca7c43df868ee8343c90c479",
       "version_major": 2,
       "version_minor": 0
      },
      "text/plain": [
       "HBox(children=(HTML(value=''), FloatProgress(value=0.0, max=200.0), HTML(value='')))"
      ]
     },
     "metadata": {},
     "output_type": "display_data"
    },
    {
     "name": "stdout",
     "output_type": "stream",
     "text": [
      "\n"
     ]
    },
    {
     "data": {
      "application/vnd.jupyter.widget-view+json": {
       "model_id": "49c2956fca7440b493d50816d120b24d",
       "version_major": 2,
       "version_minor": 0
      },
      "text/plain": [
       "HBox(children=(HTML(value=''), FloatProgress(value=0.0, max=500.0), HTML(value='')))"
      ]
     },
     "metadata": {},
     "output_type": "display_data"
    },
    {
     "name": "stdout",
     "output_type": "stream",
     "text": [
      "\n"
     ]
    },
    {
     "data": {
      "application/vnd.jupyter.widget-view+json": {
       "model_id": "fa2bcaf9529644a6a8c1c2378bccd37e",
       "version_major": 2,
       "version_minor": 0
      },
      "text/plain": [
       "HBox(children=(HTML(value=''), FloatProgress(value=0.0, max=200.0), HTML(value='')))"
      ]
     },
     "metadata": {},
     "output_type": "display_data"
    },
    {
     "name": "stdout",
     "output_type": "stream",
     "text": [
      "\n"
     ]
    },
    {
     "data": {
      "application/vnd.jupyter.widget-view+json": {
       "model_id": "acb0f38cc41046c0ba62feea023e6161",
       "version_major": 2,
       "version_minor": 0
      },
      "text/plain": [
       "HBox(children=(HTML(value=''), FloatProgress(value=0.0, max=500.0), HTML(value='')))"
      ]
     },
     "metadata": {},
     "output_type": "display_data"
    },
    {
     "name": "stdout",
     "output_type": "stream",
     "text": [
      "\n"
     ]
    },
    {
     "data": {
      "application/vnd.jupyter.widget-view+json": {
       "model_id": "248924bcff8a4b4a95756e015bd05912",
       "version_major": 2,
       "version_minor": 0
      },
      "text/plain": [
       "HBox(children=(HTML(value=''), FloatProgress(value=0.0, max=200.0), HTML(value='')))"
      ]
     },
     "metadata": {},
     "output_type": "display_data"
    },
    {
     "name": "stdout",
     "output_type": "stream",
     "text": [
      "\n"
     ]
    },
    {
     "data": {
      "application/vnd.jupyter.widget-view+json": {
       "model_id": "66fc80ee04454e53a7f0cc2a91054eba",
       "version_major": 2,
       "version_minor": 0
      },
      "text/plain": [
       "HBox(children=(HTML(value=''), FloatProgress(value=0.0, max=500.0), HTML(value='')))"
      ]
     },
     "metadata": {},
     "output_type": "display_data"
    },
    {
     "name": "stdout",
     "output_type": "stream",
     "text": [
      "\n"
     ]
    },
    {
     "data": {
      "application/vnd.jupyter.widget-view+json": {
       "model_id": "8552448466a5491884d02da47ba488ec",
       "version_major": 2,
       "version_minor": 0
      },
      "text/plain": [
       "HBox(children=(HTML(value=''), FloatProgress(value=0.0, max=200.0), HTML(value='')))"
      ]
     },
     "metadata": {},
     "output_type": "display_data"
    },
    {
     "name": "stdout",
     "output_type": "stream",
     "text": [
      "\n"
     ]
    },
    {
     "data": {
      "application/vnd.jupyter.widget-view+json": {
       "model_id": "f514d01f9bb6424b846f35cde86a6981",
       "version_major": 2,
       "version_minor": 0
      },
      "text/plain": [
       "HBox(children=(HTML(value=''), FloatProgress(value=0.0, max=500.0), HTML(value='')))"
      ]
     },
     "metadata": {},
     "output_type": "display_data"
    },
    {
     "name": "stdout",
     "output_type": "stream",
     "text": [
      "\n"
     ]
    }
   ],
   "source": [
    "#Due to changes in the calculation of the Precison (and consequently, MAP at K) metric in the Implicit librabry (https://github.com/benfred/implicit/issues/158), and considering we want our results to be compared over models, we could not use Implicit's evaluation metrics.\n",
    "#Being this said, we were \"forced\" to apply the ALS to our train set, use its ability to Recommend, and then putting the results in the same format which was required for the BiVAE and BPR models, so we can apply the same evaluation metrics.\n",
    "#Note, once more, that althought not supposed to, the method Recommend is by default recommending items which the users have already seem in the train set, so we also had to deal \"manually\" with this issue.\n",
    "\n",
    "os.environ['MKL_NUM_THREADS'] = '1'\n",
    "os.environ['OPENBLAS_NUM_THREADS'] = '1'\n",
    "\n",
    "#Creating a dataframe to store the results\n",
    "df_results_als=pd.DataFrame(columns=[\"parameters\",\"precision_at_k\", \"recall_at_k\", \"map_at_k\", \"ndcg_at_k\"])\n",
    "index=0\n",
    "\n",
    "#Creating loops to iterate over the values for all the parameters\n",
    "for alpha in [1.5,3,15,40]:\n",
    "    ALPHA=alpha\n",
    "    for factors in [50, 150, 200]:\n",
    "        FACTORS=factors\n",
    "        for reg in [0.05, 0.01,0.001]:\n",
    "            REG=reg\n",
    "            for inter in [200, 500]:\n",
    "                INTERACTIONS=inter\n",
    "                \n",
    "                #Creating the model\n",
    "                als_model = AlternatingLeastSquares(factors=FACTORS, regularization=REG, iterations=INTERACTIONS, random_state=22)\n",
    "                \n",
    "                #Fitting the model\n",
    "                als_model.fit((item_user_train * ALPHA).astype('double'))\n",
    "                \n",
    "                #Creating the dataframe where we will store the model's predictions\n",
    "                als_all_predictions=pd.DataFrame(columns=[\"CustomerID\",\"StockCode\", \"prediction\"])\n",
    "                \n",
    "                \n",
    "                #for each user in the train set, we have to see which items he bought (in the train set) ans store their Ids.\n",
    "                #Then, we use the ALS to recommend the necessary number of products so we can have a margin of 11 products not seen yet (meaning that we make sure that we will always have 10 products suggested that the customer have not seen yet in the train set)\n",
    "                #We select the 10 most recommended which have not been seen yet and store those predictions.\n",
    "                #In the end, we have 10 suggestions to each user in the train set.\n",
    "                i=0\n",
    "                for user_id in data_train[\"CustomerID\"].unique():\n",
    "                    cust_prods=data_train[data_train[\"CustomerID\"]==user_id][\"StockCode\"].unique()\n",
    "                    recommendations = als_model.recommend(user_map[user_id], user_item_train, N=len(cust_prods)+11)\n",
    "                    preds=list(map(lambda x: (get_keys(x[0], item_map), x[1]), recommendations))\n",
    "                    preds_final=[i[0] for i in preds if i[0] not in cust_prods][:10][::-1]\n",
    "                    for ind, pred in enumerate(preds_final):\n",
    "                        als_all_predictions.loc[i,\"CustomerID\"]=user_id\n",
    "                        als_all_predictions.loc[i,\"StockCode\"]=pred\n",
    "                        als_all_predictions.loc[i,\"prediction\"]=ind+1\n",
    "                        i+=1\n",
    "                 \n",
    "                \n",
    "                #Changing the types\n",
    "                als_all_predictions[\"CustomerID\"]=als_all_predictions[\"CustomerID\"].astype(float)\n",
    "                als_all_predictions[\"prediction\"]=als_all_predictions[\"prediction\"].astype(float)\n",
    "                \n",
    "                #Calculating the evaluation metrics we are interested in\n",
    "                map_k = map_at_k(data_test, als_all_predictions, col_prediction='prediction', k=10, col_user=\"CustomerID\", col_item=\"StockCode\",col_rating='Quantity' )\n",
    "                ndcg = ndcg_at_k(data_test, als_all_predictions, col_prediction='prediction', k=10, col_user=\"CustomerID\", col_item=\"StockCode\",col_rating='Quantity')\n",
    "                precision = precision_at_k(data_test, als_all_predictions, col_prediction='prediction', k=10, col_user=\"CustomerID\", col_item=\"StockCode\",col_rating='Quantity')\n",
    "                recall = recall_at_k(data_test, als_all_predictions, col_prediction='prediction', k=10, col_user=\"CustomerID\", col_item=\"StockCode\",col_rating='Quantity')\n",
    "                \n",
    "                #storing the results\n",
    "                df_results_als.loc[index, \"parameters\"]=str(INTERACTIONS)+\" interactions, \"+str(FACTORS)+ \" factors, \"+ str(REG)+\" regularization, \"+str(ALPHA)+\" alpha\"\n",
    "                df_results_als.loc[index, \"precision_at_k\"]=precision\n",
    "                df_results_als.loc[index, \"recall_at_k\"]=recall\n",
    "                df_results_als.loc[index, \"map_at_k\"]=map_k\n",
    "                df_results_als.loc[index, \"ndcg_at_k\"]=ndcg\n",
    "                index+=1"
   ]
  },
  {
   "cell_type": "code",
   "execution_count": 60,
   "metadata": {},
   "outputs": [
    {
     "data": {
      "text/html": [
       "<div>\n",
       "<style scoped>\n",
       "    .dataframe tbody tr th:only-of-type {\n",
       "        vertical-align: middle;\n",
       "    }\n",
       "\n",
       "    .dataframe tbody tr th {\n",
       "        vertical-align: top;\n",
       "    }\n",
       "\n",
       "    .dataframe thead th {\n",
       "        text-align: right;\n",
       "    }\n",
       "</style>\n",
       "<table border=\"1\" class=\"dataframe\">\n",
       "  <thead>\n",
       "    <tr style=\"text-align: right;\">\n",
       "      <th></th>\n",
       "      <th>parameters</th>\n",
       "      <th>precision_at_k</th>\n",
       "      <th>recall_at_k</th>\n",
       "      <th>map_at_k</th>\n",
       "      <th>ndcg_at_k</th>\n",
       "    </tr>\n",
       "  </thead>\n",
       "  <tbody>\n",
       "    <tr>\n",
       "      <th>19</th>\n",
       "      <td>500 interactions, 50 factors, 0.05 regularizat...</td>\n",
       "      <td>0.0785114</td>\n",
       "      <td>0.0289953</td>\n",
       "      <td>0.0130126</td>\n",
       "      <td>0.0872064</td>\n",
       "    </tr>\n",
       "    <tr>\n",
       "      <th>20</th>\n",
       "      <td>200 interactions, 50 factors, 0.01 regularizat...</td>\n",
       "      <td>0.0777911</td>\n",
       "      <td>0.0290057</td>\n",
       "      <td>0.0129606</td>\n",
       "      <td>0.0863639</td>\n",
       "    </tr>\n",
       "    <tr>\n",
       "      <th>22</th>\n",
       "      <td>200 interactions, 50 factors, 0.001 regulariza...</td>\n",
       "      <td>0.0780912</td>\n",
       "      <td>0.0289096</td>\n",
       "      <td>0.0129585</td>\n",
       "      <td>0.0866421</td>\n",
       "    </tr>\n",
       "    <tr>\n",
       "      <th>18</th>\n",
       "      <td>200 interactions, 50 factors, 0.05 regularizat...</td>\n",
       "      <td>0.0780912</td>\n",
       "      <td>0.0288418</td>\n",
       "      <td>0.0129104</td>\n",
       "      <td>0.0863681</td>\n",
       "    </tr>\n",
       "    <tr>\n",
       "      <th>4</th>\n",
       "      <td>200 interactions, 50 factors, 0.001 regulariza...</td>\n",
       "      <td>0.0801321</td>\n",
       "      <td>0.0288014</td>\n",
       "      <td>0.0128924</td>\n",
       "      <td>0.088457</td>\n",
       "    </tr>\n",
       "  </tbody>\n",
       "</table>\n",
       "</div>"
      ],
      "text/plain": [
       "                                           parameters precision_at_k  \\\n",
       "19  500 interactions, 50 factors, 0.05 regularizat...      0.0785114   \n",
       "20  200 interactions, 50 factors, 0.01 regularizat...      0.0777911   \n",
       "22  200 interactions, 50 factors, 0.001 regulariza...      0.0780912   \n",
       "18  200 interactions, 50 factors, 0.05 regularizat...      0.0780912   \n",
       "4   200 interactions, 50 factors, 0.001 regulariza...      0.0801321   \n",
       "\n",
       "   recall_at_k   map_at_k  ndcg_at_k  \n",
       "19   0.0289953  0.0130126  0.0872064  \n",
       "20   0.0290057  0.0129606  0.0863639  \n",
       "22   0.0289096  0.0129585  0.0866421  \n",
       "18   0.0288418  0.0129104  0.0863681  \n",
       "4    0.0288014  0.0128924   0.088457  "
      ]
     },
     "execution_count": 60,
     "metadata": {},
     "output_type": "execute_result"
    }
   ],
   "source": [
    "#Checking the results, sorting by MAP at K, giving it is the most important metric for us\n",
    "df_results_als.sort_values(by=\"map_at_k\", ascending=False).head()"
   ]
  },
  {
   "cell_type": "code",
   "execution_count": 61,
   "metadata": {},
   "outputs": [],
   "source": [
    "#Storing the results in an excel, so we can acess them\n",
    "df_results_als.to_excel(\"results_als.xlsx\")"
   ]
  },
  {
   "cell_type": "markdown",
   "metadata": {},
   "source": [
    "### Applying the BPR model"
   ]
  },
  {
   "cell_type": "code",
   "execution_count": 62,
   "metadata": {},
   "outputs": [],
   "source": [
    "#Please note that as said on the Report, we will apply our models to recommend products in two ways:\n",
    "#1. To recommend items that the user has never seen before\n",
    "#2. To recommend items independently if the user has seen then before or not.\n",
    "\n",
    "#Creating 2 dictionaries to store the results obtained for each model.\n",
    "eval_not_removing_seen={}\n",
    "eval_removing_seen={}"
   ]
  },
  {
   "cell_type": "code",
   "execution_count": 63,
   "metadata": {},
   "outputs": [
    {
     "data": {
      "application/vnd.jupyter.widget-view+json": {
       "model_id": "3afe6b46d4904842aaf8db61a7dbc4fb",
       "version_major": 2,
       "version_minor": 0
      },
      "text/plain": [
       "HBox(children=(HTML(value=''), FloatProgress(value=0.0, max=250.0), HTML(value='')))"
      ]
     },
     "metadata": {},
     "output_type": "display_data"
    },
    {
     "name": "stdout",
     "output_type": "stream",
     "text": [
      "\n",
      "Optimization finished!\n"
     ]
    }
   ],
   "source": [
    "#Creating the model with the best parameters\n",
    "bpr = cornac.models.BPR(\n",
    "    k=125,\n",
    "    max_iter=250,\n",
    "    learning_rate=0.01,\n",
    "    lambda_reg=0.001,\n",
    "    verbose=True,\n",
    "    seed=22\n",
    ")\n",
    "\n",
    "#Fitting the data to the model\n",
    "bpr.fit(data_train_set)\n",
    "\n",
    "#Creating the predictions and the metric evaluations for the case were we don't recommend products seen before by the user.\n",
    "#Note that here this can be easily done by using the parameter \"remove_seen\"\n",
    "all_predictions = predict_ranking(bpr, data_train, usercol='CustomerID', itemcol='StockCode', remove_seen=True)\n",
    "eval_map = map_at_k(data_test, all_predictions, col_prediction='prediction', k=10, col_user=\"CustomerID\", col_item=\"StockCode\",col_rating='Quantity' )\n",
    "eval_ndcg = ndcg_at_k(data_test, all_predictions, col_prediction='prediction', k=10, col_user=\"CustomerID\", col_item=\"StockCode\",col_rating='Quantity')\n",
    "eval_precision = precision_at_k(data_test, all_predictions, col_prediction='prediction', k=10, col_user=\"CustomerID\", col_item=\"StockCode\",col_rating='Quantity')\n",
    "eval_recall = recall_at_k(data_test, all_predictions, col_prediction='prediction', k=10, col_user=\"CustomerID\", col_item=\"StockCode\",col_rating='Quantity')\n",
    "\n",
    "#Storing the results\n",
    "eval_removing_seen[\"BPR\"]=(eval_map, eval_ndcg, eval_precision, eval_recall)\n",
    "\n",
    "\n",
    "#Creating the predictions and the metric evaluations for the case were we recommend products independtly of the user having seen them before or not.\n",
    "all_predictions = predict_ranking(bpr, data_train, usercol='CustomerID', itemcol='StockCode', remove_seen=False)\n",
    "eval_map = map_at_k(data_test, all_predictions, col_prediction='prediction', k=10, col_user=\"CustomerID\", col_item=\"StockCode\",col_rating='Quantity' )\n",
    "eval_ndcg = ndcg_at_k(data_test, all_predictions, col_prediction='prediction', k=10, col_user=\"CustomerID\", col_item=\"StockCode\",col_rating='Quantity')\n",
    "eval_precision = precision_at_k(data_test, all_predictions, col_prediction='prediction', k=10, col_user=\"CustomerID\", col_item=\"StockCode\",col_rating='Quantity')\n",
    "eval_recall = recall_at_k(data_test, all_predictions, col_prediction='prediction', k=10, col_user=\"CustomerID\", col_item=\"StockCode\",col_rating='Quantity')\n",
    "\n",
    "#storing the results\n",
    "eval_not_removing_seen[\"BPR\"]=(eval_map, eval_ndcg, eval_precision, eval_recall)"
   ]
  },
  {
   "cell_type": "markdown",
   "metadata": {},
   "source": [
    "### Applying the BiVAE model"
   ]
  },
  {
   "cell_type": "code",
   "execution_count": 64,
   "metadata": {},
   "outputs": [
    {
     "data": {
      "application/vnd.jupyter.widget-view+json": {
       "model_id": "44af2f945bf6474aa3f48445034d28e2",
       "version_major": 2,
       "version_minor": 0
      },
      "text/plain": [
       "HBox(children=(HTML(value=''), FloatProgress(value=0.0), HTML(value='')))"
      ]
     },
     "metadata": {},
     "output_type": "display_data"
    },
    {
     "name": "stdout",
     "output_type": "stream",
     "text": [
      "\n"
     ]
    }
   ],
   "source": [
    "#Creating the model with the best parameters\n",
    "bivae = cornac.models.BiVAECF(\n",
    "    k=50,\n",
    "    encoder_structure=[50],\n",
    "    act_fn=\"tanh\",\n",
    "    likelihood=\"pois\",\n",
    "    n_epochs=100,\n",
    "    batch_size=128,\n",
    "    learning_rate=0.001,\n",
    "    seed=22,\n",
    "    beta_kl = 1.5,\n",
    "    use_gpu=torch.cuda.is_available(),\n",
    "    verbose=True\n",
    ")\n",
    "\n",
    "#Fitting the train set to the model\n",
    "bivae.fit(data_train_set)\n",
    "\n",
    "\n",
    "#Creating the predictions and the metric evaluations for the case were we don't recommend products seen before by the user.\n",
    "#Note that here this can be easily done by using the parameter \"remove_seen\"\n",
    "all_predictions = predict_ranking(bivae,  data_train, usercol='CustomerID', itemcol='StockCode', remove_seen=True)\n",
    "eval_map = map_at_k(data_test, all_predictions, col_prediction='prediction', k=10, col_user=\"CustomerID\", col_item=\"StockCode\",col_rating='Quantity' )\n",
    "eval_ndcg = ndcg_at_k(data_test, all_predictions, col_prediction='prediction', k=10, col_user=\"CustomerID\", col_item=\"StockCode\",col_rating='Quantity')\n",
    "eval_precision = precision_at_k(data_test, all_predictions, col_prediction='prediction', k=10, col_user=\"CustomerID\", col_item=\"StockCode\",col_rating='Quantity')\n",
    "eval_recall = recall_at_k(data_test, all_predictions, col_prediction='prediction', k=10, col_user=\"CustomerID\", col_item=\"StockCode\",col_rating='Quantity')\n",
    "\n",
    "#Storing the results\n",
    "eval_removing_seen[\"BIVAE\"]=(eval_map, eval_ndcg, eval_precision, eval_recall)\n",
    "\n",
    "\n",
    "#Creating the predictions and the metric evaluations for the case were we recommend products independtly of the user having seen them before or not.\n",
    "all_predictions = predict_ranking(bivae,  data_train, usercol='CustomerID', itemcol='StockCode', remove_seen=False)\n",
    "eval_map = map_at_k(data_test, all_predictions, col_prediction='prediction', k=10, col_user=\"CustomerID\", col_item=\"StockCode\",col_rating='Quantity' )\n",
    "eval_ndcg = ndcg_at_k(data_test, all_predictions, col_prediction='prediction', k=10, col_user=\"CustomerID\", col_item=\"StockCode\",col_rating='Quantity')\n",
    "eval_precision = precision_at_k(data_test, all_predictions, col_prediction='prediction', k=10, col_user=\"CustomerID\", col_item=\"StockCode\",col_rating='Quantity')\n",
    "eval_recall = recall_at_k(data_test, all_predictions, col_prediction='prediction', k=10, col_user=\"CustomerID\", col_item=\"StockCode\",col_rating='Quantity')\n",
    "\n",
    "#Storing the results\n",
    "eval_not_removing_seen[\"BIVAE\"]=(eval_map, eval_ndcg, eval_precision, eval_recall)"
   ]
  },
  {
   "cell_type": "markdown",
   "metadata": {},
   "source": [
    "### Applying the ALS model"
   ]
  },
  {
   "cell_type": "code",
   "execution_count": 67,
   "metadata": {},
   "outputs": [
    {
     "data": {
      "application/vnd.jupyter.widget-view+json": {
       "model_id": "49211905837e48d190e35852968ac3f3",
       "version_major": 2,
       "version_minor": 0
      },
      "text/plain": [
       "HBox(children=(HTML(value=''), FloatProgress(value=0.0, max=500.0), HTML(value='')))"
      ]
     },
     "metadata": {},
     "output_type": "display_data"
    },
    {
     "name": "stdout",
     "output_type": "stream",
     "text": [
      "\n"
     ]
    }
   ],
   "source": [
    "os.environ['MKL_NUM_THREADS'] = '1'\n",
    "os.environ['OPENBLAS_NUM_THREADS'] = '1'\n",
    "\n",
    "#Creating the model with the best parameters\n",
    "alpha = 3\n",
    "als_model = AlternatingLeastSquares(factors=50, regularization=0.05, iterations=500, random_state=22)\n",
    "\n",
    "#fitting the model to the train set\n",
    "als_model.fit((item_user_train * alpha).astype('double'))\n",
    "\n",
    "#As explained before, for the ALS' case, we have to compute the predictions \"at hand\"\n",
    "\n",
    "\n",
    "#Starting by the cases where we don't recommend items already seen by the user\n",
    "\n",
    "#The steps are the same as seen before, in the optimization phase.\n",
    "als_all_predictions=pd.DataFrame(columns=[\"CustomerID\",\"StockCode\", \"prediction\"])\n",
    "\n",
    "i=0\n",
    "for user_id in data_train[\"CustomerID\"].unique():\n",
    "    cust_prods=data_train[data_train[\"CustomerID\"]==user_id][\"StockCode\"].unique()\n",
    "    recommendations = als_model.recommend(user_map[user_id], user_item_train, N=len(cust_prods)+11)\n",
    "    preds=list(map(lambda x: (get_keys(x[0], item_map), x[1]), recommendations))\n",
    "    preds_final=[i[0] for i in preds if i[0] not in cust_prods][:10]\n",
    "    values_scores=[i[1] for i in preds if i[0] in preds_final]\n",
    "    for ind, pred in enumerate(preds_final):\n",
    "        als_all_predictions.loc[i,\"CustomerID\"]=user_id\n",
    "        als_all_predictions.loc[i,\"StockCode\"]=pred\n",
    "        als_all_predictions.loc[i,\"prediction\"]=values_scores[ind]\n",
    "        i+=1\n",
    "\n",
    "#Changing the types                 \n",
    "als_all_predictions[\"CustomerID\"]=als_all_predictions[\"CustomerID\"].astype(float)\n",
    "als_all_predictions[\"prediction\"]=als_all_predictions[\"prediction\"].astype(float)\n",
    "\n",
    "#Calculating the metrics for this case and storing the results\n",
    "eval_map = map_at_k(data_test, als_all_predictions, col_prediction='prediction', k=10, col_user=\"CustomerID\", col_item=\"StockCode\",col_rating='Quantity' )\n",
    "eval_ndcg = ndcg_at_k(data_test, als_all_predictions, col_prediction='prediction', k=10, col_user=\"CustomerID\", col_item=\"StockCode\",col_rating='Quantity')\n",
    "eval_precision = precision_at_k(data_test, als_all_predictions, col_prediction='prediction', k=10, col_user=\"CustomerID\", col_item=\"StockCode\",col_rating='Quantity')\n",
    "eval_recall = recall_at_k(data_test, als_all_predictions, col_prediction='prediction', k=10, col_user=\"CustomerID\", col_item=\"StockCode\",col_rating='Quantity')\n",
    "eval_removing_seen[\"ALS\"]=(eval_map, eval_ndcg, eval_precision, eval_recall)\n",
    "\n",
    "\n",
    "#Now, in the case where we recommend products independtly of a user having seen them before or not, considering it is the default output of the Recommend method, we can just apply it directly and store its results\n",
    "\n",
    "als_all_predictions=pd.DataFrame(columns=[\"CustomerID\",\"StockCode\", \"prediction\"])\n",
    "\n",
    "i=0\n",
    "for user_id in data_train[\"CustomerID\"].unique():\n",
    "    recommendations = als_model.recommend(user_map[user_id], user_item_train)\n",
    "    preds=list(map(lambda x: (get_keys(x[0], item_map), x[1]), recommendations))\n",
    "    for pred in preds:\n",
    "        als_all_predictions.loc[i,\"CustomerID\"]=user_id\n",
    "        als_all_predictions.loc[i,\"StockCode\"]=pred[0]\n",
    "        als_all_predictions.loc[i,\"prediction\"]=pred[1]\n",
    "        i+=1\n",
    "\n",
    "#Changing the types   \n",
    "als_all_predictions[\"CustomerID\"]=als_all_predictions[\"CustomerID\"].astype(float)\n",
    "als_all_predictions[\"prediction\"]=als_all_predictions[\"prediction\"].astype(float)\n",
    "\n",
    "#Calculating the metrics and storing the results\n",
    "eval_map = map_at_k(data_test, als_all_predictions, col_prediction='prediction', k=10, col_user=\"CustomerID\", col_item=\"StockCode\",col_rating='Quantity' )\n",
    "eval_ndcg = ndcg_at_k(data_test, als_all_predictions, col_prediction='prediction', k=10, col_user=\"CustomerID\", col_item=\"StockCode\",col_rating='Quantity')\n",
    "eval_precision = precision_at_k(data_test, als_all_predictions, col_prediction='prediction', k=10, col_user=\"CustomerID\", col_item=\"StockCode\",col_rating='Quantity')\n",
    "eval_recall = recall_at_k(data_test, als_all_predictions, col_prediction='prediction', k=10, col_user=\"CustomerID\", col_item=\"StockCode\",col_rating='Quantity')\n",
    "eval_not_removing_seen[\"ALS\"]=(eval_map, eval_ndcg, eval_precision, eval_recall)"
   ]
  },
  {
   "cell_type": "markdown",
   "metadata": {},
   "source": [
    "### Applying the Most Popular model"
   ]
  },
  {
   "cell_type": "code",
   "execution_count": 65,
   "metadata": {},
   "outputs": [],
   "source": [
    "#To compute the Most Popular items, we have to make some changes to get them:\n",
    "\n",
    "#copying the dataset\n",
    "data_less_sparse_clean=data_less_sparse.copy()\n",
    "\n",
    "#As before, truning all quantities into 1's and thus dropping the duplicates\n",
    "data_less_sparse_clean[\"Quantity\"]=data_less_sparse_clean[\"Quantity\"].apply(lambda x: 1)\n",
    "data_less_sparse_clean=data_less_sparse_clean.drop_duplicates()\n",
    "\n",
    "#Going to the train set and seeing which are the products present in most orders\n",
    "data_clean_train=data_less_sparse_clean[data_less_sparse_clean[\"train_split\"]==1][[\"CustomerID\", \"StockCode\", \"Quantity\"]]\n",
    "top_products=data_clean_train.groupby(\"StockCode\").sum().sort_values(\"Quantity\")[::-1].index.values\n",
    "\n",
    "#For the case where we will recommend the most popular products, independtly of the user:\n",
    "\n",
    "#We get the top 10 products\n",
    "ranking_products_10=dict(zip(top_products[:10], np.arange(1,len(top_products[:10])+1)[::-1]))\n",
    "\n",
    "#We, once more, store the predictions (the 10 products) in the format needed to be used by the evaluation metrics\n",
    "all_predictions_pop=pd.DataFrame(columns=[\"CustomerID\", \"StockCode\", \"prediction\"])\n",
    "index=0\n",
    "for custId in data_train[\"CustomerID\"].unique():\n",
    "    for code,pred in ranking_products_10.items():\n",
    "        all_predictions_pop.loc[index, \"CustomerID\"]=custId\n",
    "        all_predictions_pop.loc[index, \"StockCode\"]=code\n",
    "        all_predictions_pop.loc[index, \"prediction\"]=pred\n",
    "        index+=1\n",
    "\n",
    "#changing the types\n",
    "all_predictions_pop[\"CustomerID\"]=all_predictions_pop[\"CustomerID\"].astype(float)\n",
    "all_predictions_pop[\"prediction\"]=all_predictions_pop[\"prediction\"].astype(float)\n",
    "\n",
    "#computing the evaluation metrics and storing the results\n",
    "eval_map = map_at_k(data_test, all_predictions_pop, col_prediction='prediction', k=10, col_user=\"CustomerID\", col_item=\"StockCode\",col_rating='Quantity' )\n",
    "eval_ndcg = ndcg_at_k(data_test, all_predictions_pop, col_prediction='prediction', k=10, col_user=\"CustomerID\", col_item=\"StockCode\",col_rating='Quantity')\n",
    "eval_precision = precision_at_k(data_test, all_predictions_pop, col_prediction='prediction', k=10, col_user=\"CustomerID\", col_item=\"StockCode\",col_rating='Quantity')\n",
    "eval_recall = recall_at_k(data_test, all_predictions_pop, col_prediction='prediction', k=10, col_user=\"CustomerID\", col_item=\"StockCode\",col_rating='Quantity')\n",
    "eval_not_removing_seen[\"POP\"]=(eval_map, eval_ndcg, eval_precision, eval_recall)\n",
    "\n",
    "#Now, for the case where we want to recommend the most popular products, but doing so without recommending products the user has seen before:\n",
    "\n",
    "#Creating a dataframe to store the predictions in the right format\n",
    "all_predictions_pop=pd.DataFrame(columns=[\"CustomerID\", \"StockCode\", \"prediction\"])\n",
    "index=0\n",
    "\n",
    "#Going over each user present in the train set, finding the products he has already bought and removing those from the list which contains the most bought products.\n",
    "#Then, from the remaining, we chose the best 10.\n",
    "for custId in data_train[\"CustomerID\"].unique():\n",
    "    cust_prods=data_train[data_train[\"CustomerID\"]==custId][\"StockCode\"].unique()\n",
    "    top_products_cust=[i for i in top_products if i not in cust_prods]\n",
    "    ranking_products_10=dict(zip(top_products_cust[:10], np.arange(1,len(top_products_cust[:10])+1)[::-1]))\n",
    "    for code,pred in ranking_products_10.items():\n",
    "        all_predictions_pop.loc[index, \"CustomerID\"]=custId\n",
    "        all_predictions_pop.loc[index, \"StockCode\"]=code\n",
    "        all_predictions_pop.loc[index, \"prediction\"]=pred\n",
    "        index+=1\n",
    "\n",
    "#changing the types\n",
    "all_predictions_pop[\"CustomerID\"]=all_predictions_pop[\"CustomerID\"].astype(float)\n",
    "all_predictions_pop[\"prediction\"]=all_predictions_pop[\"prediction\"].astype(float)\n",
    "\n",
    "#Calcuçating the evaluation metrics and storing the results\n",
    "eval_map = map_at_k(data_test, all_predictions_pop, col_prediction='prediction', k=10, col_user=\"CustomerID\", col_item=\"StockCode\",col_rating='Quantity' )\n",
    "eval_ndcg = ndcg_at_k(data_test, all_predictions_pop, col_prediction='prediction', k=10, col_user=\"CustomerID\", col_item=\"StockCode\",col_rating='Quantity')\n",
    "eval_precision = precision_at_k(data_test, all_predictions_pop, col_prediction='prediction', k=10, col_user=\"CustomerID\", col_item=\"StockCode\",col_rating='Quantity')\n",
    "eval_recall = recall_at_k(data_test, all_predictions_pop, col_prediction='prediction', k=10, col_user=\"CustomerID\", col_item=\"StockCode\",col_rating='Quantity')\n",
    "eval_removing_seen[\"POP\"]=(eval_map, eval_ndcg, eval_precision, eval_recall)"
   ]
  },
  {
   "cell_type": "markdown",
   "metadata": {},
   "source": [
    "### Applying the TF-DIF model"
   ]
  },
  {
   "cell_type": "code",
   "execution_count": 66,
   "metadata": {},
   "outputs": [],
   "source": [
    "#Initializing the model\n",
    "tfidf = TfidfVectorizer()\n",
    "mapping = pd.Series(data_content.index, index = data_content['StockCode'])\n",
    "\n",
    "def content_recommend_products(products_input): \n",
    "    \"\"\"This function receives a list of StockCode's and recurring to the TF-DIF model finds the most similar products, never bought by the user.\n",
    "    Note that it takes into consideration also the price category of each product.\n",
    "    If a customer has bought more than 1 item, and therefore, you pass a list with more than 1 item, the model also considers the whole purchasing history as 'one'.\n",
    "    Be aware that this function was constructed for a specific purpose, and thus it can only take as input a list with up to 4 items (inclusive).\"\"\"\n",
    "    \n",
    "    #Accessing only the unique products bought by the user\n",
    "    products_input = list(set(products_input))\n",
    "    \n",
    "    #List with concatenated string and input products index, to not be returned \n",
    "    product_index = [len(data_content)]\n",
    "    for i in range(len(products_input)):\n",
    "        product_index.append(mapping[products_input[i]])    \n",
    "            \n",
    "    # With only 1 product, we don't need to take into consideration any more items\n",
    "    if len(products_input) == 1:\n",
    "        all_matrix = tfidf.fit_transform(data_content['All'])\n",
    "        \n",
    "        #getting the similarity scores, using the cosine similarity\n",
    "        similarity_matrix = cosine_similarity(all_matrix, all_matrix)\n",
    "        \n",
    "        product_index = mapping[products_input[0]]\n",
    "        \n",
    "        #finding the 10 products with higher similarity score\n",
    "        similarity_score = list(enumerate(similarity_matrix[product_index]))\n",
    "        similarity_score = sorted(similarity_score, key=lambda x: x[1], reverse=True)\n",
    "        similarity_score = similarity_score[1:11]\n",
    "\n",
    "        product_indices = [i[0] for i in similarity_score]\n",
    "        \n",
    "        return (data_content['StockCode'].iloc[product_indices]).tolist() \n",
    "        \n",
    "    # After more than 1 item purchased, we consider all the items as one, so there's the need to concatenate all the strings and then add it to the dataframe to be fed to the model.\n",
    "    #Other than that, the process is the same as before.\n",
    "    elif 5 > len(products_input) > 1:           \n",
    "        for i in range(len(products_input)):\n",
    "            if i == 0:\n",
    "                prod_concat = data_content.All.iloc[mapping[products_input[i]]] \n",
    "            else:\n",
    "                prod_concat = prod_concat + ' ' + data_content.All.iloc[mapping[products_input[i]]]\n",
    "        \n",
    "        # Add input products concatenated \n",
    "        data_without_products_input = data_content['All'].append(pd.Series(prod_concat, index=[len(data_content)]))\n",
    "        \n",
    "        all_matrix = tfidf.fit_transform(data_without_products_input)\n",
    "        \n",
    "        similarity_matrix = cosine_similarity(all_matrix, all_matrix)\n",
    "\n",
    "        similarity_score = list(enumerate(similarity_matrix[-1]))\n",
    "        similarity_score = sorted(similarity_score, key=lambda x: x[1], reverse=True)\n",
    "        \n",
    "        product_indices = [i[0] for i in similarity_score]\n",
    "        product_indices = [x for x in product_indices if x not in product_index]\n",
    "        \n",
    "        return (data_content['StockCode'].iloc[product_indices[:10]]).tolist()        \n",
    "\n",
    "    else:\n",
    "        print('The number of input products must be 1, 2, 3 or 4')"
   ]
  },
  {
   "cell_type": "markdown",
   "metadata": {},
   "source": [
    "## Comparing Results"
   ]
  },
  {
   "cell_type": "code",
   "execution_count": 68,
   "metadata": {},
   "outputs": [],
   "source": [
    "#Comparing the Results obatined for the case where we don't recommend products already seen by the User\n",
    "#Note that the values are already in percentage\n",
    "evaluation_metrics_df_no_seen = pd.DataFrame(eval_removing_seen).T.rename(columns={0:\"MAP\", 1:\"NDCG\", 2:\"Precision\", 3:\"Recall\"})*100\n",
    "evaluation_metrics_df_no_seen= evaluation_metrics_df_no_seen.sort_values(\"MAP\", ascending=False)\n",
    "\n",
    "\n",
    "#Comparing the Results obatined for the case where we recommend products independently of a user having seen them already\n",
    "#Note that the values are already in percentage\n",
    "evaluation_metrics_df_seen = pd.DataFrame(eval_not_removing_seen).T.rename(columns={0:\"MAP\", 1:\"NDCG\", 2:\"Precision\", 3:\"Recall\"})*100\n",
    "\n",
    "evaluation_metrics_df_seen= evaluation_metrics_df_seen.sort_values(\"MAP\", ascending=False)\n"
   ]
  },
  {
   "cell_type": "code",
   "execution_count": 69,
   "metadata": {},
   "outputs": [
    {
     "data": {
      "text/html": [
       "<div>\n",
       "<style scoped>\n",
       "    .dataframe tbody tr th:only-of-type {\n",
       "        vertical-align: middle;\n",
       "    }\n",
       "\n",
       "    .dataframe tbody tr th {\n",
       "        vertical-align: top;\n",
       "    }\n",
       "\n",
       "    .dataframe thead th {\n",
       "        text-align: right;\n",
       "    }\n",
       "</style>\n",
       "<table border=\"1\" class=\"dataframe\">\n",
       "  <thead>\n",
       "    <tr style=\"text-align: right;\">\n",
       "      <th></th>\n",
       "      <th>MAP</th>\n",
       "      <th>NDCG</th>\n",
       "      <th>Precision</th>\n",
       "      <th>Recall</th>\n",
       "    </tr>\n",
       "  </thead>\n",
       "  <tbody>\n",
       "    <tr>\n",
       "      <th>ALS</th>\n",
       "      <td>6.881215</td>\n",
       "      <td>26.685047</td>\n",
       "      <td>24.195678</td>\n",
       "      <td>11.601598</td>\n",
       "    </tr>\n",
       "    <tr>\n",
       "      <th>BPR</th>\n",
       "      <td>5.479495</td>\n",
       "      <td>23.440967</td>\n",
       "      <td>21.296519</td>\n",
       "      <td>9.954017</td>\n",
       "    </tr>\n",
       "    <tr>\n",
       "      <th>BIVAE</th>\n",
       "      <td>3.006021</td>\n",
       "      <td>17.004193</td>\n",
       "      <td>15.846339</td>\n",
       "      <td>6.262884</td>\n",
       "    </tr>\n",
       "    <tr>\n",
       "      <th>POP</th>\n",
       "      <td>1.259209</td>\n",
       "      <td>10.008353</td>\n",
       "      <td>9.063625</td>\n",
       "      <td>2.976163</td>\n",
       "    </tr>\n",
       "  </tbody>\n",
       "</table>\n",
       "</div>"
      ],
      "text/plain": [
       "            MAP       NDCG  Precision     Recall\n",
       "ALS    6.881215  26.685047  24.195678  11.601598\n",
       "BPR    5.479495  23.440967  21.296519   9.954017\n",
       "BIVAE  3.006021  17.004193  15.846339   6.262884\n",
       "POP    1.259209  10.008353   9.063625   2.976163"
      ]
     },
     "execution_count": 69,
     "metadata": {},
     "output_type": "execute_result"
    }
   ],
   "source": [
    "evaluation_metrics_df_seen"
   ]
  },
  {
   "cell_type": "code",
   "execution_count": 70,
   "metadata": {},
   "outputs": [
    {
     "data": {
      "text/html": [
       "<div>\n",
       "<style scoped>\n",
       "    .dataframe tbody tr th:only-of-type {\n",
       "        vertical-align: middle;\n",
       "    }\n",
       "\n",
       "    .dataframe tbody tr th {\n",
       "        vertical-align: top;\n",
       "    }\n",
       "\n",
       "    .dataframe thead th {\n",
       "        text-align: right;\n",
       "    }\n",
       "</style>\n",
       "<table border=\"1\" class=\"dataframe\">\n",
       "  <thead>\n",
       "    <tr style=\"text-align: right;\">\n",
       "      <th></th>\n",
       "      <th>MAP</th>\n",
       "      <th>NDCG</th>\n",
       "      <th>Precision</th>\n",
       "      <th>Recall</th>\n",
       "    </tr>\n",
       "  </thead>\n",
       "  <tbody>\n",
       "    <tr>\n",
       "      <th>ALS</th>\n",
       "      <td>1.301262</td>\n",
       "      <td>8.720635</td>\n",
       "      <td>7.851140</td>\n",
       "      <td>2.899526</td>\n",
       "    </tr>\n",
       "    <tr>\n",
       "      <th>BPR</th>\n",
       "      <td>1.070507</td>\n",
       "      <td>7.477987</td>\n",
       "      <td>6.830732</td>\n",
       "      <td>2.398669</td>\n",
       "    </tr>\n",
       "    <tr>\n",
       "      <th>BIVAE</th>\n",
       "      <td>0.855389</td>\n",
       "      <td>6.630311</td>\n",
       "      <td>6.062425</td>\n",
       "      <td>2.093969</td>\n",
       "    </tr>\n",
       "    <tr>\n",
       "      <th>POP</th>\n",
       "      <td>0.424387</td>\n",
       "      <td>3.635823</td>\n",
       "      <td>3.391357</td>\n",
       "      <td>1.092110</td>\n",
       "    </tr>\n",
       "  </tbody>\n",
       "</table>\n",
       "</div>"
      ],
      "text/plain": [
       "            MAP      NDCG  Precision    Recall\n",
       "ALS    1.301262  8.720635   7.851140  2.899526\n",
       "BPR    1.070507  7.477987   6.830732  2.398669\n",
       "BIVAE  0.855389  6.630311   6.062425  2.093969\n",
       "POP    0.424387  3.635823   3.391357  1.092110"
      ]
     },
     "execution_count": 70,
     "metadata": {},
     "output_type": "execute_result"
    }
   ],
   "source": [
    "evaluation_metrics_df_no_seen"
   ]
  },
  {
   "cell_type": "code",
   "execution_count": 71,
   "metadata": {
    "scrolled": false
   },
   "outputs": [
    {
     "data": {
      "image/png": "[encoded data removed]",
      "text/plain": [
       "<Figure size 648x432 with 1 Axes>"
      ]
     },
     "metadata": {},
     "output_type": "display_data"
    }
   ],
   "source": [
    "#Plotting the Precision at K and MAP at K for the cases where we don't recommend products already seen by the user.\n",
    "\n",
    "models = evaluation_metrics_df_no_seen.index.to_list()\n",
    "map_at_k = list(evaluation_metrics_df_no_seen.MAP.values)\n",
    "precision_at_k = list(evaluation_metrics_df_no_seen.Precision.values)\n",
    "\n",
    "x_axis = np.arange(len(models))  \n",
    "width = 0.35\n",
    "\n",
    "fig, ax = plt.subplots()\n",
    "fig.set_figheight(6)\n",
    "fig.set_figwidth(9)\n",
    "\n",
    "bar_map = ax.bar(x_axis - width/2, map_at_k, width, label='Map at k')\n",
    "bar_precision = ax.bar(x_axis + width/2, precision_at_k, width, label='Precision at k', color='grey', alpha=0.6)\n",
    "\n",
    "ax.set_ylabel('Scores', size=13)\n",
    "ax.set_xlabel('Algorithms', size=13)\n",
    "ax.set_xticks(x_axis)\n",
    "ax.set_xticklabels(models, fontsize=11)\n",
    "ax.legend(fontsize=11.5)\n",
    "\n",
    "for rect in bar_map:\n",
    "    height = rect.get_height()\n",
    "    plt.text(rect.get_x() + rect.get_width()/2.0, height, str(round(height,2)) + '%', ha='center', va='bottom', fontsize=11)\n",
    "\n",
    "for rect in bar_precision:\n",
    "    height = rect.get_height()\n",
    "    plt.text(rect.get_x() + rect.get_width()/2.0, height, str(round(height,2)) + '%', ha='center', va='bottom', fontsize=11)\n",
    "ax.grid(False)\n",
    "\n",
    "fig.tight_layout()\n",
    "\n",
    "plt.show()"
   ]
  },
  {
   "cell_type": "code",
   "execution_count": 72,
   "metadata": {},
   "outputs": [
    {
     "data": {
      "image/png": "[encoded data removed]",
      "text/plain": [
       "<Figure size 648x432 with 1 Axes>"
      ]
     },
     "metadata": {},
     "output_type": "display_data"
    }
   ],
   "source": [
    "#Plotting the Precision at K and MAP at K for the cases where we recommend products independently of the user having seem them before or not.\n",
    "\n",
    "\n",
    "models = evaluation_metrics_df_seen.index.to_list()\n",
    "map_at_k = list(evaluation_metrics_df_seen.MAP.values)\n",
    "precision_at_k = list(evaluation_metrics_df_seen.Precision.values)\n",
    "\n",
    "x_axis = np.arange(len(models))  \n",
    "width = 0.35\n",
    "\n",
    "fig, ax = plt.subplots()\n",
    "fig.set_figheight(6)\n",
    "fig.set_figwidth(9)\n",
    "\n",
    "bar_map = ax.bar(x_axis - width/2, map_at_k, width, label='Map at k')\n",
    "bar_precision = ax.bar(x_axis + width/2, precision_at_k, width, label='Precision at k', color='grey', alpha=0.6)\n",
    "\n",
    "ax.set_ylabel('Scores', size=13)\n",
    "ax.set_xlabel('Algorithms', size=13)\n",
    "ax.set_xticks(x_axis)\n",
    "ax.set_xticklabels(models, fontsize=11)\n",
    "ax.legend(fontsize=11.5)\n",
    "\n",
    "for rect in bar_map:\n",
    "    height = rect.get_height()\n",
    "    plt.text(rect.get_x() + rect.get_width()/2.0, height, str(round(height,2)) + '%', ha='center', va='bottom', fontsize=11)\n",
    "\n",
    "for rect in bar_precision:\n",
    "    height = rect.get_height()\n",
    "    plt.text(rect.get_x() + rect.get_width()/2.0, height, str(round(height,2)) + '%', ha='center', va='bottom', fontsize=11)\n",
    "\n",
    "fig.tight_layout()\n",
    "ax.grid(False)\n",
    "plt.show()"
   ]
  },
  {
   "cell_type": "markdown",
   "metadata": {},
   "source": [
    "# Training the Model with all data"
   ]
  },
  {
   "cell_type": "code",
   "execution_count": 73,
   "metadata": {},
   "outputs": [
    {
     "data": {
      "application/vnd.jupyter.widget-view+json": {
       "model_id": "01c0ae5a7a394c439e8052d65d876dff",
       "version_major": 2,
       "version_minor": 0
      },
      "text/plain": [
       "HBox(children=(HTML(value=''), FloatProgress(value=0.0, max=500.0), HTML(value='')))"
      ]
     },
     "metadata": {},
     "output_type": "display_data"
    },
    {
     "name": "stdout",
     "output_type": "stream",
     "text": [
      "\n"
     ]
    }
   ],
   "source": [
    "#Repeating the same process we did before, but now we don't have the need to make any split between test and train sets.\n",
    "\n",
    "data_less_sparse_clean=data_less_sparse.copy()\n",
    "data_less_sparse_clean[\"Quantity\"]=data_less_sparse_clean[\"Quantity\"].apply(lambda x: 1)\n",
    "data_less_sparse_clean=data_less_sparse_clean.drop_duplicates()\n",
    "\n",
    "user_cat = data_less_sparse_clean['CustomerID'].astype('category')\n",
    "item_cat = data_less_sparse_clean['StockCode'].astype(\"category\")\n",
    "\n",
    "#The only change is here, where we use the Quantity variable, considering we now don't have the need to split between test and train\n",
    "item_user = coo_matrix((data_less_sparse_clean['Quantity'],\n",
    "                              (item_cat.cat.codes,\n",
    "                               user_cat.cat.codes))).tocsr()\n",
    "item_user.eliminate_zeros()  \n",
    "user_item = item_user.T\n",
    "\n",
    "user_map = dict(zip(user_cat, user_cat.cat.codes))\n",
    "item_map = dict(zip(item_cat, item_cat.cat.codes))\n",
    "\n",
    "os.environ['MKL_NUM_THREADS'] = '1'\n",
    "os.environ['OPENBLAS_NUM_THREADS'] = '1'\n",
    "\n",
    "alpha = 3\n",
    "als_model = AlternatingLeastSquares(factors=50, regularization=0.05, iterations=500, random_state=22)\n",
    "als_model.fit((item_user * alpha).astype('double'))\n",
    "\n",
    "\n",
    "als_final_predictions=pd.DataFrame(columns=[\"CustomerID\",\"StockCode\", \"prediction\"])\n",
    "\n",
    "i=0\n",
    "for user_id in data_less_sparse.CustomerID.unique():\n",
    "    cust_prods=data_less_sparse[data_less_sparse[\"CustomerID\"]==user_id][\"StockCode\"].unique()\n",
    "    recommendations = als_model.recommend(user_map[user_id], user_item, N=len(cust_prods)+11)\n",
    "    preds=list(map(lambda x: (get_keys(x[0], item_map), x[1]), recommendations))\n",
    "    preds_final=[i[0] for i in preds if i[0] not in cust_prods][:10]\n",
    "    values_scores=[i[1] for i in preds if i[0] in preds_final]\n",
    "    for ind, pred in enumerate(preds_final):\n",
    "        als_final_predictions.loc[i,\"CustomerID\"]=user_id\n",
    "        als_final_predictions.loc[i,\"StockCode\"]=pred\n",
    "        als_final_predictions.loc[i,\"prediction\"]=values_scores[ind]\n",
    "        i+=1"
   ]
  },
  {
   "cell_type": "code",
   "execution_count": 74,
   "metadata": {},
   "outputs": [],
   "source": [
    "#Computing the most popular items for all the database, not only for the data_less_sparse one.\n",
    "data_clean=data.copy()\n",
    "data_clean[\"Quantity\"]=data_clean[\"Quantity\"].apply(lambda x: 1)\n",
    "data_clean=data_clean.drop_duplicates()\n",
    "top_products_final=data_clean.groupby(\"StockCode\").sum().sort_values(\"Quantity\")[::-1].index.values"
   ]
  }
 ],
 "metadata": {
  "kernelspec": {
   "display_name": "Python 3",
   "language": "python",
   "name": "python3"
  },
  "language_info": {
   "codemirror_mode": {
    "name": "ipython",
    "version": 3
   },
   "file_extension": ".py",
   "mimetype": "text/x-python",
   "name": "python",
   "nbconvert_exporter": "python",
   "pygments_lexer": "ipython3",
   "version": "3.8.5"
  }
 },
 "nbformat": 4,
 "nbformat_minor": 4
}
